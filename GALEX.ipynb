{
 "cells": [
  {
   "cell_type": "code",
   "execution_count": 19,
   "id": "6976d404",
   "metadata": {
    "ExecuteTime": {
     "end_time": "2022-07-29T12:24:41.179789Z",
     "start_time": "2022-07-29T12:24:41.175151Z"
    }
   },
   "outputs": [],
   "source": [
    "from astroquery.mast import Catalogs\n",
    "import pandas as pd\n",
    "import astropy.units as u\n",
    "from astropy.coordinates import ICRS, SkyCoord\n",
    "import gPhoton"
   ]
  },
  {
   "cell_type": "code",
   "execution_count": 8,
   "id": "8319de2d",
   "metadata": {
    "ExecuteTime": {
     "end_time": "2022-07-29T11:52:38.868841Z",
     "start_time": "2022-07-29T11:52:38.859634Z"
    }
   },
   "outputs": [
    {
     "data": {
      "text/latex": [
       "$0.05 \\; \\mathrm{{}^{\\prime}}$"
      ],
      "text/plain": [
       "<Quantity 0.05 arcmin>"
      ]
     },
     "execution_count": 8,
     "metadata": {},
     "output_type": "execute_result"
    }
   ],
   "source": [
    "SEP_MAX: float = (3*u.arcsec).to(u.arcmin)\n",
    "SEP_MAX"
   ]
  },
  {
   "cell_type": "code",
   "execution_count": 3,
   "id": "f6427363",
   "metadata": {
    "ExecuteTime": {
     "end_time": "2022-07-29T11:50:40.150421Z",
     "start_time": "2022-07-29T11:50:40.105684Z"
    }
   },
   "outputs": [],
   "source": [
    "bss_candidates: pd.DataFrame = pd.read_csv('./bss_candidates.csv')"
   ]
  },
  {
   "cell_type": "code",
   "execution_count": 5,
   "id": "b1c89261",
   "metadata": {
    "ExecuteTime": {
     "end_time": "2022-07-29T11:51:14.479942Z",
     "start_time": "2022-07-29T11:51:14.459760Z"
    }
   },
   "outputs": [
    {
     "data": {
      "text/html": [
       "<div>\n",
       "<style scoped>\n",
       "    .dataframe tbody tr th:only-of-type {\n",
       "        vertical-align: middle;\n",
       "    }\n",
       "\n",
       "    .dataframe tbody tr th {\n",
       "        vertical-align: top;\n",
       "    }\n",
       "\n",
       "    .dataframe thead th {\n",
       "        text-align: right;\n",
       "    }\n",
       "</style>\n",
       "<table border=\"1\" class=\"dataframe\">\n",
       "  <thead>\n",
       "    <tr style=\"text-align: right;\">\n",
       "      <th></th>\n",
       "      <th>ra</th>\n",
       "      <th>dec</th>\n",
       "    </tr>\n",
       "  </thead>\n",
       "  <tbody>\n",
       "    <tr>\n",
       "      <th>21</th>\n",
       "      <td>10.849436</td>\n",
       "      <td>85.342409</td>\n",
       "    </tr>\n",
       "    <tr>\n",
       "      <th>23</th>\n",
       "      <td>11.089231</td>\n",
       "      <td>85.441673</td>\n",
       "    </tr>\n",
       "  </tbody>\n",
       "</table>\n",
       "</div>"
      ],
      "text/plain": [
       "           ra        dec\n",
       "21  10.849436  85.342409\n",
       "23  11.089231  85.441673"
      ]
     },
     "execution_count": 5,
     "metadata": {},
     "output_type": "execute_result"
    }
   ],
   "source": [
    "bss_candidates[bss_candidates.phot_variable_flag=='VARIABLE'][['ra', 'dec']]"
   ]
  },
  {
   "cell_type": "code",
   "execution_count": 10,
   "id": "9944adb1",
   "metadata": {
    "ExecuteTime": {
     "end_time": "2022-07-29T11:55:29.426213Z",
     "start_time": "2022-07-29T11:55:27.867175Z"
    }
   },
   "outputs": [],
   "source": [
    "catalog_data = Catalogs.query_object(f\"10.849436 85.342409\", catalog=\"Galex\").to_pandas()\n",
    "galex_obs = catalog_data[catalog_data.distance_arcmin<=SEP_MAX]"
   ]
  },
  {
   "cell_type": "code",
   "execution_count": 11,
   "id": "81bd55c1",
   "metadata": {
    "ExecuteTime": {
     "end_time": "2022-07-29T11:55:32.334352Z",
     "start_time": "2022-07-29T11:55:32.284833Z"
    }
   },
   "outputs": [
    {
     "data": {
      "text/html": [
       "<div>\n",
       "<style scoped>\n",
       "    .dataframe tbody tr th:only-of-type {\n",
       "        vertical-align: middle;\n",
       "    }\n",
       "\n",
       "    .dataframe tbody tr th {\n",
       "        vertical-align: top;\n",
       "    }\n",
       "\n",
       "    .dataframe thead th {\n",
       "        text-align: right;\n",
       "    }\n",
       "</style>\n",
       "<table border=\"1\" class=\"dataframe\">\n",
       "  <thead>\n",
       "    <tr style=\"text-align: right;\">\n",
       "      <th></th>\n",
       "      <th>distance_arcmin</th>\n",
       "      <th>objID</th>\n",
       "      <th>survey</th>\n",
       "      <th>ra</th>\n",
       "      <th>dec</th>\n",
       "      <th>band</th>\n",
       "      <th>fov_radius</th>\n",
       "      <th>IAUName</th>\n",
       "      <th>nuv_exptime</th>\n",
       "      <th>fuv_exptime</th>\n",
       "      <th>...</th>\n",
       "      <th>dec_cent</th>\n",
       "      <th>xCenter</th>\n",
       "      <th>yCenter</th>\n",
       "      <th>SSAPFitsFile</th>\n",
       "      <th>nuv_flux_auto</th>\n",
       "      <th>nuv_flux_aper_7</th>\n",
       "      <th>nuv_artifact</th>\n",
       "      <th>fuv_flux_auto</th>\n",
       "      <th>fuv_flux_aper_7</th>\n",
       "      <th>fuv_artifact</th>\n",
       "    </tr>\n",
       "  </thead>\n",
       "  <tbody>\n",
       "    <tr>\n",
       "      <th>0</th>\n",
       "      <td>0.003993</td>\n",
       "      <td>6387804305630430548</td>\n",
       "      <td>AIS</td>\n",
       "      <td>10.848643</td>\n",
       "      <td>85.342426</td>\n",
       "      <td>1</td>\n",
       "      <td>0.263764</td>\n",
       "      <td>GALEX J004323.6+852032</td>\n",
       "      <td>222.0</td>\n",
       "      <td>222.0</td>\n",
       "      <td>...</td>\n",
       "      <td>85.60591</td>\n",
       "      <td>2065.215</td>\n",
       "      <td>1668.37</td>\n",
       "      <td>NaN</td>\n",
       "      <td>1.725244</td>\n",
       "      <td>1.764668</td>\n",
       "      <td>0</td>\n",
       "      <td>NaN</td>\n",
       "      <td>NaN</td>\n",
       "      <td>0</td>\n",
       "    </tr>\n",
       "  </tbody>\n",
       "</table>\n",
       "<p>1 rows × 30 columns</p>\n",
       "</div>"
      ],
      "text/plain": [
       "   distance_arcmin                objID survey         ra        dec  band  \\\n",
       "0         0.003993  6387804305630430548    AIS  10.848643  85.342426     1   \n",
       "\n",
       "   fov_radius                 IAUName  nuv_exptime  fuv_exptime  ...  \\\n",
       "0    0.263764  GALEX J004323.6+852032        222.0        222.0  ...   \n",
       "\n",
       "   dec_cent   xCenter  yCenter  SSAPFitsFile  nuv_flux_auto  nuv_flux_aper_7  \\\n",
       "0  85.60591  2065.215  1668.37           NaN       1.725244         1.764668   \n",
       "\n",
       "   nuv_artifact  fuv_flux_auto  fuv_flux_aper_7  fuv_artifact  \n",
       "0             0            NaN              NaN             0  \n",
       "\n",
       "[1 rows x 30 columns]"
      ]
     },
     "execution_count": 11,
     "metadata": {},
     "output_type": "execute_result"
    }
   ],
   "source": [
    "galex_obs.head()"
   ]
  },
  {
   "cell_type": "code",
   "execution_count": 12,
   "id": "e315fe5f",
   "metadata": {
    "ExecuteTime": {
     "end_time": "2022-07-29T11:55:55.730128Z",
     "start_time": "2022-07-29T11:55:55.721866Z"
    }
   },
   "outputs": [
    {
     "data": {
      "text/plain": [
       "['distance_arcmin',\n",
       " 'objID',\n",
       " 'survey',\n",
       " 'ra',\n",
       " 'dec',\n",
       " 'band',\n",
       " 'fov_radius',\n",
       " 'IAUName',\n",
       " 'nuv_exptime',\n",
       " 'fuv_exptime',\n",
       " 'fuv_mag',\n",
       " 'fuv_magerr',\n",
       " 'nuv_mag',\n",
       " 'nuv_magerr',\n",
       " 'fuv_flux',\n",
       " 'fuv_fluxerr',\n",
       " 'nuv_flux',\n",
       " 'nuv_fluxerr',\n",
       " 'e_bv',\n",
       " 'ra_cent',\n",
       " 'dec_cent',\n",
       " 'xCenter',\n",
       " 'yCenter',\n",
       " 'SSAPFitsFile',\n",
       " 'nuv_flux_auto',\n",
       " 'nuv_flux_aper_7',\n",
       " 'nuv_artifact',\n",
       " 'fuv_flux_auto',\n",
       " 'fuv_flux_aper_7',\n",
       " 'fuv_artifact']"
      ]
     },
     "execution_count": 12,
     "metadata": {},
     "output_type": "execute_result"
    }
   ],
   "source": [
    "list(galex_obs.columns)"
   ]
  },
  {
   "cell_type": "code",
   "execution_count": 13,
   "id": "8ff7473f",
   "metadata": {
    "ExecuteTime": {
     "end_time": "2022-07-29T11:56:11.517623Z",
     "start_time": "2022-07-29T11:56:11.499759Z"
    }
   },
   "outputs": [
    {
     "data": {
      "text/html": [
       "<div>\n",
       "<style scoped>\n",
       "    .dataframe tbody tr th:only-of-type {\n",
       "        vertical-align: middle;\n",
       "    }\n",
       "\n",
       "    .dataframe tbody tr th {\n",
       "        vertical-align: top;\n",
       "    }\n",
       "\n",
       "    .dataframe thead th {\n",
       "        text-align: right;\n",
       "    }\n",
       "</style>\n",
       "<table border=\"1\" class=\"dataframe\">\n",
       "  <thead>\n",
       "    <tr style=\"text-align: right;\">\n",
       "      <th></th>\n",
       "      <th>fuv_mag</th>\n",
       "      <th>nuv_mag</th>\n",
       "    </tr>\n",
       "  </thead>\n",
       "  <tbody>\n",
       "    <tr>\n",
       "      <th>0</th>\n",
       "      <td>NaN</td>\n",
       "      <td>19.487873</td>\n",
       "    </tr>\n",
       "  </tbody>\n",
       "</table>\n",
       "</div>"
      ],
      "text/plain": [
       "   fuv_mag    nuv_mag\n",
       "0      NaN  19.487873"
      ]
     },
     "execution_count": 13,
     "metadata": {},
     "output_type": "execute_result"
    }
   ],
   "source": [
    "galex_obs[['fuv_mag', 'nuv_mag']]"
   ]
  },
  {
   "cell_type": "code",
   "execution_count": 24,
   "id": "a550707c",
   "metadata": {
    "ExecuteTime": {
     "end_time": "2022-07-29T12:29:30.326239Z",
     "start_time": "2022-07-29T12:29:05.397471Z"
    }
   },
   "outputs": [
    {
     "name": "stdout",
     "output_type": "stream",
     "text": [
      "NUV: 224.0s (raw) in 2 exposures.\n",
      "    [ 816095942.995, 816096052.995 ], 110.000 seconds\n",
      "    [ 816101856.995, 816101970.995 ], 114.000 seconds\n",
      "FUV: 224.0s (raw) in 2 exposures.\n",
      "    [ 816095942.995, 816096052.995 ], 110.000 seconds\n",
      "    [ 816101856.995, 816101970.995 ], 114.000 seconds\n"
     ]
    },
    {
     "data": {
      "text/plain": [
       "{'NUV': {'expt': 224.0,\n",
       "  't0': array([8.16095943e+08, 8.16101857e+08]),\n",
       "  't1': array([8.16096053e+08, 8.16101971e+08]),\n",
       "  'nearest_source': {'mag': 19.48787,\n",
       "   'skypos': [10.8486426369845, 85.3424257229218],\n",
       "   'distance': 6.655672776280487e-05}},\n",
       " 'FUV': {'expt': 224.0,\n",
       "  't0': array([8.16095943e+08, 8.16101857e+08]),\n",
       "  't1': array([8.16096053e+08, 8.16101971e+08]),\n",
       "  'nearest_source': {'mag': 21.56208,\n",
       "   'skypos': [11.2424433987202, 85.3600712663248],\n",
       "   'distance': 0.036421241212399515}}}"
      ]
     },
     "execution_count": 24,
     "metadata": {},
     "output_type": "execute_result"
    }
   ],
   "source": [
    "gPhoton.gFind(skypos=[10.849436, 85.342409])"
   ]
  },
  {
   "cell_type": "code",
   "execution_count": null,
   "id": "c5ce58eb",
   "metadata": {},
   "outputs": [],
   "source": []
  }
 ],
 "metadata": {
  "kernelspec": {
   "display_name": "Python 3 (ipykernel)",
   "language": "python",
   "name": "python3"
  },
  "language_info": {
   "codemirror_mode": {
    "name": "ipython",
    "version": 3
   },
   "file_extension": ".py",
   "mimetype": "text/x-python",
   "name": "python",
   "nbconvert_exporter": "python",
   "pygments_lexer": "ipython3",
   "version": "3.9.13"
  },
  "toc": {
   "base_numbering": 1,
   "nav_menu": {},
   "number_sections": true,
   "sideBar": true,
   "skip_h1_title": false,
   "title_cell": "Table of Contents",
   "title_sidebar": "Contents",
   "toc_cell": false,
   "toc_position": {},
   "toc_section_display": true,
   "toc_window_display": false
  },
  "varInspector": {
   "cols": {
    "lenName": 16,
    "lenType": 16,
    "lenVar": 40
   },
   "kernels_config": {
    "python": {
     "delete_cmd_postfix": "",
     "delete_cmd_prefix": "del ",
     "library": "var_list.py",
     "varRefreshCmd": "print(var_dic_list())"
    },
    "r": {
     "delete_cmd_postfix": ") ",
     "delete_cmd_prefix": "rm(",
     "library": "var_list.r",
     "varRefreshCmd": "cat(var_dic_list()) "
    }
   },
   "types_to_exclude": [
    "module",
    "function",
    "builtin_function_or_method",
    "instance",
    "_Feature"
   ],
   "window_display": false
  }
 },
 "nbformat": 4,
 "nbformat_minor": 5
}
