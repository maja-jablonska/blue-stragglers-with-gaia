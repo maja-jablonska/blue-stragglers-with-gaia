{
 "cells": [
  {
   "cell_type": "code",
   "execution_count": 115,
   "id": "9ff76bd1",
   "metadata": {
    "ExecuteTime": {
     "end_time": "2022-07-29T13:28:00.087352Z",
     "start_time": "2022-07-29T13:28:00.077558Z"
    }
   },
   "outputs": [],
   "source": [
    "import pandas as pd\n",
    "import astromet\n",
    "from scanninglaw import times\n",
    "from scanninglaw.config import config\n",
    "import matplotlib.pyplot as plt\n",
    "import emcee\n",
    "import corner\n",
    "from multiprocessing import Pool\n",
    "\n",
    "config['data_dir'] = '.'"
   ]
  },
  {
   "cell_type": "code",
   "execution_count": 3,
   "id": "d6ee1a78",
   "metadata": {
    "ExecuteTime": {
     "end_time": "2022-07-29T12:32:43.075048Z",
     "start_time": "2022-07-29T12:32:43.035867Z"
    }
   },
   "outputs": [],
   "source": [
    "bss_candidates = pd.DataFrame = pd.read_csv('./bss_candidates.csv')"
   ]
  },
  {
   "cell_type": "code",
   "execution_count": 6,
   "id": "69538b59",
   "metadata": {
    "ExecuteTime": {
     "end_time": "2022-07-29T12:33:02.161482Z",
     "start_time": "2022-07-29T12:33:02.155491Z"
    }
   },
   "outputs": [],
   "source": [
    "wierd_candidates = bss_candidates[bss_candidates.ruwe>1.4]"
   ]
  },
  {
   "cell_type": "code",
   "execution_count": 14,
   "id": "007139fe",
   "metadata": {
    "ExecuteTime": {
     "end_time": "2022-07-29T12:34:05.546741Z",
     "start_time": "2022-07-29T12:34:05.535185Z"
    }
   },
   "outputs": [
    {
     "data": {
      "text/plain": [
       "7     1.496976\n",
       "17    1.410349\n",
       "Name: ruwe, dtype: float64"
      ]
     },
     "execution_count": 14,
     "metadata": {},
     "output_type": "execute_result"
    }
   ],
   "source": [
    "wierd_candidates.ruwe"
   ]
  },
  {
   "cell_type": "code",
   "execution_count": 64,
   "id": "53a7fce0",
   "metadata": {
    "ExecuteTime": {
     "end_time": "2022-07-29T12:54:10.480328Z",
     "start_time": "2022-07-29T12:54:10.441345Z"
    }
   },
   "outputs": [
    {
     "data": {
      "text/html": [
       "<div>\n",
       "<style scoped>\n",
       "    .dataframe tbody tr th:only-of-type {\n",
       "        vertical-align: middle;\n",
       "    }\n",
       "\n",
       "    .dataframe tbody tr th {\n",
       "        vertical-align: top;\n",
       "    }\n",
       "\n",
       "    .dataframe thead th {\n",
       "        text-align: right;\n",
       "    }\n",
       "</style>\n",
       "<table border=\"1\" class=\"dataframe\">\n",
       "  <thead>\n",
       "    <tr style=\"text-align: right;\">\n",
       "      <th></th>\n",
       "      <th>H</th>\n",
       "      <th>H_error</th>\n",
       "      <th>J</th>\n",
       "      <th>J_error</th>\n",
       "      <th>K</th>\n",
       "      <th>K_error</th>\n",
       "      <th>source_id</th>\n",
       "      <th>twomass_id</th>\n",
       "      <th>g</th>\n",
       "      <th>g_error</th>\n",
       "      <th>...</th>\n",
       "      <th>A_K</th>\n",
       "      <th>BP-RP</th>\n",
       "      <th>BP-RP_error</th>\n",
       "      <th>G_abs</th>\n",
       "      <th>G_abs_error</th>\n",
       "      <th>g-r</th>\n",
       "      <th>g-r_error</th>\n",
       "      <th>g_abs</th>\n",
       "      <th>g_abs_error</th>\n",
       "      <th>outlier</th>\n",
       "    </tr>\n",
       "  </thead>\n",
       "  <tbody>\n",
       "    <tr>\n",
       "      <th>7</th>\n",
       "      <td>12.315</td>\n",
       "      <td>0.051</td>\n",
       "      <td>12.477</td>\n",
       "      <td>0.033</td>\n",
       "      <td>12.252</td>\n",
       "      <td>0.030</td>\n",
       "      <td>573939954395446016</td>\n",
       "      <td>00490340+8515251</td>\n",
       "      <td>13.6291</td>\n",
       "      <td>0.004411</td>\n",
       "      <td>...</td>\n",
       "      <td>0.112567</td>\n",
       "      <td>0.486820</td>\n",
       "      <td>0.000990</td>\n",
       "      <td>1.706961</td>\n",
       "      <td>0.063146</td>\n",
       "      <td>-0.067172</td>\n",
       "      <td>0.004411</td>\n",
       "      <td>0.974384</td>\n",
       "      <td>0.063299</td>\n",
       "      <td>-1</td>\n",
       "    </tr>\n",
       "    <tr>\n",
       "      <th>17</th>\n",
       "      <td>13.157</td>\n",
       "      <td>0.035</td>\n",
       "      <td>13.349</td>\n",
       "      <td>0.029</td>\n",
       "      <td>13.051</td>\n",
       "      <td>0.035</td>\n",
       "      <td>573942943692668416</td>\n",
       "      <td>00471341+8516398</td>\n",
       "      <td>14.7634</td>\n",
       "      <td>0.000315</td>\n",
       "      <td>...</td>\n",
       "      <td>0.112567</td>\n",
       "      <td>0.628606</td>\n",
       "      <td>0.001432</td>\n",
       "      <td>2.873883</td>\n",
       "      <td>0.076728</td>\n",
       "      <td>0.037928</td>\n",
       "      <td>0.002767</td>\n",
       "      <td>2.244449</td>\n",
       "      <td>0.076729</td>\n",
       "      <td>-1</td>\n",
       "    </tr>\n",
       "  </tbody>\n",
       "</table>\n",
       "<p>2 rows × 195 columns</p>\n",
       "</div>"
      ],
      "text/plain": [
       "         H  H_error       J  J_error       K  K_error           source_id  \\\n",
       "7   12.315    0.051  12.477    0.033  12.252    0.030  573939954395446016   \n",
       "17  13.157    0.035  13.349    0.029  13.051    0.035  573942943692668416   \n",
       "\n",
       "          twomass_id        g   g_error  ...       A_K     BP-RP  BP-RP_error  \\\n",
       "7   00490340+8515251  13.6291  0.004411  ...  0.112567  0.486820     0.000990   \n",
       "17  00471341+8516398  14.7634  0.000315  ...  0.112567  0.628606     0.001432   \n",
       "\n",
       "       G_abs  G_abs_error       g-r  g-r_error     g_abs  g_abs_error  outlier  \n",
       "7   1.706961     0.063146 -0.067172   0.004411  0.974384     0.063299       -1  \n",
       "17  2.873883     0.076728  0.037928   0.002767  2.244449     0.076729       -1  \n",
       "\n",
       "[2 rows x 195 columns]"
      ]
     },
     "execution_count": 64,
     "metadata": {},
     "output_type": "execute_result"
    }
   ],
   "source": [
    "wierd_candidates"
   ]
  },
  {
   "cell_type": "code",
   "execution_count": 47,
   "id": "6245c77b",
   "metadata": {
    "ExecuteTime": {
     "end_time": "2022-07-29T12:48:53.162332Z",
     "start_time": "2022-07-29T12:48:53.136306Z"
    }
   },
   "outputs": [
    {
     "data": {
      "text/html": [
       "<div>\n",
       "<style scoped>\n",
       "    .dataframe tbody tr th:only-of-type {\n",
       "        vertical-align: middle;\n",
       "    }\n",
       "\n",
       "    .dataframe tbody tr th {\n",
       "        vertical-align: top;\n",
       "    }\n",
       "\n",
       "    .dataframe thead th {\n",
       "        text-align: right;\n",
       "    }\n",
       "</style>\n",
       "<table border=\"1\" class=\"dataframe\">\n",
       "  <thead>\n",
       "    <tr style=\"text-align: right;\">\n",
       "      <th></th>\n",
       "      <th>ra</th>\n",
       "      <th>dec</th>\n",
       "      <th>pmra</th>\n",
       "      <th>pmdec</th>\n",
       "      <th>parallax</th>\n",
       "      <th>G</th>\n",
       "    </tr>\n",
       "  </thead>\n",
       "  <tbody>\n",
       "    <tr>\n",
       "      <th>7</th>\n",
       "      <td>12.264081</td>\n",
       "      <td>85.257001</td>\n",
       "      <td>-2.260835</td>\n",
       "      <td>-1.011430</td>\n",
       "      <td>0.538017</td>\n",
       "      <td>13.358162</td>\n",
       "    </tr>\n",
       "    <tr>\n",
       "      <th>17</th>\n",
       "      <td>11.805922</td>\n",
       "      <td>85.277745</td>\n",
       "      <td>-2.294059</td>\n",
       "      <td>-1.041704</td>\n",
       "      <td>0.572729</td>\n",
       "      <td>14.389319</td>\n",
       "    </tr>\n",
       "  </tbody>\n",
       "</table>\n",
       "</div>"
      ],
      "text/plain": [
       "           ra        dec      pmra     pmdec  parallax          G\n",
       "7   12.264081  85.257001 -2.260835 -1.011430  0.538017  13.358162\n",
       "17  11.805922  85.277745 -2.294059 -1.041704  0.572729  14.389319"
      ]
     },
     "execution_count": 47,
     "metadata": {},
     "output_type": "execute_result"
    }
   ],
   "source": [
    "wierd_candidates[['ra', 'dec', 'pmra', 'pmdec', 'parallax', 'G']]"
   ]
  },
  {
   "cell_type": "code",
   "execution_count": 93,
   "id": "5548e4fd",
   "metadata": {
    "ExecuteTime": {
     "end_time": "2022-07-29T13:16:14.137131Z",
     "start_time": "2022-07-29T13:16:14.129657Z"
    }
   },
   "outputs": [],
   "source": [
    "REAL_DATA = wierd_candidates[['parallax', 'pmra', 'pmdec', 'parallax_error', 'pmra_error', 'pmdec_error', 'astrometric_excess_noise']].values[0]"
   ]
  },
  {
   "cell_type": "code",
   "execution_count": 94,
   "id": "e89a8943",
   "metadata": {
    "ExecuteTime": {
     "end_time": "2022-07-29T13:16:14.743150Z",
     "start_time": "2022-07-29T13:16:14.735098Z"
    }
   },
   "outputs": [
    {
     "data": {
      "text/plain": [
       "array([ 0.53801712, -2.26083525, -1.01143032,  0.01564525,  0.01927799,\n",
       "        0.01784258,  0.1290149 ])"
      ]
     },
     "execution_count": 94,
     "metadata": {},
     "output_type": "execute_result"
    }
   ],
   "source": [
    "REAL_DATA"
   ]
  },
  {
   "cell_type": "code",
   "execution_count": 48,
   "id": "dba181af",
   "metadata": {
    "ExecuteTime": {
     "end_time": "2022-07-29T12:48:58.605474Z",
     "start_time": "2022-07-29T12:48:58.599023Z"
    }
   },
   "outputs": [],
   "source": [
    "RA = 12.264081\n",
    "DEC = 85.257001\n",
    "PMRA = -2.260835\n",
    "PMDEC = -1.011430\n",
    "PARALLAX = 0.538017\n",
    "MAG = 13.358162"
   ]
  },
  {
   "cell_type": "code",
   "execution_count": 30,
   "id": "f3bfe668",
   "metadata": {
    "ExecuteTime": {
     "end_time": "2022-07-29T12:40:08.050826Z",
     "start_time": "2022-07-29T12:39:04.750610Z"
    }
   },
   "outputs": [
    {
     "name": "stderr",
     "output_type": "stream",
     "text": [
      "  1.5 MiB of 543.4 MiB |  14.5 MiB/s |                  |   0% | ETA:   0:00:37"
     ]
    },
    {
     "name": "stdout",
     "output_type": "stream",
     "text": [
      "Downloading /home/mjablons/blue/cog/CommandedScanLaw_001.csv.gz\n"
     ]
    },
    {
     "name": "stderr",
     "output_type": "stream",
     "text": [
      "543.4 MiB of 543.4 MiB |  17.2 MiB/s |##################| 100% | ETA:  00:00:00"
     ]
    },
    {
     "name": "stdout",
     "output_type": "stream",
     "text": [
      "\n"
     ]
    }
   ],
   "source": [
    "times.fetch(version='dr3_nominal')"
   ]
  },
  {
   "cell_type": "code",
   "execution_count": 31,
   "id": "aafec324",
   "metadata": {
    "ExecuteTime": {
     "end_time": "2022-07-29T12:41:08.693717Z",
     "start_time": "2022-07-29T12:40:08.191299Z"
    }
   },
   "outputs": [
    {
     "name": "stdout",
     "output_type": "stream",
     "text": [
      "Loading auxilliary data ...\n",
      "t = 60.461 s\n",
      "  auxilliary:  32.410 s\n",
      "          sf:  10.883 s\n",
      "interpolator:  17.167 s\n"
     ]
    }
   ],
   "source": [
    "dr3_sl = times.Times(version='dr3_nominal')"
   ]
  },
  {
   "cell_type": "code",
   "execution_count": 32,
   "id": "0f4dce62",
   "metadata": {
    "ExecuteTime": {
     "end_time": "2022-07-29T12:41:59.499796Z",
     "start_time": "2022-07-29T12:41:59.491010Z"
    }
   },
   "outputs": [],
   "source": [
    "def times_phis(ra, dec):\n",
    "    c=scanninglaw.source.Source(ra,dec,unit='deg')\n",
    "\n",
    "    sl=dr3_sl(c, return_times=True, return_angles=True)\n",
    "\n",
    "    ts=np.squeeze(np.hstack(sl['times'])).astype('double')\n",
    "    sort=np.argsort(ts)\n",
    "    ts=2010+ts[sort]/365.25\n",
    "    phis=np.squeeze(np.hstack(sl['angles']))[sort].astype('double')\n",
    "    return ts, phis"
   ]
  },
  {
   "cell_type": "code",
   "execution_count": 35,
   "id": "995ef278",
   "metadata": {
    "ExecuteTime": {
     "end_time": "2022-07-29T12:42:33.316606Z",
     "start_time": "2022-07-29T12:42:33.235720Z"
    }
   },
   "outputs": [
    {
     "data": {
      "text/plain": [
       "(array([2014.65587507, 2014.65607769, 2014.86554964, 2014.86575225,\n",
       "        2014.91483269, 2015.17400503, 2015.25562504, 2015.25610733,\n",
       "        2015.33959062, 2015.53119553, 2015.53139815, 2015.63177094,\n",
       "        2015.72548553, 2015.72568815, 2015.79254783, 2015.89851373,\n",
       "        2015.94574447, 2016.05169848, 2016.0519011 , 2016.11007158,\n",
       "        2016.11055387, 2016.20561602, 2016.20581864, 2016.29455797,\n",
       "        2016.37531369, 2016.37551631, 2016.49026062, 2016.49046324,\n",
       "        2016.57170428, 2016.5719069 , 2016.76187513, 2016.76207775,\n",
       "        2016.8229853 , 2016.82346759, 2016.93010877, 2016.93031139,\n",
       "        2016.97733982, 2017.0819327 , 2017.08213532, 2017.14524804,\n",
       "        2017.33385305, 2017.33405567]),\n",
       " array([ 167.65607854,  170.90083456,   12.16475688,   15.69997236,\n",
       "          72.16098535, -109.4761215 ,  -44.27462844,  -49.8795099 ,\n",
       "        -163.6922817 ,  129.59864198,  127.68656128,  178.04716353,\n",
       "          55.80691176,   57.82059528,  124.25049693,    4.27243148,\n",
       "          59.30120033,  -64.4006702 ,  -62.69475055,    5.83255144,\n",
       "          -3.13584646, -119.89858003, -121.9216162 ,  -62.2418291 ,\n",
       "        -171.84837261, -174.61748692, -138.65670369, -137.0165316 ,\n",
       "         111.36281714,  110.16163435,   44.69445115,   47.28966153,\n",
       "         109.89150854,  113.26047493,  -12.91771569,   -9.36377149,\n",
       "          45.70891991,  -75.16604112,  -74.07735341,   -5.55414394,\n",
       "         -76.95945976,  -77.72853253]))"
      ]
     },
     "execution_count": 35,
     "metadata": {},
     "output_type": "execute_result"
    }
   ],
   "source": [
    "times_phis(RA, DEC)"
   ]
  },
  {
   "cell_type": "code",
   "execution_count": 132,
   "id": "01eebc46",
   "metadata": {
    "ExecuteTime": {
     "end_time": "2022-07-29T13:33:28.565669Z",
     "start_time": "2022-07-29T13:33:28.540666Z"
    }
   },
   "outputs": [],
   "source": [
    "params=astromet.params()\n",
    "\n",
    "params.ra=RA\n",
    "params.dec=DEC\n",
    "params.drac=0\n",
    "params.ddec=0\n",
    "params.pmrac=PMRA\n",
    "params.pmdec=PMDEC\n",
    "params.parallax=PARALLAX\n",
    "\n",
    "ts, phis = times_phis(RA, DEC)\n",
    "al_error=astromet.sigma_ast(MAG)\n",
    "errs=np.repeat(al_error*np.random.randn(phis.size), 9)\n",
    "\n",
    "def mock_obs_vec(period, a, e, q, l):\n",
    "    global params\n",
    "    params.period=period\n",
    "    params.a=a\n",
    "    params.e=e\n",
    "    params.q=q\n",
    "    params.l=l\n",
    "\n",
    "    params.vphi=4.5\n",
    "    params.vtheta=1.5\n",
    "    params.vomega=5.6\n",
    "\n",
    "    params.tperi=2016\n",
    "    \n",
    "    racs, decs = astromet.track(ts, params)\n",
    "\n",
    "    t_obs, x_obs, phi_obs, rac_obs, dec_obs = astromet.mock_obs(ts, phis, racs, decs, err=errs)\n",
    "    results = astromet.fit(t_obs, x_obs, phi_obs, al_error, RA, DEC)\n",
    "    \n",
    "    return np.array([results['parallax'], results['pmrac'], results['pmdec'],\n",
    "                     results['parallax_error'], results['pmrac_error'], results['pmdec_error'],\n",
    "                     results['excess_noise']])"
   ]
  },
  {
   "cell_type": "code",
   "execution_count": 133,
   "id": "438736d9",
   "metadata": {
    "ExecuteTime": {
     "end_time": "2022-07-29T13:33:28.943479Z",
     "start_time": "2022-07-29T13:33:28.792577Z"
    }
   },
   "outputs": [
    {
     "data": {
      "text/plain": [
       "array([ 0.52552006, -2.31080777, -1.01741942,  0.01130771,  0.0147267 ,\n",
       "        0.0135514 ,  0.        ])"
      ]
     },
     "execution_count": 133,
     "metadata": {},
     "output_type": "execute_result"
    }
   ],
   "source": [
    "mock_obs_vec(2, 1, 0.5, .8, .1)"
   ]
  },
  {
   "cell_type": "code",
   "execution_count": 134,
   "id": "c0dff344",
   "metadata": {
    "ExecuteTime": {
     "end_time": "2022-07-29T13:33:30.848882Z",
     "start_time": "2022-07-29T13:33:30.842163Z"
    }
   },
   "outputs": [],
   "source": [
    "def log_prior(theta):\n",
    "    if np.any(theta<0):\n",
    "        return -np.inf\n",
    "    return 0.0"
   ]
  },
  {
   "cell_type": "code",
   "execution_count": 135,
   "id": "cb8820dd",
   "metadata": {
    "ExecuteTime": {
     "end_time": "2022-07-29T13:33:31.173607Z",
     "start_time": "2022-07-29T13:33:31.166570Z"
    }
   },
   "outputs": [],
   "source": [
    "def log_likelihood(theta):\n",
    "    y = mock_obs_vec(*theta)\n",
    "    return -0.5 * np.sum(((y - REAL_DATA)/REAL_DATA) ** 2)"
   ]
  },
  {
   "cell_type": "code",
   "execution_count": 136,
   "id": "0bc6040c",
   "metadata": {
    "ExecuteTime": {
     "end_time": "2022-07-29T13:33:32.434342Z",
     "start_time": "2022-07-29T13:33:32.428672Z"
    }
   },
   "outputs": [],
   "source": [
    "def log_probability(theta):\n",
    "    prob = log_prior(theta)+log_likelihood(theta)\n",
    "    if np.isnan(prob):\n",
    "        return -np.inf\n",
    "    else:\n",
    "        return prob"
   ]
  },
  {
   "cell_type": "code",
   "execution_count": 143,
   "id": "db413644",
   "metadata": {
    "ExecuteTime": {
     "end_time": "2022-07-29T14:28:52.088579Z",
     "start_time": "2022-07-29T13:41:59.755834Z"
    },
    "scrolled": true
   },
   "outputs": [
    {
     "name": "stderr",
     "output_type": "stream",
     "text": [
      "/home/mjablons/.local/lib/python3.9/site-packages/astromet/tracks.py:382: RuntimeWarning: invalid value encountered in sqrt\n",
      "  phis = 2*np.arctan(np.sqrt((1+e)/(1-e))*np.tan(etas/2)) % (2*np.pi)\n",
      "/home/mjablons/.local/lib/python3.9/site-packages/astromet/tracks.py:382: RuntimeWarning: invalid value encountered in sqrt\n",
      "  phis = 2*np.arctan(np.sqrt((1+e)/(1-e))*np.tan(etas/2)) % (2*np.pi)\n",
      "/home/mjablons/.local/lib/python3.9/site-packages/astromet/tracks.py:382: RuntimeWarning: invalid value encountered in sqrt\n",
      "  phis = 2*np.arctan(np.sqrt((1+e)/(1-e))*np.tan(etas/2)) % (2*np.pi)\n",
      "  0%|                                                  | 0/1000 [00:00<?, ?it/s]/home/mjablons/.local/lib/python3.9/site-packages/astromet/tracks.py:382: RuntimeWarning: invalid value encountered in sqrt\n",
      "  phis = 2*np.arctan(np.sqrt((1+e)/(1-e))*np.tan(etas/2)) % (2*np.pi)\n",
      "/home/mjablons/.local/lib/python3.9/site-packages/emcee/moves/red_blue.py:99: RuntimeWarning: invalid value encountered in double_scalars\n",
      "  lnpdiff = f + nlp - state.log_prob[j]\n",
      "100%|███████████████████████████████████████| 1000/1000 [46:49<00:00,  2.81s/it]\n"
     ]
    }
   ],
   "source": [
    "nwalkers, ndim = 25, 5\n",
    "\n",
    "sigmas = np.random.normal(size=(nwalkers, ndim))\n",
    "\n",
    "with Pool() as pool:\n",
    "    sampler = emcee.EnsembleSampler(\n",
    "        nwalkers, ndim, log_probability, pool=pool,\n",
    "    )\n",
    "    sampler.run_mcmc(np.array([2., 1., 0.5, .5, .5])+sigmas, 1000, progress=True);"
   ]
  },
  {
   "cell_type": "code",
   "execution_count": 148,
   "id": "ed598c99",
   "metadata": {
    "ExecuteTime": {
     "end_time": "2022-07-29T14:33:44.174533Z",
     "start_time": "2022-07-29T14:33:43.848784Z"
    }
   },
   "outputs": [],
   "source": [
    "np.savetxt('mcmc_samples.dat', sampler.get_chain().reshape((-1, 5)))"
   ]
  },
  {
   "cell_type": "code",
   "execution_count": 149,
   "id": "e17498b1",
   "metadata": {
    "ExecuteTime": {
     "end_time": "2022-07-29T14:34:03.580212Z",
     "start_time": "2022-07-29T14:34:03.572949Z"
    }
   },
   "outputs": [
    {
     "data": {
      "text/plain": [
       "(1000, 25, 5)"
      ]
     },
     "execution_count": 149,
     "metadata": {},
     "output_type": "execute_result"
    }
   ],
   "source": [
    "sampler.get_chain().shape"
   ]
  },
  {
   "cell_type": "code",
   "execution_count": 156,
   "id": "ed17eba2",
   "metadata": {
    "ExecuteTime": {
     "end_time": "2022-07-29T14:35:16.335865Z",
     "start_time": "2022-07-29T14:35:16.331468Z"
    }
   },
   "outputs": [],
   "source": [
    "chain = sampler.get_chain()[500:, :, :].reshape((-1, 5))"
   ]
  },
  {
   "cell_type": "code",
   "execution_count": 157,
   "id": "1d950de2",
   "metadata": {
    "ExecuteTime": {
     "end_time": "2022-07-29T14:35:23.422273Z",
     "start_time": "2022-07-29T14:35:23.403844Z"
    }
   },
   "outputs": [
    {
     "data": {
      "text/plain": [
       "(12500, 5)"
      ]
     },
     "execution_count": 157,
     "metadata": {},
     "output_type": "execute_result"
    }
   ],
   "source": [
    "chain.shape"
   ]
  },
  {
   "cell_type": "code",
   "execution_count": 158,
   "id": "882e77c5",
   "metadata": {
    "ExecuteTime": {
     "end_time": "2022-07-29T14:35:26.572685Z",
     "start_time": "2022-07-29T14:35:24.234840Z"
    }
   },
   "outputs": [
    {
     "name": "stderr",
     "output_type": "stream",
     "text": [
      "WARNING:root:Too few points to create valid contours\n",
      "WARNING:root:Too few points to create valid contours\n",
      "WARNING:root:Too few points to create valid contours\n",
      "WARNING:root:Too few points to create valid contours\n",
      "WARNING:root:Too few points to create valid contours\n",
      "WARNING:root:Too few points to create valid contours\n"
     ]
    },
    {
     "data": {
      "image/png": "[encoded data removed]",
      "text/plain": [
       "<Figure size 849.6x849.6 with 25 Axes>"
      ]
     },
     "metadata": {
      "needs_background": "light"
     },
     "output_type": "display_data"
    }
   ],
   "source": [
    "corner.corner(chain);"
   ]
  },
  {
   "cell_type": "code",
   "execution_count": 161,
   "id": "fa639eb8",
   "metadata": {
    "ExecuteTime": {
     "end_time": "2022-07-29T14:36:16.009850Z",
     "start_time": "2022-07-29T14:36:15.996635Z"
    }
   },
   "outputs": [
    {
     "data": {
      "text/plain": [
       "array([[7.38362088e+15, 6.07118485e+16, 1.06605069e-01, 6.31529345e+16,\n",
       "        3.24800953e+16],\n",
       "       [2.18333801e+22, 1.90244491e+23, 5.94274055e-01, 9.31515106e+22,\n",
       "        6.77184252e+22],\n",
       "       [3.22173029e+25, 3.49785936e+27, 9.21647967e-01, 1.43320692e+28,\n",
       "        6.20004466e+27]])"
      ]
     },
     "execution_count": 161,
     "metadata": {},
     "output_type": "execute_result"
    }
   ],
   "source": [
    "np.quantile(chain, [0.16, 0.5, 0.84], axis=0)"
   ]
  },
  {
   "cell_type": "code",
   "execution_count": null,
   "id": "4e9282ba",
   "metadata": {},
   "outputs": [],
   "source": []
  }
 ],
 "metadata": {
  "kernelspec": {
   "display_name": "Python 3 (ipykernel)",
   "language": "python",
   "name": "python3"
  },
  "language_info": {
   "codemirror_mode": {
    "name": "ipython",
    "version": 3
   },
   "file_extension": ".py",
   "mimetype": "text/x-python",
   "name": "python",
   "nbconvert_exporter": "python",
   "pygments_lexer": "ipython3",
   "version": "3.9.13"
  },
  "toc": {
   "base_numbering": 1,
   "nav_menu": {},
   "number_sections": true,
   "sideBar": true,
   "skip_h1_title": false,
   "title_cell": "Table of Contents",
   "title_sidebar": "Contents",
   "toc_cell": false,
   "toc_position": {},
   "toc_section_display": true,
   "toc_window_display": false
  },
  "varInspector": {
   "cols": {
    "lenName": 16,
    "lenType": 16,
    "lenVar": 40
   },
   "kernels_config": {
    "python": {
     "delete_cmd_postfix": "",
     "delete_cmd_prefix": "del ",
     "library": "var_list.py",
     "varRefreshCmd": "print(var_dic_list())"
    },
    "r": {
     "delete_cmd_postfix": ") ",
     "delete_cmd_prefix": "rm(",
     "library": "var_list.r",
     "varRefreshCmd": "cat(var_dic_list()) "
    }
   },
   "types_to_exclude": [
    "module",
    "function",
    "builtin_function_or_method",
    "instance",
    "_Feature"
   ],
   "window_display": false
  }
 },
 "nbformat": 4,
 "nbformat_minor": 5
}
