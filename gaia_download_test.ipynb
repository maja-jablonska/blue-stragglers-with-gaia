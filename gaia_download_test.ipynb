{
 "cells": [
  {
   "cell_type": "code",
   "execution_count": 2,
   "metadata": {
    "ExecuteTime": {
     "end_time": "2022-07-06T07:51:51.543881Z",
     "start_time": "2022-07-06T07:51:51.539033Z"
    },
    "init_cell": true
   },
   "outputs": [],
   "source": [
    "from gaia_download import get_sources_by_random_index"
   ]
  },
  {
   "cell_type": "code",
   "execution_count": 6,
   "metadata": {
    "ExecuteTime": {
     "end_time": "2022-07-06T07:52:01.298560Z",
     "start_time": "2022-07-06T07:51:55.866805Z"
    },
    "init_cell": true
   },
   "outputs": [],
   "source": [
    "from sklearn.cluster import DBSCAN\n",
    "from sklearn import metrics"
   ]
  },
  {
   "cell_type": "code",
   "execution_count": 3,
   "metadata": {
    "ExecuteTime": {
     "end_time": "2022-07-06T07:51:52.762741Z",
     "start_time": "2022-07-06T07:51:51.880289Z"
    }
   },
   "outputs": [
    {
     "data": {
      "text/html": [
       "<div>\n",
       "<style scoped>\n",
       "    .dataframe tbody tr th:only-of-type {\n",
       "        vertical-align: middle;\n",
       "    }\n",
       "\n",
       "    .dataframe tbody tr th {\n",
       "        vertical-align: top;\n",
       "    }\n",
       "\n",
       "    .dataframe thead th {\n",
       "        text-align: right;\n",
       "    }\n",
       "</style>\n",
       "<table border=\"1\" class=\"dataframe\">\n",
       "  <thead>\n",
       "    <tr style=\"text-align: right;\">\n",
       "      <th></th>\n",
       "      <th>source_id</th>\n",
       "      <th>ra</th>\n",
       "      <th>dec</th>\n",
       "      <th>parallax</th>\n",
       "      <th>parallax_error</th>\n",
       "      <th>pmra</th>\n",
       "      <th>pmra_error</th>\n",
       "      <th>pmdec</th>\n",
       "      <th>pmdec_error</th>\n",
       "    </tr>\n",
       "  </thead>\n",
       "  <tbody>\n",
       "    <tr>\n",
       "      <th>0</th>\n",
       "      <td>1846165132110522496</td>\n",
       "      <td>315.573464</td>\n",
       "      <td>28.821774</td>\n",
       "      <td>-0.035718</td>\n",
       "      <td>0.258022</td>\n",
       "      <td>-3.358419</td>\n",
       "      <td>0.230772</td>\n",
       "      <td>-3.638325</td>\n",
       "      <td>0.250024</td>\n",
       "    </tr>\n",
       "    <tr>\n",
       "      <th>1</th>\n",
       "      <td>4117766192454139136</td>\n",
       "      <td>262.669872</td>\n",
       "      <td>-21.802989</td>\n",
       "      <td>NaN</td>\n",
       "      <td>NaN</td>\n",
       "      <td>NaN</td>\n",
       "      <td>NaN</td>\n",
       "      <td>NaN</td>\n",
       "      <td>NaN</td>\n",
       "    </tr>\n",
       "    <tr>\n",
       "      <th>2</th>\n",
       "      <td>4064421015002065280</td>\n",
       "      <td>270.311275</td>\n",
       "      <td>-25.195034</td>\n",
       "      <td>NaN</td>\n",
       "      <td>NaN</td>\n",
       "      <td>NaN</td>\n",
       "      <td>NaN</td>\n",
       "      <td>NaN</td>\n",
       "      <td>NaN</td>\n",
       "    </tr>\n",
       "    <tr>\n",
       "      <th>3</th>\n",
       "      <td>2225828455686043264</td>\n",
       "      <td>346.270569</td>\n",
       "      <td>70.357978</td>\n",
       "      <td>0.155591</td>\n",
       "      <td>0.082792</td>\n",
       "      <td>-3.484440</td>\n",
       "      <td>0.091961</td>\n",
       "      <td>-0.821103</td>\n",
       "      <td>0.086819</td>\n",
       "    </tr>\n",
       "    <tr>\n",
       "      <th>4</th>\n",
       "      <td>5410015508420486144</td>\n",
       "      <td>143.434324</td>\n",
       "      <td>-48.747868</td>\n",
       "      <td>0.130303</td>\n",
       "      <td>0.036939</td>\n",
       "      <td>-3.811446</td>\n",
       "      <td>0.040957</td>\n",
       "      <td>3.690097</td>\n",
       "      <td>0.037938</td>\n",
       "    </tr>\n",
       "  </tbody>\n",
       "</table>\n",
       "</div>"
      ],
      "text/plain": [
       "             source_id          ra        dec  parallax  parallax_error  \\\n",
       "0  1846165132110522496  315.573464  28.821774 -0.035718        0.258022   \n",
       "1  4117766192454139136  262.669872 -21.802989       NaN             NaN   \n",
       "2  4064421015002065280  270.311275 -25.195034       NaN             NaN   \n",
       "3  2225828455686043264  346.270569  70.357978  0.155591        0.082792   \n",
       "4  5410015508420486144  143.434324 -48.747868  0.130303        0.036939   \n",
       "\n",
       "       pmra  pmra_error     pmdec  pmdec_error  \n",
       "0 -3.358419    0.230772 -3.638325     0.250024  \n",
       "1       NaN         NaN       NaN          NaN  \n",
       "2       NaN         NaN       NaN          NaN  \n",
       "3 -3.484440    0.091961 -0.821103     0.086819  \n",
       "4 -3.811446    0.040957  3.690097     0.037938  "
      ]
     },
     "execution_count": 3,
     "metadata": {},
     "output_type": "execute_result"
    }
   ],
   "source": [
    "sources = get_sources_by_random_index(start_index=1000)\n",
    "sources.head()"
   ]
  },
  {
   "cell_type": "code",
   "execution_count": 4,
   "metadata": {
    "ExecuteTime": {
     "end_time": "2022-07-06T07:51:53.722380Z",
     "start_time": "2022-07-06T07:51:53.714810Z"
    }
   },
   "outputs": [],
   "source": [
    "sources_astrometry = sources[['ra', 'dec', 'parallax', 'pmra', 'pmdec']]"
   ]
  },
  {
   "cell_type": "code",
   "execution_count": 5,
   "metadata": {
    "ExecuteTime": {
     "end_time": "2022-07-06T07:51:54.825313Z",
     "start_time": "2022-07-06T07:51:54.817428Z"
    }
   },
   "outputs": [],
   "source": [
    "sources_astrometry = sources_astrometry.dropna()"
   ]
  },
  {
   "cell_type": "code",
   "execution_count": 7,
   "metadata": {
    "ExecuteTime": {
     "end_time": "2022-07-06T07:52:01.372885Z",
     "start_time": "2022-07-06T07:52:01.366704Z"
    }
   },
   "outputs": [
    {
     "name": "stdout",
     "output_type": "stream",
     "text": [
      "815\n"
     ]
    }
   ],
   "source": [
    "print(len(sources_astrometry))"
   ]
  },
  {
   "cell_type": "code",
   "execution_count": 8,
   "metadata": {
    "ExecuteTime": {
     "end_time": "2022-07-06T07:53:37.206195Z",
     "start_time": "2022-07-06T07:53:37.187159Z"
    }
   },
   "outputs": [],
   "source": [
    "af = DBSCAN(eps=4., min_samples=2).fit(sources_astrometry)"
   ]
  },
  {
   "cell_type": "code",
   "execution_count": 9,
   "metadata": {
    "ExecuteTime": {
     "end_time": "2022-07-06T07:53:38.067137Z",
     "start_time": "2022-07-06T07:53:38.060850Z"
    }
   },
   "outputs": [
    {
     "name": "stdout",
     "output_type": "stream",
     "text": [
      "90\n"
     ]
    }
   ],
   "source": [
    "labels = af.labels_\n",
    "print(len(set(labels)))"
   ]
  },
  {
   "cell_type": "code",
   "execution_count": 10,
   "metadata": {
    "ExecuteTime": {
     "end_time": "2022-07-06T07:53:40.891143Z",
     "start_time": "2022-07-06T07:53:40.883877Z"
    }
   },
   "outputs": [
    {
     "data": {
      "text/plain": [
       "-1"
      ]
     },
     "execution_count": 10,
     "metadata": {},
     "output_type": "execute_result"
    }
   ],
   "source": [
    "min(labels)"
   ]
  },
  {
   "cell_type": "code",
   "execution_count": 11,
   "metadata": {
    "ExecuteTime": {
     "end_time": "2022-07-06T07:53:41.937317Z",
     "start_time": "2022-07-06T07:53:41.931914Z"
    }
   },
   "outputs": [],
   "source": [
    "sources_astrometry['label'] = labels"
   ]
  },
  {
   "cell_type": "code",
   "execution_count": 12,
   "metadata": {
    "ExecuteTime": {
     "end_time": "2022-07-06T07:53:43.097878Z",
     "start_time": "2022-07-06T07:53:43.090648Z"
    }
   },
   "outputs": [],
   "source": [
    "clustered_sources = sources_astrometry[sources_astrometry['label']!=-1]"
   ]
  },
  {
   "cell_type": "code",
   "execution_count": 13,
   "metadata": {
    "ExecuteTime": {
     "end_time": "2022-07-06T07:53:48.434545Z",
     "start_time": "2022-07-06T07:53:43.908855Z"
    },
    "init_cell": true
   },
   "outputs": [],
   "source": [
    "import matplotlib.pyplot as plt"
   ]
  },
  {
   "cell_type": "code",
   "execution_count": 14,
   "metadata": {
    "ExecuteTime": {
     "end_time": "2022-07-06T07:53:50.920746Z",
     "start_time": "2022-07-06T07:53:50.354790Z"
    }
   },
   "outputs": [
    {
     "data": {
      "image/png": "[encoded data removed]",
      "text/plain": [
       "<Figure size 1440x720 with 1 Axes>"
      ]
     },
     "metadata": {
      "needs_background": "light"
     },
     "output_type": "display_data"
    }
   ],
   "source": [
    "plt.figure(figsize=(20, 10))\n",
    "plt.scatter(clustered_sources['ra'], clustered_sources['dec'], c=clustered_sources['label'], cmap='gist_ncar');"
   ]
  },
  {
   "cell_type": "code",
   "execution_count": 15,
   "metadata": {
    "ExecuteTime": {
     "end_time": "2022-07-06T07:53:54.729749Z",
     "start_time": "2022-07-06T07:53:54.709527Z"
    }
   },
   "outputs": [
    {
     "data": {
      "text/html": [
       "<div>\n",
       "<style scoped>\n",
       "    .dataframe tbody tr th:only-of-type {\n",
       "        vertical-align: middle;\n",
       "    }\n",
       "\n",
       "    .dataframe tbody tr th {\n",
       "        vertical-align: top;\n",
       "    }\n",
       "\n",
       "    .dataframe thead th {\n",
       "        text-align: right;\n",
       "    }\n",
       "</style>\n",
       "<table border=\"1\" class=\"dataframe\">\n",
       "  <thead>\n",
       "    <tr style=\"text-align: right;\">\n",
       "      <th></th>\n",
       "      <th>ra</th>\n",
       "      <th>dec</th>\n",
       "      <th>parallax</th>\n",
       "      <th>pmra</th>\n",
       "      <th>pmdec</th>\n",
       "      <th>label</th>\n",
       "    </tr>\n",
       "  </thead>\n",
       "  <tbody>\n",
       "    <tr>\n",
       "      <th>63</th>\n",
       "      <td>324.140074</td>\n",
       "      <td>46.816128</td>\n",
       "      <td>-2.206602</td>\n",
       "      <td>-3.238075</td>\n",
       "      <td>-3.932835</td>\n",
       "      <td>18</td>\n",
       "    </tr>\n",
       "    <tr>\n",
       "      <th>109</th>\n",
       "      <td>324.998528</td>\n",
       "      <td>41.869691</td>\n",
       "      <td>0.182142</td>\n",
       "      <td>-3.273434</td>\n",
       "      <td>-1.594645</td>\n",
       "      <td>18</td>\n",
       "    </tr>\n",
       "    <tr>\n",
       "      <th>194</th>\n",
       "      <td>326.809976</td>\n",
       "      <td>44.413165</td>\n",
       "      <td>1.004504</td>\n",
       "      <td>-2.184484</td>\n",
       "      <td>-3.281304</td>\n",
       "      <td>18</td>\n",
       "    </tr>\n",
       "    <tr>\n",
       "      <th>585</th>\n",
       "      <td>325.658753</td>\n",
       "      <td>45.428950</td>\n",
       "      <td>0.127814</td>\n",
       "      <td>-2.224064</td>\n",
       "      <td>-2.136333</td>\n",
       "      <td>18</td>\n",
       "    </tr>\n",
       "    <tr>\n",
       "      <th>713</th>\n",
       "      <td>325.170030</td>\n",
       "      <td>47.608325</td>\n",
       "      <td>0.008322</td>\n",
       "      <td>-5.999031</td>\n",
       "      <td>-2.613874</td>\n",
       "      <td>18</td>\n",
       "    </tr>\n",
       "  </tbody>\n",
       "</table>\n",
       "</div>"
      ],
      "text/plain": [
       "             ra        dec  parallax      pmra     pmdec  label\n",
       "63   324.140074  46.816128 -2.206602 -3.238075 -3.932835     18\n",
       "109  324.998528  41.869691  0.182142 -3.273434 -1.594645     18\n",
       "194  326.809976  44.413165  1.004504 -2.184484 -3.281304     18\n",
       "585  325.658753  45.428950  0.127814 -2.224064 -2.136333     18\n",
       "713  325.170030  47.608325  0.008322 -5.999031 -2.613874     18"
      ]
     },
     "execution_count": 15,
     "metadata": {},
     "output_type": "execute_result"
    }
   ],
   "source": [
    "sources_astrometry[sources_astrometry['label']==18].head()"
   ]
  },
  {
   "cell_type": "code",
   "execution_count": null,
   "metadata": {},
   "outputs": [],
   "source": []
  }
 ],
 "metadata": {
  "celltoolbar": "Initialization Cell",
  "kernelspec": {
   "display_name": "Python 3 (ipykernel)",
   "language": "python",
   "name": "python3"
  },
  "language_info": {
   "codemirror_mode": {
    "name": "ipython",
    "version": 3
   },
   "file_extension": ".py",
   "mimetype": "text/x-python",
   "name": "python",
   "nbconvert_exporter": "python",
   "pygments_lexer": "ipython3",
   "version": "3.9.10"
  },
  "toc": {
   "base_numbering": 1,
   "nav_menu": {},
   "number_sections": true,
   "sideBar": true,
   "skip_h1_title": false,
   "title_cell": "Table of Contents",
   "title_sidebar": "Contents",
   "toc_cell": false,
   "toc_position": {},
   "toc_section_display": true,
   "toc_window_display": false
  },
  "varInspector": {
   "cols": {
    "lenName": 16,
    "lenType": 16,
    "lenVar": 40
   },
   "kernels_config": {
    "python": {
     "delete_cmd_postfix": "",
     "delete_cmd_prefix": "del ",
     "library": "var_list.py",
     "varRefreshCmd": "print(var_dic_list())"
    },
    "r": {
     "delete_cmd_postfix": ") ",
     "delete_cmd_prefix": "rm(",
     "library": "var_list.r",
     "varRefreshCmd": "cat(var_dic_list()) "
    }
   },
   "types_to_exclude": [
    "module",
    "function",
    "builtin_function_or_method",
    "instance",
    "_Feature"
   ],
   "window_display": false
  },
  "vscode": {
   "interpreter": {
    "hash": "fada0d832d2547f9f1dff5229b543955ff8ad75cc0a8562bb60785250e0c2cfa"
   }
  }
 },
 "nbformat": 4,
 "nbformat_minor": 2
}
