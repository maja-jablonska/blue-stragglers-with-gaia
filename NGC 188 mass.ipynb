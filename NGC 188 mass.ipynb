{
 "cells": [
  {
   "cell_type": "code",
   "execution_count": 2,
   "id": "a93c3d6b",
   "metadata": {
    "ExecuteTime": {
     "end_time": "2022-08-08T14:24:22.335152Z",
     "start_time": "2022-08-08T14:24:19.250781Z"
    }
   },
   "outputs": [],
   "source": [
    "import pandas as pd\n",
    "from gaia_download import get_masses\n",
    "import matplotlib.pyplot as plt"
   ]
  },
  {
   "cell_type": "code",
   "execution_count": 3,
   "id": "c6dc163c",
   "metadata": {
    "ExecuteTime": {
     "end_time": "2022-08-08T14:24:22.386919Z",
     "start_time": "2022-08-08T14:24:22.382067Z"
    }
   },
   "outputs": [],
   "source": [
    "CLUSTER_NAME: str = 'NGC 188'\n",
    "ROOT_PATH: str = f'data/{CLUSTER_NAME}'"
   ]
  },
  {
   "cell_type": "code",
   "execution_count": 4,
   "id": "053f74c5",
   "metadata": {
    "ExecuteTime": {
     "end_time": "2022-08-08T14:24:22.594080Z",
     "start_time": "2022-08-08T14:24:22.427945Z"
    }
   },
   "outputs": [],
   "source": [
    "clustered = pd.read_csv(f'{ROOT_PATH}/{CLUSTER_NAME}_clustered.csv')"
   ]
  },
  {
   "cell_type": "code",
   "execution_count": 5,
   "id": "6dc2c3a0",
   "metadata": {
    "ExecuteTime": {
     "end_time": "2022-08-08T14:24:22.819592Z",
     "start_time": "2022-08-08T14:24:22.727513Z"
    }
   },
   "outputs": [
    {
     "data": {
      "text/html": [
       "<div>\n",
       "<style scoped>\n",
       "    .dataframe tbody tr th:only-of-type {\n",
       "        vertical-align: middle;\n",
       "    }\n",
       "\n",
       "    .dataframe tbody tr th {\n",
       "        vertical-align: top;\n",
       "    }\n",
       "\n",
       "    .dataframe thead th {\n",
       "        text-align: right;\n",
       "    }\n",
       "</style>\n",
       "<table border=\"1\" class=\"dataframe\">\n",
       "  <thead>\n",
       "    <tr style=\"text-align: right;\">\n",
       "      <th></th>\n",
       "      <th>Unnamed: 0</th>\n",
       "      <th>solution_id</th>\n",
       "      <th>designation</th>\n",
       "      <th>source_id</th>\n",
       "      <th>random_index</th>\n",
       "      <th>ref_epoch</th>\n",
       "      <th>ra</th>\n",
       "      <th>ra_error</th>\n",
       "      <th>dec</th>\n",
       "      <th>dec_error</th>\n",
       "      <th>...</th>\n",
       "      <th>A_J</th>\n",
       "      <th>A_H</th>\n",
       "      <th>A_K</th>\n",
       "      <th>BP-RP</th>\n",
       "      <th>BP-RP_error</th>\n",
       "      <th>G_abs</th>\n",
       "      <th>G_abs_error</th>\n",
       "      <th>excess</th>\n",
       "      <th>label</th>\n",
       "      <th>occurences</th>\n",
       "    </tr>\n",
       "  </thead>\n",
       "  <tbody>\n",
       "    <tr>\n",
       "      <th>0</th>\n",
       "      <td>24692</td>\n",
       "      <td>1636148068921376768</td>\n",
       "      <td>Gaia DR3 573215337576748032</td>\n",
       "      <td>573215337576748032</td>\n",
       "      <td>1211540435</td>\n",
       "      <td>2016.0</td>\n",
       "      <td>12.758070</td>\n",
       "      <td>0.683163</td>\n",
       "      <td>83.831284</td>\n",
       "      <td>0.738135</td>\n",
       "      <td>...</td>\n",
       "      <td>0.466900</td>\n",
       "      <td>0.276241</td>\n",
       "      <td>0.178231</td>\n",
       "      <td>0.707528</td>\n",
       "      <td>0.178769</td>\n",
       "      <td>8.364347</td>\n",
       "      <td>4.319980</td>\n",
       "      <td>0.193433</td>\n",
       "      <td>12</td>\n",
       "      <td>0.05</td>\n",
       "    </tr>\n",
       "    <tr>\n",
       "      <th>1</th>\n",
       "      <td>27629</td>\n",
       "      <td>1636148068921376768</td>\n",
       "      <td>Gaia DR3 573331031112965248</td>\n",
       "      <td>573331031112965248</td>\n",
       "      <td>373313069</td>\n",
       "      <td>2016.0</td>\n",
       "      <td>16.344492</td>\n",
       "      <td>0.271470</td>\n",
       "      <td>84.271933</td>\n",
       "      <td>0.255174</td>\n",
       "      <td>...</td>\n",
       "      <td>0.516048</td>\n",
       "      <td>0.305319</td>\n",
       "      <td>0.196993</td>\n",
       "      <td>2.279002</td>\n",
       "      <td>0.137678</td>\n",
       "      <td>8.230153</td>\n",
       "      <td>1.017172</td>\n",
       "      <td>0.131460</td>\n",
       "      <td>12</td>\n",
       "      <td>0.05</td>\n",
       "    </tr>\n",
       "    <tr>\n",
       "      <th>2</th>\n",
       "      <td>27945</td>\n",
       "      <td>1636148068921376768</td>\n",
       "      <td>Gaia DR3 573343327602348928</td>\n",
       "      <td>573343327602348928</td>\n",
       "      <td>1653900238</td>\n",
       "      <td>2016.0</td>\n",
       "      <td>16.251303</td>\n",
       "      <td>0.161993</td>\n",
       "      <td>84.523919</td>\n",
       "      <td>0.159452</td>\n",
       "      <td>...</td>\n",
       "      <td>0.442327</td>\n",
       "      <td>0.261702</td>\n",
       "      <td>0.168851</td>\n",
       "      <td>1.434931</td>\n",
       "      <td>0.052641</td>\n",
       "      <td>6.751232</td>\n",
       "      <td>0.914656</td>\n",
       "      <td>0.022381</td>\n",
       "      <td>12</td>\n",
       "      <td>0.05</td>\n",
       "    </tr>\n",
       "    <tr>\n",
       "      <th>3</th>\n",
       "      <td>28215</td>\n",
       "      <td>1636148068921376768</td>\n",
       "      <td>Gaia DR3 573354670612121088</td>\n",
       "      <td>573354670612121088</td>\n",
       "      <td>1494711348</td>\n",
       "      <td>2016.0</td>\n",
       "      <td>12.852203</td>\n",
       "      <td>0.035797</td>\n",
       "      <td>84.583456</td>\n",
       "      <td>0.034287</td>\n",
       "      <td>...</td>\n",
       "      <td>0.270311</td>\n",
       "      <td>0.159929</td>\n",
       "      <td>0.103187</td>\n",
       "      <td>0.828158</td>\n",
       "      <td>0.006719</td>\n",
       "      <td>5.087452</td>\n",
       "      <td>0.154759</td>\n",
       "      <td>0.008961</td>\n",
       "      <td>12</td>\n",
       "      <td>0.60</td>\n",
       "    </tr>\n",
       "    <tr>\n",
       "      <th>4</th>\n",
       "      <td>28291</td>\n",
       "      <td>1636148068921376768</td>\n",
       "      <td>Gaia DR3 573357419389008512</td>\n",
       "      <td>573357419389008512</td>\n",
       "      <td>1111982674</td>\n",
       "      <td>2016.0</td>\n",
       "      <td>14.492859</td>\n",
       "      <td>0.240622</td>\n",
       "      <td>84.622989</td>\n",
       "      <td>0.202919</td>\n",
       "      <td>...</td>\n",
       "      <td>0.344032</td>\n",
       "      <td>0.203546</td>\n",
       "      <td>0.131328</td>\n",
       "      <td>0.676147</td>\n",
       "      <td>0.105221</td>\n",
       "      <td>7.408975</td>\n",
       "      <td>1.280220</td>\n",
       "      <td>-0.051055</td>\n",
       "      <td>12</td>\n",
       "      <td>0.25</td>\n",
       "    </tr>\n",
       "  </tbody>\n",
       "</table>\n",
       "<p>5 rows × 175 columns</p>\n",
       "</div>"
      ],
      "text/plain": [
       "   Unnamed: 0          solution_id                  designation  \\\n",
       "0       24692  1636148068921376768  Gaia DR3 573215337576748032   \n",
       "1       27629  1636148068921376768  Gaia DR3 573331031112965248   \n",
       "2       27945  1636148068921376768  Gaia DR3 573343327602348928   \n",
       "3       28215  1636148068921376768  Gaia DR3 573354670612121088   \n",
       "4       28291  1636148068921376768  Gaia DR3 573357419389008512   \n",
       "\n",
       "            source_id  random_index  ref_epoch         ra  ra_error  \\\n",
       "0  573215337576748032    1211540435     2016.0  12.758070  0.683163   \n",
       "1  573331031112965248     373313069     2016.0  16.344492  0.271470   \n",
       "2  573343327602348928    1653900238     2016.0  16.251303  0.161993   \n",
       "3  573354670612121088    1494711348     2016.0  12.852203  0.035797   \n",
       "4  573357419389008512    1111982674     2016.0  14.492859  0.240622   \n",
       "\n",
       "         dec  dec_error  ...       A_J       A_H       A_K     BP-RP  \\\n",
       "0  83.831284   0.738135  ...  0.466900  0.276241  0.178231  0.707528   \n",
       "1  84.271933   0.255174  ...  0.516048  0.305319  0.196993  2.279002   \n",
       "2  84.523919   0.159452  ...  0.442327  0.261702  0.168851  1.434931   \n",
       "3  84.583456   0.034287  ...  0.270311  0.159929  0.103187  0.828158   \n",
       "4  84.622989   0.202919  ...  0.344032  0.203546  0.131328  0.676147   \n",
       "\n",
       "   BP-RP_error     G_abs  G_abs_error    excess  label  occurences  \n",
       "0     0.178769  8.364347     4.319980  0.193433     12        0.05  \n",
       "1     0.137678  8.230153     1.017172  0.131460     12        0.05  \n",
       "2     0.052641  6.751232     0.914656  0.022381     12        0.05  \n",
       "3     0.006719  5.087452     0.154759  0.008961     12        0.60  \n",
       "4     0.105221  7.408975     1.280220 -0.051055     12        0.25  \n",
       "\n",
       "[5 rows x 175 columns]"
      ]
     },
     "execution_count": 5,
     "metadata": {},
     "output_type": "execute_result"
    }
   ],
   "source": [
    "clustered.head()"
   ]
  },
  {
   "cell_type": "code",
   "execution_count": 6,
   "id": "1612f263",
   "metadata": {
    "ExecuteTime": {
     "end_time": "2022-08-08T14:24:23.936849Z",
     "start_time": "2022-08-08T14:24:22.941787Z"
    }
   },
   "outputs": [],
   "source": [
    "clustered = pd.merge(clustered, get_masses(clustered.source_id), on='source_id')"
   ]
  },
  {
   "cell_type": "code",
   "execution_count": 7,
   "id": "38be4cf6",
   "metadata": {
    "ExecuteTime": {
     "end_time": "2022-08-08T14:24:24.649976Z",
     "start_time": "2022-08-08T14:24:24.590402Z"
    }
   },
   "outputs": [
    {
     "data": {
      "text/html": [
       "<div>\n",
       "<style scoped>\n",
       "    .dataframe tbody tr th:only-of-type {\n",
       "        vertical-align: middle;\n",
       "    }\n",
       "\n",
       "    .dataframe tbody tr th {\n",
       "        vertical-align: top;\n",
       "    }\n",
       "\n",
       "    .dataframe thead th {\n",
       "        text-align: right;\n",
       "    }\n",
       "</style>\n",
       "<table border=\"1\" class=\"dataframe\">\n",
       "  <thead>\n",
       "    <tr style=\"text-align: right;\">\n",
       "      <th></th>\n",
       "      <th>Unnamed: 0</th>\n",
       "      <th>solution_id</th>\n",
       "      <th>designation</th>\n",
       "      <th>source_id</th>\n",
       "      <th>random_index</th>\n",
       "      <th>ref_epoch</th>\n",
       "      <th>ra</th>\n",
       "      <th>ra_error</th>\n",
       "      <th>dec</th>\n",
       "      <th>dec_error</th>\n",
       "      <th>...</th>\n",
       "      <th>G_abs</th>\n",
       "      <th>G_abs_error</th>\n",
       "      <th>excess</th>\n",
       "      <th>label</th>\n",
       "      <th>occurences</th>\n",
       "      <th>mass_flame</th>\n",
       "      <th>teff_esphs</th>\n",
       "      <th>teff_espucd</th>\n",
       "      <th>teff_msc1</th>\n",
       "      <th>teff_msc2</th>\n",
       "    </tr>\n",
       "  </thead>\n",
       "  <tbody>\n",
       "    <tr>\n",
       "      <th>0</th>\n",
       "      <td>24692</td>\n",
       "      <td>1636148068921376768</td>\n",
       "      <td>Gaia DR3 573215337576748032</td>\n",
       "      <td>573215337576748032</td>\n",
       "      <td>1211540435</td>\n",
       "      <td>2016.0</td>\n",
       "      <td>12.758070</td>\n",
       "      <td>0.683163</td>\n",
       "      <td>83.831284</td>\n",
       "      <td>0.738135</td>\n",
       "      <td>...</td>\n",
       "      <td>8.364347</td>\n",
       "      <td>4.319980</td>\n",
       "      <td>0.193433</td>\n",
       "      <td>12</td>\n",
       "      <td>0.05</td>\n",
       "      <td>NaN</td>\n",
       "      <td>NaN</td>\n",
       "      <td>&lt;NA&gt;</td>\n",
       "      <td>NaN</td>\n",
       "      <td>NaN</td>\n",
       "    </tr>\n",
       "    <tr>\n",
       "      <th>1</th>\n",
       "      <td>27629</td>\n",
       "      <td>1636148068921376768</td>\n",
       "      <td>Gaia DR3 573331031112965248</td>\n",
       "      <td>573331031112965248</td>\n",
       "      <td>373313069</td>\n",
       "      <td>2016.0</td>\n",
       "      <td>16.344492</td>\n",
       "      <td>0.271470</td>\n",
       "      <td>84.271933</td>\n",
       "      <td>0.255174</td>\n",
       "      <td>...</td>\n",
       "      <td>8.230153</td>\n",
       "      <td>1.017172</td>\n",
       "      <td>0.131460</td>\n",
       "      <td>12</td>\n",
       "      <td>0.05</td>\n",
       "      <td>NaN</td>\n",
       "      <td>NaN</td>\n",
       "      <td>&lt;NA&gt;</td>\n",
       "      <td>NaN</td>\n",
       "      <td>NaN</td>\n",
       "    </tr>\n",
       "    <tr>\n",
       "      <th>2</th>\n",
       "      <td>27945</td>\n",
       "      <td>1636148068921376768</td>\n",
       "      <td>Gaia DR3 573343327602348928</td>\n",
       "      <td>573343327602348928</td>\n",
       "      <td>1653900238</td>\n",
       "      <td>2016.0</td>\n",
       "      <td>16.251303</td>\n",
       "      <td>0.161993</td>\n",
       "      <td>84.523919</td>\n",
       "      <td>0.159452</td>\n",
       "      <td>...</td>\n",
       "      <td>6.751232</td>\n",
       "      <td>0.914656</td>\n",
       "      <td>0.022381</td>\n",
       "      <td>12</td>\n",
       "      <td>0.05</td>\n",
       "      <td>NaN</td>\n",
       "      <td>NaN</td>\n",
       "      <td>&lt;NA&gt;</td>\n",
       "      <td>NaN</td>\n",
       "      <td>NaN</td>\n",
       "    </tr>\n",
       "    <tr>\n",
       "      <th>3</th>\n",
       "      <td>28215</td>\n",
       "      <td>1636148068921376768</td>\n",
       "      <td>Gaia DR3 573354670612121088</td>\n",
       "      <td>573354670612121088</td>\n",
       "      <td>1494711348</td>\n",
       "      <td>2016.0</td>\n",
       "      <td>12.852203</td>\n",
       "      <td>0.035797</td>\n",
       "      <td>84.583456</td>\n",
       "      <td>0.034287</td>\n",
       "      <td>...</td>\n",
       "      <td>5.087452</td>\n",
       "      <td>0.154759</td>\n",
       "      <td>0.008961</td>\n",
       "      <td>12</td>\n",
       "      <td>0.60</td>\n",
       "      <td>0.907794</td>\n",
       "      <td>NaN</td>\n",
       "      <td>&lt;NA&gt;</td>\n",
       "      <td>5453.6943</td>\n",
       "      <td>4755.988</td>\n",
       "    </tr>\n",
       "    <tr>\n",
       "      <th>4</th>\n",
       "      <td>28291</td>\n",
       "      <td>1636148068921376768</td>\n",
       "      <td>Gaia DR3 573357419389008512</td>\n",
       "      <td>573357419389008512</td>\n",
       "      <td>1111982674</td>\n",
       "      <td>2016.0</td>\n",
       "      <td>14.492859</td>\n",
       "      <td>0.240622</td>\n",
       "      <td>84.622989</td>\n",
       "      <td>0.202919</td>\n",
       "      <td>...</td>\n",
       "      <td>7.408975</td>\n",
       "      <td>1.280220</td>\n",
       "      <td>-0.051055</td>\n",
       "      <td>12</td>\n",
       "      <td>0.25</td>\n",
       "      <td>NaN</td>\n",
       "      <td>NaN</td>\n",
       "      <td>&lt;NA&gt;</td>\n",
       "      <td>NaN</td>\n",
       "      <td>NaN</td>\n",
       "    </tr>\n",
       "    <tr>\n",
       "      <th>...</th>\n",
       "      <td>...</td>\n",
       "      <td>...</td>\n",
       "      <td>...</td>\n",
       "      <td>...</td>\n",
       "      <td>...</td>\n",
       "      <td>...</td>\n",
       "      <td>...</td>\n",
       "      <td>...</td>\n",
       "      <td>...</td>\n",
       "      <td>...</td>\n",
       "      <td>...</td>\n",
       "      <td>...</td>\n",
       "      <td>...</td>\n",
       "      <td>...</td>\n",
       "      <td>...</td>\n",
       "      <td>...</td>\n",
       "      <td>...</td>\n",
       "      <td>...</td>\n",
       "      <td>...</td>\n",
       "      <td>...</td>\n",
       "      <td>...</td>\n",
       "    </tr>\n",
       "    <tr>\n",
       "      <th>1995</th>\n",
       "      <td>34458</td>\n",
       "      <td>1636148068921376768</td>\n",
       "      <td>Gaia DR3 573604702130999808</td>\n",
       "      <td>573604702130999808</td>\n",
       "      <td>1183269285</td>\n",
       "      <td>2016.0</td>\n",
       "      <td>2.626895</td>\n",
       "      <td>0.516775</td>\n",
       "      <td>85.037805</td>\n",
       "      <td>0.460308</td>\n",
       "      <td>...</td>\n",
       "      <td>8.253842</td>\n",
       "      <td>2.459045</td>\n",
       "      <td>-0.015827</td>\n",
       "      <td>11</td>\n",
       "      <td>0.05</td>\n",
       "      <td>NaN</td>\n",
       "      <td>NaN</td>\n",
       "      <td>&lt;NA&gt;</td>\n",
       "      <td>NaN</td>\n",
       "      <td>NaN</td>\n",
       "    </tr>\n",
       "    <tr>\n",
       "      <th>1996</th>\n",
       "      <td>34827</td>\n",
       "      <td>1636148068921376768</td>\n",
       "      <td>Gaia DR3 573619648617255424</td>\n",
       "      <td>573619648617255424</td>\n",
       "      <td>1426854185</td>\n",
       "      <td>2016.0</td>\n",
       "      <td>6.528436</td>\n",
       "      <td>0.228656</td>\n",
       "      <td>85.094029</td>\n",
       "      <td>0.229024</td>\n",
       "      <td>...</td>\n",
       "      <td>8.398864</td>\n",
       "      <td>0.842520</td>\n",
       "      <td>0.108569</td>\n",
       "      <td>11</td>\n",
       "      <td>0.05</td>\n",
       "      <td>NaN</td>\n",
       "      <td>NaN</td>\n",
       "      <td>&lt;NA&gt;</td>\n",
       "      <td>NaN</td>\n",
       "      <td>NaN</td>\n",
       "    </tr>\n",
       "    <tr>\n",
       "      <th>1997</th>\n",
       "      <td>35122</td>\n",
       "      <td>1636148068921376768</td>\n",
       "      <td>Gaia DR3 573629716020635776</td>\n",
       "      <td>573629716020635776</td>\n",
       "      <td>29314523</td>\n",
       "      <td>2016.0</td>\n",
       "      <td>2.252939</td>\n",
       "      <td>0.454988</td>\n",
       "      <td>85.155661</td>\n",
       "      <td>0.438145</td>\n",
       "      <td>...</td>\n",
       "      <td>8.097694</td>\n",
       "      <td>2.594254</td>\n",
       "      <td>0.025294</td>\n",
       "      <td>11</td>\n",
       "      <td>0.05</td>\n",
       "      <td>NaN</td>\n",
       "      <td>NaN</td>\n",
       "      <td>&lt;NA&gt;</td>\n",
       "      <td>NaN</td>\n",
       "      <td>NaN</td>\n",
       "    </tr>\n",
       "    <tr>\n",
       "      <th>1998</th>\n",
       "      <td>42249</td>\n",
       "      <td>1636148068921376768</td>\n",
       "      <td>Gaia DR3 573929676537681280</td>\n",
       "      <td>573929676537681280</td>\n",
       "      <td>967191678</td>\n",
       "      <td>2016.0</td>\n",
       "      <td>12.959429</td>\n",
       "      <td>0.345180</td>\n",
       "      <td>84.986893</td>\n",
       "      <td>0.244089</td>\n",
       "      <td>...</td>\n",
       "      <td>6.997307</td>\n",
       "      <td>1.869146</td>\n",
       "      <td>-0.122803</td>\n",
       "      <td>11</td>\n",
       "      <td>0.05</td>\n",
       "      <td>NaN</td>\n",
       "      <td>NaN</td>\n",
       "      <td>&lt;NA&gt;</td>\n",
       "      <td>NaN</td>\n",
       "      <td>NaN</td>\n",
       "    </tr>\n",
       "    <tr>\n",
       "      <th>1999</th>\n",
       "      <td>43563</td>\n",
       "      <td>1636148068921376768</td>\n",
       "      <td>Gaia DR3 573949781279473280</td>\n",
       "      <td>573949781279473280</td>\n",
       "      <td>592394843</td>\n",
       "      <td>2016.0</td>\n",
       "      <td>8.021579</td>\n",
       "      <td>0.377428</td>\n",
       "      <td>85.198421</td>\n",
       "      <td>0.420851</td>\n",
       "      <td>...</td>\n",
       "      <td>7.735751</td>\n",
       "      <td>2.527347</td>\n",
       "      <td>0.415035</td>\n",
       "      <td>11</td>\n",
       "      <td>0.05</td>\n",
       "      <td>NaN</td>\n",
       "      <td>NaN</td>\n",
       "      <td>&lt;NA&gt;</td>\n",
       "      <td>NaN</td>\n",
       "      <td>NaN</td>\n",
       "    </tr>\n",
       "  </tbody>\n",
       "</table>\n",
       "<p>2000 rows × 180 columns</p>\n",
       "</div>"
      ],
      "text/plain": [
       "      Unnamed: 0          solution_id                  designation  \\\n",
       "0          24692  1636148068921376768  Gaia DR3 573215337576748032   \n",
       "1          27629  1636148068921376768  Gaia DR3 573331031112965248   \n",
       "2          27945  1636148068921376768  Gaia DR3 573343327602348928   \n",
       "3          28215  1636148068921376768  Gaia DR3 573354670612121088   \n",
       "4          28291  1636148068921376768  Gaia DR3 573357419389008512   \n",
       "...          ...                  ...                          ...   \n",
       "1995       34458  1636148068921376768  Gaia DR3 573604702130999808   \n",
       "1996       34827  1636148068921376768  Gaia DR3 573619648617255424   \n",
       "1997       35122  1636148068921376768  Gaia DR3 573629716020635776   \n",
       "1998       42249  1636148068921376768  Gaia DR3 573929676537681280   \n",
       "1999       43563  1636148068921376768  Gaia DR3 573949781279473280   \n",
       "\n",
       "               source_id  random_index  ref_epoch         ra  ra_error  \\\n",
       "0     573215337576748032    1211540435     2016.0  12.758070  0.683163   \n",
       "1     573331031112965248     373313069     2016.0  16.344492  0.271470   \n",
       "2     573343327602348928    1653900238     2016.0  16.251303  0.161993   \n",
       "3     573354670612121088    1494711348     2016.0  12.852203  0.035797   \n",
       "4     573357419389008512    1111982674     2016.0  14.492859  0.240622   \n",
       "...                  ...           ...        ...        ...       ...   \n",
       "1995  573604702130999808    1183269285     2016.0   2.626895  0.516775   \n",
       "1996  573619648617255424    1426854185     2016.0   6.528436  0.228656   \n",
       "1997  573629716020635776      29314523     2016.0   2.252939  0.454988   \n",
       "1998  573929676537681280     967191678     2016.0  12.959429  0.345180   \n",
       "1999  573949781279473280     592394843     2016.0   8.021579  0.377428   \n",
       "\n",
       "            dec  dec_error  ...     G_abs  G_abs_error    excess  label  \\\n",
       "0     83.831284   0.738135  ...  8.364347     4.319980  0.193433     12   \n",
       "1     84.271933   0.255174  ...  8.230153     1.017172  0.131460     12   \n",
       "2     84.523919   0.159452  ...  6.751232     0.914656  0.022381     12   \n",
       "3     84.583456   0.034287  ...  5.087452     0.154759  0.008961     12   \n",
       "4     84.622989   0.202919  ...  7.408975     1.280220 -0.051055     12   \n",
       "...         ...        ...  ...       ...          ...       ...    ...   \n",
       "1995  85.037805   0.460308  ...  8.253842     2.459045 -0.015827     11   \n",
       "1996  85.094029   0.229024  ...  8.398864     0.842520  0.108569     11   \n",
       "1997  85.155661   0.438145  ...  8.097694     2.594254  0.025294     11   \n",
       "1998  84.986893   0.244089  ...  6.997307     1.869146 -0.122803     11   \n",
       "1999  85.198421   0.420851  ...  7.735751     2.527347  0.415035     11   \n",
       "\n",
       "      occurences  mass_flame  teff_esphs  teff_espucd  teff_msc1  teff_msc2  \n",
       "0           0.05         NaN         NaN         <NA>        NaN        NaN  \n",
       "1           0.05         NaN         NaN         <NA>        NaN        NaN  \n",
       "2           0.05         NaN         NaN         <NA>        NaN        NaN  \n",
       "3           0.60    0.907794         NaN         <NA>  5453.6943   4755.988  \n",
       "4           0.25         NaN         NaN         <NA>        NaN        NaN  \n",
       "...          ...         ...         ...          ...        ...        ...  \n",
       "1995        0.05         NaN         NaN         <NA>        NaN        NaN  \n",
       "1996        0.05         NaN         NaN         <NA>        NaN        NaN  \n",
       "1997        0.05         NaN         NaN         <NA>        NaN        NaN  \n",
       "1998        0.05         NaN         NaN         <NA>        NaN        NaN  \n",
       "1999        0.05         NaN         NaN         <NA>        NaN        NaN  \n",
       "\n",
       "[2000 rows x 180 columns]"
      ]
     },
     "execution_count": 7,
     "metadata": {},
     "output_type": "execute_result"
    }
   ],
   "source": [
    "clustered"
   ]
  },
  {
   "cell_type": "code",
   "execution_count": 14,
   "id": "92843e8c",
   "metadata": {
    "ExecuteTime": {
     "end_time": "2022-08-08T14:29:57.185457Z",
     "start_time": "2022-08-08T14:29:57.179134Z"
    }
   },
   "outputs": [],
   "source": [
    "MG_sol = 4.68 \n",
    "def ms_mass(abs_mag):\n",
    "    lum = np.power(10, ((abs_mag-MG_sol)/-2.5))\n",
    "    return np.power(lum, -3.5)"
   ]
  },
  {
   "cell_type": "code",
   "execution_count": 16,
   "id": "2c6dc3fc",
   "metadata": {
    "ExecuteTime": {
     "end_time": "2022-08-08T14:30:00.892593Z",
     "start_time": "2022-08-08T14:30:00.884664Z"
    }
   },
   "outputs": [
    {
     "data": {
      "text/plain": [
       "0.00017701089583174238"
      ]
     },
     "execution_count": 16,
     "metadata": {},
     "output_type": "execute_result"
    }
   ],
   "source": [
    "ms_mass(2.)"
   ]
  },
  {
   "cell_type": "code",
   "execution_count": 8,
   "id": "0cdd860c",
   "metadata": {
    "ExecuteTime": {
     "end_time": "2022-08-08T14:24:50.061318Z",
     "start_time": "2022-08-08T14:24:50.050520Z"
    }
   },
   "outputs": [
    {
     "data": {
      "text/plain": [
       "817"
      ]
     },
     "execution_count": 8,
     "metadata": {},
     "output_type": "execute_result"
    }
   ],
   "source": [
    "len(clustered.mass_flame.dropna())"
   ]
  },
  {
   "cell_type": "code",
   "execution_count": 40,
   "id": "7d31e84b",
   "metadata": {
    "ExecuteTime": {
     "end_time": "2022-08-08T14:20:36.477848Z",
     "start_time": "2022-08-08T14:20:36.227558Z"
    }
   },
   "outputs": [
    {
     "data": {
      "image/png": "[encoded data removed]",
      "text/plain": [
       "<Figure size 432x288 with 1 Axes>"
      ]
     },
     "metadata": {
      "needs_background": "light"
     },
     "output_type": "display_data"
    }
   ],
   "source": [
    "plt.scatter(clustered['BP-RP'], clustered['G_abs'])\n",
    "plt.gca().invert_yaxis();"
   ]
  },
  {
   "cell_type": "code",
   "execution_count": 41,
   "id": "66b4dfc7",
   "metadata": {
    "ExecuteTime": {
     "end_time": "2022-08-08T14:21:07.597910Z",
     "start_time": "2022-08-08T14:21:07.587240Z"
    }
   },
   "outputs": [],
   "source": [
    "ms = clustered[(clustered['BP-RP']<1.) & (clustered['G_abs']<6.)]"
   ]
  },
  {
   "cell_type": "code",
   "execution_count": 43,
   "id": "a662e207",
   "metadata": {
    "ExecuteTime": {
     "end_time": "2022-08-08T14:21:38.467562Z",
     "start_time": "2022-08-08T14:21:38.222092Z"
    }
   },
   "outputs": [
    {
     "data": {
      "image/png": "[encoded data removed]",
      "text/plain": [
       "<Figure size 432x288 with 1 Axes>"
      ]
     },
     "metadata": {
      "needs_background": "light"
     },
     "output_type": "display_data"
    }
   ],
   "source": [
    "plt.scatter(ms['BP-RP'], ms['G_abs'])\n",
    "plt.gca().invert_yaxis();"
   ]
  },
  {
   "cell_type": "code",
   "execution_count": 42,
   "id": "34627738",
   "metadata": {
    "ExecuteTime": {
     "end_time": "2022-08-08T14:21:12.116663Z",
     "start_time": "2022-08-08T14:21:11.847909Z"
    }
   },
   "outputs": [
    {
     "data": {
      "text/plain": [
       "<matplotlib.collections.PathCollection at 0x7facda037820>"
      ]
     },
     "execution_count": 42,
     "metadata": {},
     "output_type": "execute_result"
    },
    {
     "data": {
      "image/png": "[encoded data removed]",
      "text/plain": [
       "<Figure size 432x288 with 1 Axes>"
      ]
     },
     "metadata": {
      "needs_background": "light"
     },
     "output_type": "display_data"
    }
   ],
   "source": [
    "plt.scatter(ms.G_abs, ms.mass)"
   ]
  },
  {
   "cell_type": "code",
   "execution_count": null,
   "id": "bb185b0e",
   "metadata": {},
   "outputs": [],
   "source": []
  }
 ],
 "metadata": {
  "kernelspec": {
   "display_name": "Python 3 (ipykernel)",
   "language": "python",
   "name": "python3"
  },
  "language_info": {
   "codemirror_mode": {
    "name": "ipython",
    "version": 3
   },
   "file_extension": ".py",
   "mimetype": "text/x-python",
   "name": "python",
   "nbconvert_exporter": "python",
   "pygments_lexer": "ipython3",
   "version": "3.9.13"
  },
  "toc": {
   "base_numbering": 1,
   "nav_menu": {},
   "number_sections": true,
   "sideBar": true,
   "skip_h1_title": false,
   "title_cell": "Table of Contents",
   "title_sidebar": "Contents",
   "toc_cell": false,
   "toc_position": {},
   "toc_section_display": true,
   "toc_window_display": false
  },
  "varInspector": {
   "cols": {
    "lenName": 16,
    "lenType": 16,
    "lenVar": 40
   },
   "kernels_config": {
    "python": {
     "delete_cmd_postfix": "",
     "delete_cmd_prefix": "del ",
     "library": "var_list.py",
     "varRefreshCmd": "print(var_dic_list())"
    },
    "r": {
     "delete_cmd_postfix": ") ",
     "delete_cmd_prefix": "rm(",
     "library": "var_list.r",
     "varRefreshCmd": "cat(var_dic_list()) "
    }
   },
   "types_to_exclude": [
    "module",
    "function",
    "builtin_function_or_method",
    "instance",
    "_Feature"
   ],
   "window_display": false
  }
 },
 "nbformat": 4,
 "nbformat_minor": 5
}
