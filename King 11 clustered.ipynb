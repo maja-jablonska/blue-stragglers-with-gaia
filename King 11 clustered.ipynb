{
 "cells": [
  {
   "cell_type": "code",
   "execution_count": 1,
   "id": "f9ae41aa",
   "metadata": {
    "ExecuteTime": {
     "end_time": "2022-08-09T22:22:50.022483Z",
     "start_time": "2022-08-09T22:22:48.853820Z"
    }
   },
   "outputs": [
    {
     "name": "stdout",
     "output_type": "stream",
     "text": [
      "Configuration file not found:\n",
      "\n",
      "    /home/maya/.dustmapsrc\n",
      "\n",
      "To create a new configuration file in the default location, run the following python code:\n",
      "\n",
      "    from dustmaps.config import config\n",
      "    config.reset()\n",
      "\n",
      "Note that this will delete your configuration! For example, if you have specified a data directory, then dustmaps will forget about its location.\n"
     ]
    },
    {
     "name": "stderr",
     "output_type": "stream",
     "text": [
      "<frozen importlib._bootstrap>:228: RuntimeWarning: scipy._lib.messagestream.MessageStream size changed, may indicate binary incompatibility. Expected 56 from C header, got 64 from PyObject\n"
     ]
    }
   ],
   "source": [
    "import pandas as pd\n",
    "import numpy as np\n",
    "import matplotlib.pyplot as plt\n",
    "from extinction import add_colors_and_abs_mag, correct_flux_excess_factor\n",
    "from download_isochrone import load_isochrone\n",
    "from simbad_download import resolve_name"
   ]
  },
  {
   "cell_type": "markdown",
   "id": "bb0ecddb",
   "metadata": {},
   "source": [
    "# CMD diagram"
   ]
  },
  {
   "cell_type": "code",
   "execution_count": 2,
   "id": "7b81234d",
   "metadata": {
    "ExecuteTime": {
     "end_time": "2022-08-09T22:22:50.035955Z",
     "start_time": "2022-08-09T22:22:50.033323Z"
    }
   },
   "outputs": [],
   "source": [
    "CLUSTER_NAME: str = 'King 11'"
   ]
  },
  {
   "cell_type": "code",
   "execution_count": 3,
   "id": "463b1537",
   "metadata": {
    "ExecuteTime": {
     "end_time": "2022-08-09T22:22:50.298912Z",
     "start_time": "2022-08-09T22:22:50.043680Z"
    }
   },
   "outputs": [],
   "source": [
    "cp_ra, cp_dec, cp_par, cp_pmra, cp_pmdec, cp_radvel = resolve_name(CLUSTER_NAME)"
   ]
  },
  {
   "cell_type": "code",
   "execution_count": 4,
   "id": "ea0e0852",
   "metadata": {
    "ExecuteTime": {
     "end_time": "2022-08-09T22:22:50.316928Z",
     "start_time": "2022-08-09T22:22:50.310475Z"
    }
   },
   "outputs": [],
   "source": [
    "isochrone: np.ndarray = load_isochrone(f'data/{CLUSTER_NAME}/{CLUSTER_NAME}_isochrone.dat')"
   ]
  },
  {
   "cell_type": "code",
   "execution_count": 5,
   "id": "bdfda01d",
   "metadata": {
    "ExecuteTime": {
     "end_time": "2022-08-09T22:22:50.389047Z",
     "start_time": "2022-08-09T22:22:50.338356Z"
    }
   },
   "outputs": [],
   "source": [
    "clustered: pd.DataFrame = pd.read_csv(f'data/{CLUSTER_NAME}/{CLUSTER_NAME}_clustered.csv')\n",
    "found: pd.DataFrame = pd.read_csv(f'data/{CLUSTER_NAME}/{CLUSTER_NAME}_found.csv')\n",
    "not_found: pd.DataFrame = pd.read_csv(f'data/{CLUSTER_NAME}/{CLUSTER_NAME}_not_found.csv')\n",
    "lit: pd.DataFrame = pd.read_csv(f'data/{CLUSTER_NAME}/{CLUSTER_NAME}_literature.csv')"
   ]
  },
  {
   "cell_type": "markdown",
   "id": "08870248",
   "metadata": {},
   "source": [
    "## Total mass"
   ]
  },
  {
   "cell_type": "code",
   "execution_count": 6,
   "id": "397f2c2f",
   "metadata": {
    "ExecuteTime": {
     "end_time": "2022-08-09T22:22:51.428153Z",
     "start_time": "2022-08-09T22:22:51.421123Z"
    }
   },
   "outputs": [
    {
     "data": {
      "text/plain": [
       "array(['2018A&A...618A..93C'], dtype=object)"
      ]
     },
     "execution_count": 6,
     "metadata": {},
     "output_type": "execute_result"
    }
   ],
   "source": [
    "lit.link_bibcode.unique()"
   ]
  },
  {
   "cell_type": "code",
   "execution_count": 7,
   "id": "59331bf2",
   "metadata": {
    "ExecuteTime": {
     "end_time": "2022-08-09T22:22:51.969858Z",
     "start_time": "2022-08-09T22:22:51.932450Z"
    }
   },
   "outputs": [
    {
     "data": {
      "text/html": [
       "<div>\n",
       "<style scoped>\n",
       "    .dataframe tbody tr th:only-of-type {\n",
       "        vertical-align: middle;\n",
       "    }\n",
       "\n",
       "    .dataframe tbody tr th {\n",
       "        vertical-align: top;\n",
       "    }\n",
       "\n",
       "    .dataframe thead th {\n",
       "        text-align: right;\n",
       "    }\n",
       "</style>\n",
       "<table border=\"1\" class=\"dataframe\">\n",
       "  <thead>\n",
       "    <tr style=\"text-align: right;\">\n",
       "      <th></th>\n",
       "      <th>Unnamed: 0</th>\n",
       "      <th>EDR3 id</th>\n",
       "      <th>reported</th>\n",
       "      <th>TIC</th>\n",
       "      <th>solution_id</th>\n",
       "      <th>designation</th>\n",
       "      <th>source_id</th>\n",
       "      <th>random_index</th>\n",
       "      <th>ref_epoch</th>\n",
       "      <th>ra</th>\n",
       "      <th>...</th>\n",
       "      <th>A_y</th>\n",
       "      <th>A_J</th>\n",
       "      <th>A_H</th>\n",
       "      <th>A_K</th>\n",
       "      <th>BP-RP</th>\n",
       "      <th>BP-RP_error</th>\n",
       "      <th>G_abs</th>\n",
       "      <th>G_abs_error</th>\n",
       "      <th>excess</th>\n",
       "      <th>occurences</th>\n",
       "    </tr>\n",
       "  </thead>\n",
       "  <tbody>\n",
       "    <tr>\n",
       "      <th>0</th>\n",
       "      <td>0</td>\n",
       "      <td>2211121834828358528</td>\n",
       "      <td>3</td>\n",
       "      <td>NaN</td>\n",
       "      <td>1636148068921376768</td>\n",
       "      <td>Gaia DR3 2211121834828358528</td>\n",
       "      <td>2211121834828358528</td>\n",
       "      <td>1161687180</td>\n",
       "      <td>2016.0</td>\n",
       "      <td>-3.222717</td>\n",
       "      <td>...</td>\n",
       "      <td>3.582699</td>\n",
       "      <td>2.248619</td>\n",
       "      <td>1.330393</td>\n",
       "      <td>0.858373</td>\n",
       "      <td>0.612384</td>\n",
       "      <td>0.015728</td>\n",
       "      <td>2.524399</td>\n",
       "      <td>0.440766</td>\n",
       "      <td>0.117419</td>\n",
       "      <td>0.68</td>\n",
       "    </tr>\n",
       "    <tr>\n",
       "      <th>1</th>\n",
       "      <td>1</td>\n",
       "      <td>2211122045287064320</td>\n",
       "      <td>3</td>\n",
       "      <td>NaN</td>\n",
       "      <td>1636148068921376768</td>\n",
       "      <td>Gaia DR3 2211122045287064320</td>\n",
       "      <td>2211122045287064320</td>\n",
       "      <td>349538297</td>\n",
       "      <td>2016.0</td>\n",
       "      <td>-3.193050</td>\n",
       "      <td>...</td>\n",
       "      <td>3.602076</td>\n",
       "      <td>2.260780</td>\n",
       "      <td>1.337588</td>\n",
       "      <td>0.863015</td>\n",
       "      <td>1.110911</td>\n",
       "      <td>0.003310</td>\n",
       "      <td>0.247588</td>\n",
       "      <td>0.166621</td>\n",
       "      <td>0.158199</td>\n",
       "      <td>1.00</td>\n",
       "    </tr>\n",
       "    <tr>\n",
       "      <th>2</th>\n",
       "      <td>2</td>\n",
       "      <td>2211122045287373312</td>\n",
       "      <td>3</td>\n",
       "      <td>NaN</td>\n",
       "      <td>1636148068921376768</td>\n",
       "      <td>Gaia DR3 2211122045287373312</td>\n",
       "      <td>2211122045287373312</td>\n",
       "      <td>1377041690</td>\n",
       "      <td>2016.0</td>\n",
       "      <td>-3.188447</td>\n",
       "      <td>...</td>\n",
       "      <td>3.602076</td>\n",
       "      <td>2.260780</td>\n",
       "      <td>1.337588</td>\n",
       "      <td>0.863015</td>\n",
       "      <td>1.131225</td>\n",
       "      <td>0.002166</td>\n",
       "      <td>-0.324878</td>\n",
       "      <td>0.137461</td>\n",
       "      <td>0.157659</td>\n",
       "      <td>1.00</td>\n",
       "    </tr>\n",
       "    <tr>\n",
       "      <th>3</th>\n",
       "      <td>3</td>\n",
       "      <td>2211122182726015232</td>\n",
       "      <td>3</td>\n",
       "      <td>NaN</td>\n",
       "      <td>1636148068921376768</td>\n",
       "      <td>Gaia DR3 2211122182726015232</td>\n",
       "      <td>2211122182726015232</td>\n",
       "      <td>1758264312</td>\n",
       "      <td>2016.0</td>\n",
       "      <td>-3.114499</td>\n",
       "      <td>...</td>\n",
       "      <td>3.406311</td>\n",
       "      <td>2.137912</td>\n",
       "      <td>1.264893</td>\n",
       "      <td>0.816112</td>\n",
       "      <td>1.039132</td>\n",
       "      <td>0.002248</td>\n",
       "      <td>-0.070783</td>\n",
       "      <td>0.142924</td>\n",
       "      <td>0.143648</td>\n",
       "      <td>1.00</td>\n",
       "    </tr>\n",
       "    <tr>\n",
       "      <th>4</th>\n",
       "      <td>5</td>\n",
       "      <td>2211122251445487360</td>\n",
       "      <td>3</td>\n",
       "      <td>NaN</td>\n",
       "      <td>1636148068921376768</td>\n",
       "      <td>Gaia DR3 2211122251445487360</td>\n",
       "      <td>2211122251445487360</td>\n",
       "      <td>1339860886</td>\n",
       "      <td>2016.0</td>\n",
       "      <td>-3.128856</td>\n",
       "      <td>...</td>\n",
       "      <td>3.406311</td>\n",
       "      <td>2.137912</td>\n",
       "      <td>1.264893</td>\n",
       "      <td>0.816112</td>\n",
       "      <td>1.072429</td>\n",
       "      <td>0.002256</td>\n",
       "      <td>-0.138851</td>\n",
       "      <td>0.154876</td>\n",
       "      <td>0.145677</td>\n",
       "      <td>1.00</td>\n",
       "    </tr>\n",
       "  </tbody>\n",
       "</table>\n",
       "<p>5 rows × 177 columns</p>\n",
       "</div>"
      ],
      "text/plain": [
       "   Unnamed: 0              EDR3 id  reported  TIC          solution_id  \\\n",
       "0           0  2211121834828358528         3  NaN  1636148068921376768   \n",
       "1           1  2211122045287064320         3  NaN  1636148068921376768   \n",
       "2           2  2211122045287373312         3  NaN  1636148068921376768   \n",
       "3           3  2211122182726015232         3  NaN  1636148068921376768   \n",
       "4           5  2211122251445487360         3  NaN  1636148068921376768   \n",
       "\n",
       "                    designation            source_id  random_index  ref_epoch  \\\n",
       "0  Gaia DR3 2211121834828358528  2211121834828358528    1161687180     2016.0   \n",
       "1  Gaia DR3 2211122045287064320  2211122045287064320     349538297     2016.0   \n",
       "2  Gaia DR3 2211122045287373312  2211122045287373312    1377041690     2016.0   \n",
       "3  Gaia DR3 2211122182726015232  2211122182726015232    1758264312     2016.0   \n",
       "4  Gaia DR3 2211122251445487360  2211122251445487360    1339860886     2016.0   \n",
       "\n",
       "         ra  ...       A_y       A_J       A_H       A_K     BP-RP  \\\n",
       "0 -3.222717  ...  3.582699  2.248619  1.330393  0.858373  0.612384   \n",
       "1 -3.193050  ...  3.602076  2.260780  1.337588  0.863015  1.110911   \n",
       "2 -3.188447  ...  3.602076  2.260780  1.337588  0.863015  1.131225   \n",
       "3 -3.114499  ...  3.406311  2.137912  1.264893  0.816112  1.039132   \n",
       "4 -3.128856  ...  3.406311  2.137912  1.264893  0.816112  1.072429   \n",
       "\n",
       "   BP-RP_error     G_abs  G_abs_error    excess  occurences  \n",
       "0     0.015728  2.524399     0.440766  0.117419        0.68  \n",
       "1     0.003310  0.247588     0.166621  0.158199        1.00  \n",
       "2     0.002166 -0.324878     0.137461  0.157659        1.00  \n",
       "3     0.002248 -0.070783     0.142924  0.143648        1.00  \n",
       "4     0.002256 -0.138851     0.154876  0.145677        1.00  \n",
       "\n",
       "[5 rows x 177 columns]"
      ]
     },
     "execution_count": 7,
     "metadata": {},
     "output_type": "execute_result"
    }
   ],
   "source": [
    "found.head()"
   ]
  },
  {
   "cell_type": "code",
   "execution_count": 8,
   "id": "5a978a1f",
   "metadata": {
    "ExecuteTime": {
     "end_time": "2022-08-09T22:22:53.273316Z",
     "start_time": "2022-08-09T22:22:53.265016Z"
    }
   },
   "outputs": [],
   "source": [
    "not_found = pd.merge(not_found, lit[['EDR3 id', 'link_bibcode']], on='EDR3 id')"
   ]
  },
  {
   "cell_type": "code",
   "execution_count": 9,
   "id": "b7833f77",
   "metadata": {
    "ExecuteTime": {
     "end_time": "2022-08-09T22:22:53.626387Z",
     "start_time": "2022-08-09T22:22:53.614644Z"
    }
   },
   "outputs": [
    {
     "data": {
      "text/plain": [
       "Series([], Name: link_bibcode, dtype: int64)"
      ]
     },
     "execution_count": 9,
     "metadata": {},
     "output_type": "execute_result"
    }
   ],
   "source": [
    "not_found[not_found.occurences==0.0]['link_bibcode'].value_counts()"
   ]
  },
  {
   "cell_type": "code",
   "execution_count": 10,
   "id": "f343d9e3",
   "metadata": {
    "ExecuteTime": {
     "end_time": "2022-08-09T22:22:56.916522Z",
     "start_time": "2022-08-09T22:22:55.014399Z"
    }
   },
   "outputs": [],
   "source": [
    "clustered = add_colors_and_abs_mag(clustered)\n",
    "found = add_colors_and_abs_mag(found)\n",
    "not_found = add_colors_and_abs_mag(not_found)"
   ]
  },
  {
   "cell_type": "code",
   "execution_count": 11,
   "id": "b5f6a30b",
   "metadata": {
    "ExecuteTime": {
     "end_time": "2022-08-09T22:22:58.788698Z",
     "start_time": "2022-08-09T22:22:58.777740Z"
    }
   },
   "outputs": [
    {
     "data": {
      "text/plain": [
       "1.00    33\n",
       "0.98     5\n",
       "0.90     5\n",
       "0.68     4\n",
       "0.86     4\n",
       "0.66     3\n",
       "0.91     3\n",
       "0.70     3\n",
       "0.96     3\n",
       "0.72     3\n",
       "0.92     2\n",
       "0.44     2\n",
       "0.67     2\n",
       "0.88     2\n",
       "0.85     2\n",
       "0.83     2\n",
       "0.80     2\n",
       "0.95     2\n",
       "0.76     2\n",
       "0.65     2\n",
       "0.97     2\n",
       "0.69     1\n",
       "0.39     1\n",
       "0.50     1\n",
       "0.63     1\n",
       "0.77     1\n",
       "0.51     1\n",
       "0.73     1\n",
       "0.52     1\n",
       "0.87     1\n",
       "0.99     1\n",
       "0.84     1\n",
       "0.82     1\n",
       "0.79     1\n",
       "0.71     1\n",
       "0.57     1\n",
       "0.75     1\n",
       "0.55     1\n",
       "0.78     1\n",
       "0.81     1\n",
       "0.94     1\n",
       "0.93     1\n",
       "0.30     1\n",
       "Name: occurences, dtype: int64"
      ]
     },
     "execution_count": 11,
     "metadata": {},
     "output_type": "execute_result"
    }
   ],
   "source": [
    "found.occurences.value_counts()"
   ]
  },
  {
   "cell_type": "code",
   "execution_count": 12,
   "id": "9f6fb6b7",
   "metadata": {
    "ExecuteTime": {
     "end_time": "2022-08-09T22:23:00.929063Z",
     "start_time": "2022-08-09T22:23:00.730121Z"
    },
    "scrolled": false
   },
   "outputs": [
    {
     "data": {
      "image/png": "[encoded data removed]",
      "text/plain": [
       "<Figure size 720x576 with 1 Axes>"
      ]
     },
     "metadata": {
      "needs_background": "light"
     },
     "output_type": "display_data"
    }
   ],
   "source": [
    "plt.figure(figsize=(10, 8))\n",
    "plt.scatter(clustered['BP-RP'], clustered['G_abs'], color='skyblue', label='clustered sources');\n",
    "plt.scatter(found['BP-RP'], found['G_abs'], color='royalblue', label='literature sources')\n",
    "plt.plot(isochrone[:, 0], isochrone[:, 1], color='tomato', linewidth=3, label='PARSEC isochrone');\n",
    "plt.plot(isochrone[:, 0], isochrone[:, 1]-0.75, color='tomato', linewidth=3, linestyle='--', label='PARSEC binary limit');\n",
    "plt.gca().invert_yaxis();\n",
    "plt.gca().set_xlabel('BP-RP', fontsize=16);\n",
    "plt.gca().set_ylabel('G_abs', fontsize=16);\n",
    "plt.gca().set_ylim(10, -3);\n",
    "plt.gca().set_xlim(-1, 3);\n",
    "plt.legend(fontsize=16);"
   ]
  },
  {
   "cell_type": "markdown",
   "id": "f8834e17",
   "metadata": {},
   "source": [
    "# Not found?"
   ]
  },
  {
   "cell_type": "code",
   "execution_count": 13,
   "id": "db5a5630",
   "metadata": {
    "ExecuteTime": {
     "end_time": "2022-08-09T22:23:02.347724Z",
     "start_time": "2022-08-09T22:23:02.332926Z"
    }
   },
   "outputs": [
    {
     "name": "stdout",
     "output_type": "stream",
     "text": [
      "0 literature sources were not clustered.\n"
     ]
    }
   ],
   "source": [
    "print(f'{len(not_found[not_found.occurences==0.0])} literature sources were not clustered.')"
   ]
  },
  {
   "cell_type": "code",
   "execution_count": 15,
   "id": "25665069",
   "metadata": {
    "ExecuteTime": {
     "end_time": "2022-08-09T22:23:22.261092Z",
     "start_time": "2022-08-09T22:23:21.905336Z"
    }
   },
   "outputs": [
    {
     "data": {
      "image/png": "[encoded data removed]",
      "text/plain": [
       "<Figure size 720x576 with 1 Axes>"
      ]
     },
     "metadata": {
      "needs_background": "light"
     },
     "output_type": "display_data"
    }
   ],
   "source": [
    "plt.figure(figsize=(10, 8))\n",
    "plt.errorbar(found.pmra, found.pmdec, xerr=found.pmra_error,\n",
    "             yerr=found.pmdec_error, color='skyblue', fmt='o', zorder=0,\n",
    "             label='Found literature sources')\n",
    "plt.scatter(not_found.pmra, not_found.pmdec, alpha=1-not_found.occurences, color='royalblue', zorder=1,\n",
    "             label='Missed literature sources')\n",
    "\n",
    "plt.scatter(cp_pmra, cp_pmdec, marker='x', color='black', s=100, zorder=2)\n",
    "plt.gca().set_xlabel('$\\mu_{\\\\alpha*}$ [mas/yr]', fontsize=16)\n",
    "plt.gca().set_ylabel('$\\mu_{\\delta}$ [mas/yr]', fontsize=16)\n",
    "lgnd = plt.legend(fontsize=16);\n",
    "for handle in lgnd.legendHandles:\n",
    "    handle._alpha = 1.;"
   ]
  },
  {
   "cell_type": "code",
   "execution_count": null,
   "id": "dec40c9a",
   "metadata": {},
   "outputs": [],
   "source": []
  }
 ],
 "metadata": {
  "kernelspec": {
   "display_name": "Python 3 (ipykernel)",
   "language": "python",
   "name": "python3"
  },
  "language_info": {
   "codemirror_mode": {
    "name": "ipython",
    "version": 3
   },
   "file_extension": ".py",
   "mimetype": "text/x-python",
   "name": "python",
   "nbconvert_exporter": "python",
   "pygments_lexer": "ipython3",
   "version": "3.9.10"
  },
  "toc": {
   "base_numbering": 1,
   "nav_menu": {},
   "number_sections": true,
   "sideBar": true,
   "skip_h1_title": false,
   "title_cell": "Table of Contents",
   "title_sidebar": "Contents",
   "toc_cell": false,
   "toc_position": {},
   "toc_section_display": true,
   "toc_window_display": false
  },
  "varInspector": {
   "cols": {
    "lenName": 16,
    "lenType": 16,
    "lenVar": 40
   },
   "kernels_config": {
    "python": {
     "delete_cmd_postfix": "",
     "delete_cmd_prefix": "del ",
     "library": "var_list.py",
     "varRefreshCmd": "print(var_dic_list())"
    },
    "r": {
     "delete_cmd_postfix": ") ",
     "delete_cmd_prefix": "rm(",
     "library": "var_list.r",
     "varRefreshCmd": "cat(var_dic_list()) "
    }
   },
   "types_to_exclude": [
    "module",
    "function",
    "builtin_function_or_method",
    "instance",
    "_Feature"
   ],
   "window_display": false
  }
 },
 "nbformat": 4,
 "nbformat_minor": 5
}
