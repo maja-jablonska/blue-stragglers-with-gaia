{
 "cells": [
  {
   "cell_type": "code",
   "execution_count": 76,
   "id": "862a836d",
   "metadata": {
    "ExecuteTime": {
     "end_time": "2022-08-02T12:51:26.568381Z",
     "start_time": "2022-08-02T12:51:26.560203Z"
    }
   },
   "outputs": [],
   "source": [
    "import pandas as pd\n",
    "from astroquery.gaia import Gaia\n",
    "from typing import List\n",
    "import matplotlib.pyplot as plt\n",
    "\n",
    "from astropy import units as u\n",
    "from astropy.time import Time\n",
    "from astropy.timeseries import BoxLeastSquares, TimeSeries"
   ]
  },
  {
   "cell_type": "code",
   "execution_count": 64,
   "id": "54f48696",
   "metadata": {
    "ExecuteTime": {
     "end_time": "2022-08-02T12:47:57.191757Z",
     "start_time": "2022-08-02T12:47:57.178893Z"
    }
   },
   "outputs": [],
   "source": [
    "def download_lightcurves(source_ids: np.ndarray) -> List[pd.DataFrame]:\n",
    "    retrieval_type = 'ALL'          # Options are: 'EPOCH_PHOTOMETRY', 'MCMC_GSPPHOT', 'MCMC_MSC', 'XP_SAMPLED', 'XP_CONTINUOUS', 'RVS', 'ALL'\n",
    "    data_structure = 'INDIVIDUAL'   # Options are: 'INDIVIDUAL', 'COMBINED', 'RAW'\n",
    "    data_release   = 'Gaia DR3'     # Options are: 'Gaia DR3' (default), 'Gaia DR2'\n",
    "\n",
    "    \n",
    "    lightcurves: List[pd.DataFrame] = []\n",
    "\n",
    "    datalink = Gaia.load_data(ids=source_ids,\n",
    "                              data_release = data_release,\n",
    "                              retrieval_type= 'EPOCH_PHOTOMETRY',\n",
    "                              data_structure = data_structure,\n",
    "                              verbose = False, output_file = None)\n",
    "    dl_keys  = [inp for inp in datalink.keys()]\n",
    "    dl_keys.sort()\n",
    "\n",
    "    print(f'{len(dl_keys)} lightcurves found.')\n",
    "    for dl_key in dl_keys:\n",
    "        print(f'\\tDownloading {dl_key}')\n",
    "        lightcurves.append(datalink[dl_key][0].to_table().to_pandas())\n",
    "        \n",
    "    return lightcurves"
   ]
  },
  {
   "cell_type": "code",
   "execution_count": 60,
   "id": "597fed2b",
   "metadata": {
    "ExecuteTime": {
     "end_time": "2022-08-02T12:46:20.455737Z",
     "start_time": "2022-08-02T12:46:20.448550Z"
    }
   },
   "outputs": [],
   "source": [
    "def vari_short_timescale(source_ids: np.ndarray) -> pd.DataFrame:\n",
    "    query = f'''\n",
    "        SELECT * \n",
    "        FROM gaiadr3.vari_short_timescale \n",
    "        WHERE vari_short_timescale.source_id IN ({', '.join([str(si) for si in source_ids])})\n",
    "    '''\n",
    "    \n",
    "    job = Gaia.launch_job_async(query, output_format='csv')\n",
    "    \n",
    "    return job.get_results().to_pandas()"
   ]
  },
  {
   "cell_type": "code",
   "execution_count": 54,
   "id": "c025fc69",
   "metadata": {
    "ExecuteTime": {
     "end_time": "2022-08-02T12:41:45.829107Z",
     "start_time": "2022-08-02T12:41:45.799941Z"
    }
   },
   "outputs": [],
   "source": [
    "bss_candidates = pd.read_csv('bss_candidates.csv')"
   ]
  },
  {
   "cell_type": "code",
   "execution_count": 22,
   "id": "35d11ec1",
   "metadata": {
    "ExecuteTime": {
     "end_time": "2022-08-02T10:54:45.007277Z",
     "start_time": "2022-08-02T10:54:44.975403Z"
    }
   },
   "outputs": [],
   "source": [
    "yss_candidates = pd.read_csv('yss_candidates.csv')"
   ]
  },
  {
   "cell_type": "markdown",
   "id": "b1c69e60",
   "metadata": {},
   "source": [
    "# BSS candidates"
   ]
  },
  {
   "cell_type": "code",
   "execution_count": 65,
   "id": "826d7c10",
   "metadata": {
    "ExecuteTime": {
     "end_time": "2022-08-02T12:48:09.043750Z",
     "start_time": "2022-08-02T12:48:00.810388Z"
    }
   },
   "outputs": [
    {
     "name": "stdout",
     "output_type": "stream",
     "text": [
      "2 lightcurves found.\n",
      "\tDownloading EPOCH_PHOTOMETRY-Gaia DR3 573944283722429952.xml\n",
      "\tDownloading EPOCH_PHOTOMETRY-Gaia DR3 573968576057423360.xml\n"
     ]
    }
   ],
   "source": [
    "bss_phot = bss_candidates[bss_candidates.phot_variable_flag=='VARIABLE']\n",
    "bss_lightcurves = download_lightcurves(bss_phot.source_id.values)"
   ]
  },
  {
   "cell_type": "code",
   "execution_count": 61,
   "id": "553a33f3",
   "metadata": {
    "ExecuteTime": {
     "end_time": "2022-08-02T12:46:53.667128Z",
     "start_time": "2022-08-02T12:46:52.912482Z"
    }
   },
   "outputs": [
    {
     "name": "stdout",
     "output_type": "stream",
     "text": [
      "INFO: Query finished. [astroquery.utils.tap.core]\n"
     ]
    }
   ],
   "source": [
    "short_timescale_info = vari_short_timescale(bss_phot.source_id.values)"
   ]
  },
  {
   "cell_type": "code",
   "execution_count": 62,
   "id": "853772c1",
   "metadata": {
    "ExecuteTime": {
     "end_time": "2022-08-02T12:46:57.022673Z",
     "start_time": "2022-08-02T12:46:57.001061Z"
    }
   },
   "outputs": [
    {
     "data": {
      "text/html": [
       "<div>\n",
       "<style scoped>\n",
       "    .dataframe tbody tr th:only-of-type {\n",
       "        vertical-align: middle;\n",
       "    }\n",
       "\n",
       "    .dataframe tbody tr th {\n",
       "        vertical-align: top;\n",
       "    }\n",
       "\n",
       "    .dataframe thead th {\n",
       "        text-align: right;\n",
       "    }\n",
       "</style>\n",
       "<table border=\"1\" class=\"dataframe\">\n",
       "  <thead>\n",
       "    <tr style=\"text-align: right;\">\n",
       "      <th></th>\n",
       "      <th>solution_id</th>\n",
       "      <th>source_id</th>\n",
       "      <th>amplitude_estimate</th>\n",
       "      <th>number_of_fov_transits</th>\n",
       "      <th>mean_of_fov_abbe_values</th>\n",
       "      <th>variogram_num_points</th>\n",
       "      <th>variogram_char_timescales</th>\n",
       "      <th>variogram_values</th>\n",
       "      <th>frequency</th>\n",
       "    </tr>\n",
       "  </thead>\n",
       "  <tbody>\n",
       "    <tr>\n",
       "      <th>0</th>\n",
       "      <td>375316653866487564</td>\n",
       "      <td>573944283722429952</td>\n",
       "      <td>0.070808</td>\n",
       "      <td>45</td>\n",
       "      <td>1.00579</td>\n",
       "      <td>1</td>\n",
       "      <td>(0.176)</td>\n",
       "      <td>(0.0023709204660254096)</td>\n",
       "      <td>32.39746</td>\n",
       "    </tr>\n",
       "  </tbody>\n",
       "</table>\n",
       "</div>"
      ],
      "text/plain": [
       "          solution_id           source_id  amplitude_estimate  \\\n",
       "0  375316653866487564  573944283722429952            0.070808   \n",
       "\n",
       "   number_of_fov_transits  mean_of_fov_abbe_values  variogram_num_points  \\\n",
       "0                      45                  1.00579                     1   \n",
       "\n",
       "  variogram_char_timescales         variogram_values  frequency  \n",
       "0                   (0.176)  (0.0023709204660254096)   32.39746  "
      ]
     },
     "execution_count": 62,
     "metadata": {},
     "output_type": "execute_result"
    }
   ],
   "source": [
    "short_timescale_info"
   ]
  },
  {
   "cell_type": "code",
   "execution_count": 66,
   "id": "7ed56a4a",
   "metadata": {
    "ExecuteTime": {
     "end_time": "2022-08-02T12:48:27.835713Z",
     "start_time": "2022-08-02T12:48:27.829859Z"
    }
   },
   "outputs": [],
   "source": [
    "bss2_lc = bss_lightcurves[1]"
   ]
  },
  {
   "cell_type": "code",
   "execution_count": 68,
   "id": "858743af",
   "metadata": {
    "ExecuteTime": {
     "end_time": "2022-08-02T12:48:57.907562Z",
     "start_time": "2022-08-02T12:48:57.867028Z"
    }
   },
   "outputs": [
    {
     "data": {
      "text/html": [
       "<div>\n",
       "<style scoped>\n",
       "    .dataframe tbody tr th:only-of-type {\n",
       "        vertical-align: middle;\n",
       "    }\n",
       "\n",
       "    .dataframe tbody tr th {\n",
       "        vertical-align: top;\n",
       "    }\n",
       "\n",
       "    .dataframe thead th {\n",
       "        text-align: right;\n",
       "    }\n",
       "</style>\n",
       "<table border=\"1\" class=\"dataframe\">\n",
       "  <thead>\n",
       "    <tr style=\"text-align: right;\">\n",
       "      <th></th>\n",
       "      <th>source_id</th>\n",
       "      <th>transit_id</th>\n",
       "      <th>band</th>\n",
       "      <th>time</th>\n",
       "      <th>mag</th>\n",
       "      <th>flux</th>\n",
       "      <th>flux_error</th>\n",
       "      <th>flux_over_error</th>\n",
       "      <th>rejected_by_photometry</th>\n",
       "      <th>rejected_by_variability</th>\n",
       "      <th>other_flags</th>\n",
       "      <th>solution_id</th>\n",
       "    </tr>\n",
       "  </thead>\n",
       "  <tbody>\n",
       "    <tr>\n",
       "      <th>0</th>\n",
       "      <td>573968576057423360</td>\n",
       "      <td>16794185389056965</td>\n",
       "      <td>G</td>\n",
       "      <td>1700.557482</td>\n",
       "      <td>13.258732</td>\n",
       "      <td>93638.382788</td>\n",
       "      <td>97.088994</td>\n",
       "      <td>964.459290</td>\n",
       "      <td>False</td>\n",
       "      <td>False</td>\n",
       "      <td>1</td>\n",
       "      <td>375316653866487564</td>\n",
       "    </tr>\n",
       "    <tr>\n",
       "      <th>1</th>\n",
       "      <td>573968576057423360</td>\n",
       "      <td>16798277678981731</td>\n",
       "      <td>G</td>\n",
       "      <td>1700.631492</td>\n",
       "      <td>13.248248</td>\n",
       "      <td>94546.930254</td>\n",
       "      <td>87.650003</td>\n",
       "      <td>1078.687134</td>\n",
       "      <td>False</td>\n",
       "      <td>False</td>\n",
       "      <td>1</td>\n",
       "      <td>375316653866487564</td>\n",
       "    </tr>\n",
       "    <tr>\n",
       "      <th>2</th>\n",
       "      <td>573968576057423360</td>\n",
       "      <td>18920283006998245</td>\n",
       "      <td>G</td>\n",
       "      <td>1739.008450</td>\n",
       "      <td>13.239307</td>\n",
       "      <td>95328.747046</td>\n",
       "      <td>80.869795</td>\n",
       "      <td>1178.792969</td>\n",
       "      <td>False</td>\n",
       "      <td>False</td>\n",
       "      <td>1</td>\n",
       "      <td>375316653866487564</td>\n",
       "    </tr>\n",
       "    <tr>\n",
       "      <th>3</th>\n",
       "      <td>573968576057423360</td>\n",
       "      <td>18930023819277864</td>\n",
       "      <td>G</td>\n",
       "      <td>1739.184614</td>\n",
       "      <td>13.238245</td>\n",
       "      <td>95422.013248</td>\n",
       "      <td>70.423744</td>\n",
       "      <td>1354.969360</td>\n",
       "      <td>False</td>\n",
       "      <td>False</td>\n",
       "      <td>1</td>\n",
       "      <td>375316653866487564</td>\n",
       "    </tr>\n",
       "    <tr>\n",
       "      <th>4</th>\n",
       "      <td>573968576057423360</td>\n",
       "      <td>21028967752677174</td>\n",
       "      <td>G</td>\n",
       "      <td>1777.144090</td>\n",
       "      <td>13.242362</td>\n",
       "      <td>95060.910439</td>\n",
       "      <td>180.323169</td>\n",
       "      <td>527.169678</td>\n",
       "      <td>False</td>\n",
       "      <td>False</td>\n",
       "      <td>4097</td>\n",
       "      <td>375316653866487564</td>\n",
       "    </tr>\n",
       "  </tbody>\n",
       "</table>\n",
       "</div>"
      ],
      "text/plain": [
       "            source_id         transit_id band         time        mag  \\\n",
       "0  573968576057423360  16794185389056965    G  1700.557482  13.258732   \n",
       "1  573968576057423360  16798277678981731    G  1700.631492  13.248248   \n",
       "2  573968576057423360  18920283006998245    G  1739.008450  13.239307   \n",
       "3  573968576057423360  18930023819277864    G  1739.184614  13.238245   \n",
       "4  573968576057423360  21028967752677174    G  1777.144090  13.242362   \n",
       "\n",
       "           flux  flux_error  flux_over_error  rejected_by_photometry  \\\n",
       "0  93638.382788   97.088994       964.459290                   False   \n",
       "1  94546.930254   87.650003      1078.687134                   False   \n",
       "2  95328.747046   80.869795      1178.792969                   False   \n",
       "3  95422.013248   70.423744      1354.969360                   False   \n",
       "4  95060.910439  180.323169       527.169678                   False   \n",
       "\n",
       "   rejected_by_variability  other_flags         solution_id  \n",
       "0                    False            1  375316653866487564  \n",
       "1                    False            1  375316653866487564  \n",
       "2                    False            1  375316653866487564  \n",
       "3                    False            1  375316653866487564  \n",
       "4                    False         4097  375316653866487564  "
      ]
     },
     "execution_count": 68,
     "metadata": {},
     "output_type": "execute_result"
    }
   ],
   "source": [
    "bss2_lc.head()"
   ]
  },
  {
   "cell_type": "code",
   "execution_count": 70,
   "id": "a61ac0d3",
   "metadata": {
    "ExecuteTime": {
     "end_time": "2022-08-02T12:50:20.137108Z",
     "start_time": "2022-08-02T12:50:19.894499Z"
    }
   },
   "outputs": [
    {
     "data": {
      "text/plain": [
       "<ErrorbarContainer object of 3 artists>"
      ]
     },
     "execution_count": 70,
     "metadata": {},
     "output_type": "execute_result"
    },
    {
     "data": {
      "image/png": "[encoded data removed]",
      "text/plain": [
       "<Figure size 432x288 with 1 Axes>"
      ]
     },
     "metadata": {
      "needs_background": "light"
     },
     "output_type": "display_data"
    }
   ],
   "source": [
    "g_mag = bss2_lc[bss2_lc.band=='G']\n",
    "\n",
    "plt.errorbar(x=g_mag.time, y=g_mag.flux, yerr=g_mag.flux_error, color='black', fmt='o')"
   ]
  },
  {
   "cell_type": "code",
   "execution_count": 79,
   "id": "c38f42bc",
   "metadata": {
    "ExecuteTime": {
     "end_time": "2022-08-02T12:52:22.002454Z",
     "start_time": "2022-08-02T12:52:21.995052Z"
    }
   },
   "outputs": [],
   "source": [
    "model = BoxLeastSquares(g_mag.time.values*u.day, g_mag.flux.values)"
   ]
  },
  {
   "cell_type": "code",
   "execution_count": 86,
   "id": "7888f099",
   "metadata": {
    "ExecuteTime": {
     "end_time": "2022-08-02T14:27:43.015985Z",
     "start_time": "2022-08-02T14:24:22.311458Z"
    }
   },
   "outputs": [],
   "source": [
    "periodogram = model.autopower(0.1)"
   ]
  },
  {
   "cell_type": "code",
   "execution_count": 87,
   "id": "892dcc72",
   "metadata": {
    "ExecuteTime": {
     "end_time": "2022-08-02T14:28:02.747941Z",
     "start_time": "2022-08-02T14:27:43.851108Z"
    }
   },
   "outputs": [
    {
     "data": {
      "text/plain": [
       "[<matplotlib.lines.Line2D at 0x7f87f0315f70>]"
      ]
     },
     "execution_count": 87,
     "metadata": {},
     "output_type": "execute_result"
    },
    {
     "data": {
      "image/png": "[encoded data removed]",
      "text/plain": [
       "<Figure size 432x288 with 1 Axes>"
      ]
     },
     "metadata": {
      "needs_background": "light"
     },
     "output_type": "display_data"
    }
   ],
   "source": [
    "plt.figure();\n",
    "plt.plot(periodogram.period, periodogram.power)"
   ]
  },
  {
   "cell_type": "code",
   "execution_count": 40,
   "id": "f4554d6b",
   "metadata": {
    "ExecuteTime": {
     "end_time": "2022-08-02T12:03:25.326290Z",
     "start_time": "2022-08-02T12:03:25.314999Z"
    }
   },
   "outputs": [
    {
     "data": {
      "text/plain": [
       "0     0\n",
       "1     0\n",
       "2     2\n",
       "3     0\n",
       "4     0\n",
       "5     0\n",
       "6     0\n",
       "7     0\n",
       "8     0\n",
       "9     0\n",
       "10    0\n",
       "11    0\n",
       "12    2\n",
       "13    0\n",
       "Name: non_single_star, dtype: int64"
      ]
     },
     "execution_count": 40,
     "metadata": {},
     "output_type": "execute_result"
    }
   ],
   "source": [
    "yss_candidates.non_single_star"
   ]
  },
  {
   "cell_type": "code",
   "execution_count": 23,
   "id": "67f312d4",
   "metadata": {
    "ExecuteTime": {
     "end_time": "2022-08-02T10:54:45.410212Z",
     "start_time": "2022-08-02T10:54:45.397636Z"
    }
   },
   "outputs": [
    {
     "data": {
      "text/plain": [
       "14"
      ]
     },
     "execution_count": 23,
     "metadata": {},
     "output_type": "execute_result"
    }
   ],
   "source": [
    "len(yss_candidates)"
   ]
  },
  {
   "cell_type": "code",
   "execution_count": 38,
   "id": "96e37be7",
   "metadata": {
    "ExecuteTime": {
     "end_time": "2022-08-02T11:49:18.626190Z",
     "start_time": "2022-08-02T11:49:18.573328Z"
    }
   },
   "outputs": [
    {
     "data": {
      "text/html": [
       "<div>\n",
       "<style scoped>\n",
       "    .dataframe tbody tr th:only-of-type {\n",
       "        vertical-align: middle;\n",
       "    }\n",
       "\n",
       "    .dataframe tbody tr th {\n",
       "        vertical-align: top;\n",
       "    }\n",
       "\n",
       "    .dataframe thead th {\n",
       "        text-align: right;\n",
       "    }\n",
       "</style>\n",
       "<table border=\"1\" class=\"dataframe\">\n",
       "  <thead>\n",
       "    <tr style=\"text-align: right;\">\n",
       "      <th></th>\n",
       "      <th>solution_id</th>\n",
       "      <th>designation</th>\n",
       "      <th>source_id</th>\n",
       "      <th>random_index</th>\n",
       "      <th>ref_epoch</th>\n",
       "      <th>ra</th>\n",
       "      <th>ra_error</th>\n",
       "      <th>dec</th>\n",
       "      <th>dec_error</th>\n",
       "      <th>parallax</th>\n",
       "      <th>...</th>\n",
       "      <th>A_z</th>\n",
       "      <th>A_y</th>\n",
       "      <th>A_J</th>\n",
       "      <th>A_H</th>\n",
       "      <th>A_K</th>\n",
       "      <th>BP-RP</th>\n",
       "      <th>BP-RP_error</th>\n",
       "      <th>G_abs</th>\n",
       "      <th>G_abs_error</th>\n",
       "      <th>outlier</th>\n",
       "    </tr>\n",
       "  </thead>\n",
       "  <tbody>\n",
       "    <tr>\n",
       "      <th>22</th>\n",
       "      <td>1636148068921376768</td>\n",
       "      <td>Gaia DR3 573944283722429952</td>\n",
       "      <td>573944283722429952</td>\n",
       "      <td>1692006547</td>\n",
       "      <td>2016.0</td>\n",
       "      <td>10.849436</td>\n",
       "      <td>0.017361</td>\n",
       "      <td>85.342409</td>\n",
       "      <td>0.01773</td>\n",
       "      <td>0.512738</td>\n",
       "      <td>...</td>\n",
       "      <td>0.432171</td>\n",
       "      <td>0.352377</td>\n",
       "      <td>0.221163</td>\n",
       "      <td>0.130851</td>\n",
       "      <td>0.084425</td>\n",
       "      <td>0.638973</td>\n",
       "      <td>0.005293</td>\n",
       "      <td>3.306617</td>\n",
       "      <td>0.078882</td>\n",
       "      <td>-1</td>\n",
       "    </tr>\n",
       "    <tr>\n",
       "      <th>24</th>\n",
       "      <td>1636148068921376768</td>\n",
       "      <td>Gaia DR3 573968576057423360</td>\n",
       "      <td>573968576057423360</td>\n",
       "      <td>619651974</td>\n",
       "      <td>2016.0</td>\n",
       "      <td>11.089231</td>\n",
       "      <td>0.013633</td>\n",
       "      <td>85.441673</td>\n",
       "      <td>0.01292</td>\n",
       "      <td>0.540633</td>\n",
       "      <td>...</td>\n",
       "      <td>0.432171</td>\n",
       "      <td>0.352377</td>\n",
       "      <td>0.221163</td>\n",
       "      <td>0.130851</td>\n",
       "      <td>0.084425</td>\n",
       "      <td>0.324245</td>\n",
       "      <td>0.001706</td>\n",
       "      <td>1.680547</td>\n",
       "      <td>0.057213</td>\n",
       "      <td>-1</td>\n",
       "    </tr>\n",
       "  </tbody>\n",
       "</table>\n",
       "<p>2 rows × 173 columns</p>\n",
       "</div>"
      ],
      "text/plain": [
       "            solution_id                  designation           source_id  \\\n",
       "22  1636148068921376768  Gaia DR3 573944283722429952  573944283722429952   \n",
       "24  1636148068921376768  Gaia DR3 573968576057423360  573968576057423360   \n",
       "\n",
       "    random_index  ref_epoch         ra  ra_error        dec  dec_error  \\\n",
       "22    1692006547     2016.0  10.849436  0.017361  85.342409    0.01773   \n",
       "24     619651974     2016.0  11.089231  0.013633  85.441673    0.01292   \n",
       "\n",
       "    parallax  ...       A_z       A_y       A_J       A_H       A_K     BP-RP  \\\n",
       "22  0.512738  ...  0.432171  0.352377  0.221163  0.130851  0.084425  0.638973   \n",
       "24  0.540633  ...  0.432171  0.352377  0.221163  0.130851  0.084425  0.324245   \n",
       "\n",
       "    BP-RP_error     G_abs  G_abs_error  outlier  \n",
       "22     0.005293  3.306617     0.078882       -1  \n",
       "24     0.001706  1.680547     0.057213       -1  \n",
       "\n",
       "[2 rows x 173 columns]"
      ]
     },
     "execution_count": 38,
     "metadata": {},
     "output_type": "execute_result"
    }
   ],
   "source": [
    "bss_candidates[bss_candidates.phot_variable_flag=='VARIABLE']"
   ]
  },
  {
   "cell_type": "code",
   "execution_count": 30,
   "id": "5bf8a3cc",
   "metadata": {
    "ExecuteTime": {
     "end_time": "2022-08-02T10:56:15.976767Z",
     "start_time": "2022-08-02T10:56:15.962190Z"
    }
   },
   "outputs": [],
   "source": [
    "rv = yss_candidates.dropna(subset=['rv_amplitude_robust'])"
   ]
  },
  {
   "cell_type": "code",
   "execution_count": null,
   "id": "f98ef73e",
   "metadata": {},
   "outputs": [],
   "source": []
  },
  {
   "cell_type": "code",
   "execution_count": 32,
   "id": "8f88d872",
   "metadata": {
    "ExecuteTime": {
     "end_time": "2022-08-02T10:56:24.673800Z",
     "start_time": "2022-08-02T10:56:24.664989Z"
    }
   },
   "outputs": [
    {
     "data": {
      "text/plain": [
       "7"
      ]
     },
     "execution_count": 32,
     "metadata": {},
     "output_type": "execute_result"
    }
   ],
   "source": [
    "rv.rv_"
   ]
  },
  {
   "cell_type": "code",
   "execution_count": 31,
   "id": "ddee80cc",
   "metadata": {
    "ExecuteTime": {
     "end_time": "2022-08-02T10:56:18.212837Z",
     "start_time": "2022-08-02T10:56:18.182674Z"
    }
   },
   "outputs": [
    {
     "data": {
      "text/plain": [
       "['solution_id',\n",
       " 'designation',\n",
       " 'source_id',\n",
       " 'random_index',\n",
       " 'ref_epoch',\n",
       " 'ra',\n",
       " 'ra_error',\n",
       " 'dec',\n",
       " 'dec_error',\n",
       " 'parallax',\n",
       " 'parallax_error',\n",
       " 'parallax_over_error',\n",
       " 'pm',\n",
       " 'pmra',\n",
       " 'pmra_error',\n",
       " 'pmdec',\n",
       " 'pmdec_error',\n",
       " 'ra_dec_corr',\n",
       " 'ra_parallax_corr',\n",
       " 'ra_pmra_corr',\n",
       " 'ra_pmdec_corr',\n",
       " 'dec_parallax_corr',\n",
       " 'dec_pmra_corr',\n",
       " 'dec_pmdec_corr',\n",
       " 'parallax_pmra_corr',\n",
       " 'parallax_pmdec_corr',\n",
       " 'pmra_pmdec_corr',\n",
       " 'astrometric_n_obs_al',\n",
       " 'astrometric_n_obs_ac',\n",
       " 'astrometric_n_good_obs_al',\n",
       " 'astrometric_n_bad_obs_al',\n",
       " 'astrometric_gof_al',\n",
       " 'astrometric_chi2_al',\n",
       " 'astrometric_excess_noise',\n",
       " 'astrometric_excess_noise_sig',\n",
       " 'astrometric_params_solved',\n",
       " 'astrometric_primary_flag',\n",
       " 'nu_eff_used_in_astrometry',\n",
       " 'pseudocolour',\n",
       " 'pseudocolour_error',\n",
       " 'ra_pseudocolour_corr',\n",
       " 'dec_pseudocolour_corr',\n",
       " 'parallax_pseudocolour_corr',\n",
       " 'pmra_pseudocolour_corr',\n",
       " 'pmdec_pseudocolour_corr',\n",
       " 'astrometric_matched_transits',\n",
       " 'visibility_periods_used',\n",
       " 'astrometric_sigma5d_max',\n",
       " 'matched_transits',\n",
       " 'new_matched_transits',\n",
       " 'matched_transits_removed',\n",
       " 'ipd_gof_harmonic_amplitude',\n",
       " 'ipd_gof_harmonic_phase',\n",
       " 'ipd_frac_multi_peak',\n",
       " 'ipd_frac_odd_win',\n",
       " 'ruwe',\n",
       " 'scan_direction_strength_k1',\n",
       " 'scan_direction_strength_k2',\n",
       " 'scan_direction_strength_k3',\n",
       " 'scan_direction_strength_k4',\n",
       " 'scan_direction_mean_k1',\n",
       " 'scan_direction_mean_k2',\n",
       " 'scan_direction_mean_k3',\n",
       " 'scan_direction_mean_k4',\n",
       " 'duplicated_source',\n",
       " 'phot_g_n_obs',\n",
       " 'phot_g_mean_flux',\n",
       " 'phot_g_mean_flux_error',\n",
       " 'phot_g_mean_flux_over_error',\n",
       " 'G',\n",
       " 'phot_bp_n_obs',\n",
       " 'phot_bp_mean_flux',\n",
       " 'phot_bp_mean_flux_error',\n",
       " 'phot_bp_mean_flux_over_error',\n",
       " 'BP',\n",
       " 'phot_rp_n_obs',\n",
       " 'phot_rp_mean_flux',\n",
       " 'phot_rp_mean_flux_error',\n",
       " 'phot_rp_mean_flux_over_error',\n",
       " 'RP',\n",
       " 'phot_bp_rp_excess_factor',\n",
       " 'phot_bp_n_contaminated_transits',\n",
       " 'phot_bp_n_blended_transits',\n",
       " 'phot_rp_n_contaminated_transits',\n",
       " 'phot_rp_n_blended_transits',\n",
       " 'phot_proc_mode',\n",
       " 'bp_rp',\n",
       " 'bp_g',\n",
       " 'g_rp',\n",
       " 'radial_velocity',\n",
       " 'radial_velocity_error',\n",
       " 'rv_method_used',\n",
       " 'rv_nb_transits',\n",
       " 'rv_nb_deblended_transits',\n",
       " 'rv_visibility_periods_used',\n",
       " 'rv_expected_sig_to_noise',\n",
       " 'rv_renormalised_gof',\n",
       " 'rv_chisq_pvalue',\n",
       " 'rv_time_duration',\n",
       " 'rv_amplitude_robust',\n",
       " 'rv_template_teff',\n",
       " 'rv_template_logg',\n",
       " 'rv_template_fe_h',\n",
       " 'rv_atm_param_origin',\n",
       " 'vbroad',\n",
       " 'vbroad_error',\n",
       " 'vbroad_nb_transits',\n",
       " 'grvs_mag',\n",
       " 'grvs_mag_error',\n",
       " 'grvs_mag_nb_transits',\n",
       " 'rvs_spec_sig_to_noise',\n",
       " 'phot_variable_flag',\n",
       " 'l',\n",
       " 'b',\n",
       " 'ecl_lon',\n",
       " 'ecl_lat',\n",
       " 'in_qso_candidates',\n",
       " 'in_galaxy_candidates',\n",
       " 'non_single_star',\n",
       " 'has_xp_continuous',\n",
       " 'has_xp_sampled',\n",
       " 'has_rvs',\n",
       " 'has_epoch_photometry',\n",
       " 'has_epoch_rv',\n",
       " 'has_mcmc_gspphot',\n",
       " 'has_mcmc_msc',\n",
       " 'in_andromeda_survey',\n",
       " 'classprob_dsc_combmod_quasar',\n",
       " 'classprob_dsc_combmod_galaxy',\n",
       " 'classprob_dsc_combmod_star',\n",
       " 'teff_gspphot',\n",
       " 'teff_gspphot_lower',\n",
       " 'teff_gspphot_upper',\n",
       " 'logg_gspphot',\n",
       " 'logg_gspphot_lower',\n",
       " 'logg_gspphot_upper',\n",
       " 'mh_gspphot',\n",
       " 'mh_gspphot_lower',\n",
       " 'mh_gspphot_upper',\n",
       " 'distance_gspphot',\n",
       " 'distance_gspphot_lower',\n",
       " 'distance_gspphot_upper',\n",
       " 'azero_gspphot',\n",
       " 'azero_gspphot_lower',\n",
       " 'azero_gspphot_upper',\n",
       " 'ag_gspphot',\n",
       " 'ag_gspphot_lower',\n",
       " 'ag_gspphot_upper',\n",
       " 'ebpminrp_gspphot',\n",
       " 'ebpminrp_gspphot_lower',\n",
       " 'ebpminrp_gspphot_upper',\n",
       " 'libname_gspphot',\n",
       " 'TIC',\n",
       " 'BP_error',\n",
       " 'RP_error',\n",
       " 'G_error',\n",
       " 'E(B_V)',\n",
       " 'A_G',\n",
       " 'A_BP',\n",
       " 'A_RP',\n",
       " 'A_g',\n",
       " 'A_r',\n",
       " 'A_i',\n",
       " 'A_z',\n",
       " 'A_y',\n",
       " 'A_J',\n",
       " 'A_H',\n",
       " 'A_K',\n",
       " 'BP-RP',\n",
       " 'BP-RP_error',\n",
       " 'G_abs',\n",
       " 'G_abs_error',\n",
       " 'outlier']"
      ]
     },
     "execution_count": 31,
     "metadata": {},
     "output_type": "execute_result"
    }
   ],
   "source": [
    "list(yss_candidates.columns)"
   ]
  },
  {
   "cell_type": "code",
   "execution_count": 33,
   "id": "edf92b04",
   "metadata": {
    "ExecuteTime": {
     "end_time": "2022-08-02T10:56:27.314708Z",
     "start_time": "2022-08-02T10:56:27.305020Z"
    }
   },
   "outputs": [],
   "source": [
    "rv_yss = yss_candidates[yss_candidates.rv_amplitude_robust>=6*yss_candidates.radial_velocity_error]"
   ]
  },
  {
   "cell_type": "code",
   "execution_count": 47,
   "id": "465a8e36",
   "metadata": {
    "ExecuteTime": {
     "end_time": "2022-08-02T12:10:41.639870Z",
     "start_time": "2022-08-02T12:10:41.629738Z"
    }
   },
   "outputs": [
    {
     "data": {
      "text/plain": [
       "0      4.301125\n",
       "2     40.335930\n",
       "4      4.961807\n",
       "9      4.703495\n",
       "10     3.705101\n",
       "12    11.476746\n",
       "13     7.787983\n",
       "Name: rv_amplitude_robust, dtype: float64"
      ]
     },
     "execution_count": 47,
     "metadata": {},
     "output_type": "execute_result"
    }
   ],
   "source": [
    "rv.rv_amplitude_robust"
   ]
  },
  {
   "cell_type": "code",
   "execution_count": 48,
   "id": "9f7f146a",
   "metadata": {
    "ExecuteTime": {
     "end_time": "2022-08-02T12:10:42.103045Z",
     "start_time": "2022-08-02T12:10:42.095323Z"
    }
   },
   "outputs": [
    {
     "data": {
      "text/plain": [
       "0     0.356694\n",
       "2     4.703893\n",
       "4     0.323615\n",
       "9     0.374134\n",
       "10    0.373820\n",
       "12    1.227304\n",
       "13    0.503927\n",
       "Name: radial_velocity_error, dtype: float64"
      ]
     },
     "execution_count": 48,
     "metadata": {},
     "output_type": "execute_result"
    }
   ],
   "source": [
    "rv.radial_velocity_error"
   ]
  },
  {
   "cell_type": "code",
   "execution_count": 49,
   "id": "29a10d37",
   "metadata": {
    "ExecuteTime": {
     "end_time": "2022-08-02T12:11:36.625957Z",
     "start_time": "2022-08-02T12:11:36.606662Z"
    }
   },
   "outputs": [
    {
     "data": {
      "text/plain": [
       "0     -0.124132\n",
       "2     38.806580\n",
       "4     -0.698303\n",
       "9     -0.135582\n",
       "10    -1.525915\n",
       "12    11.324680\n",
       "13    -1.295523\n",
       "Name: rv_renormalised_gof, dtype: float64"
      ]
     },
     "execution_count": 49,
     "metadata": {},
     "output_type": "execute_result"
    }
   ],
   "source": [
    "rv.rv_renormalised_gof"
   ]
  },
  {
   "cell_type": "code",
   "execution_count": null,
   "id": "84e90d0c",
   "metadata": {},
   "outputs": [],
   "source": []
  }
 ],
 "metadata": {
  "kernelspec": {
   "display_name": "Python 3 (ipykernel)",
   "language": "python",
   "name": "python3"
  },
  "language_info": {
   "codemirror_mode": {
    "name": "ipython",
    "version": 3
   },
   "file_extension": ".py",
   "mimetype": "text/x-python",
   "name": "python",
   "nbconvert_exporter": "python",
   "pygments_lexer": "ipython3",
   "version": "3.9.13"
  },
  "toc": {
   "base_numbering": 1,
   "nav_menu": {},
   "number_sections": true,
   "sideBar": true,
   "skip_h1_title": false,
   "title_cell": "Table of Contents",
   "title_sidebar": "Contents",
   "toc_cell": false,
   "toc_position": {},
   "toc_section_display": true,
   "toc_window_display": false
  },
  "varInspector": {
   "cols": {
    "lenName": 16,
    "lenType": 16,
    "lenVar": 40
   },
   "kernels_config": {
    "python": {
     "delete_cmd_postfix": "",
     "delete_cmd_prefix": "del ",
     "library": "var_list.py",
     "varRefreshCmd": "print(var_dic_list())"
    },
    "r": {
     "delete_cmd_postfix": ") ",
     "delete_cmd_prefix": "rm(",
     "library": "var_list.r",
     "varRefreshCmd": "cat(var_dic_list()) "
    }
   },
   "types_to_exclude": [
    "module",
    "function",
    "builtin_function_or_method",
    "instance",
    "_Feature"
   ],
   "window_display": false
  }
 },
 "nbformat": 4,
 "nbformat_minor": 5
}
