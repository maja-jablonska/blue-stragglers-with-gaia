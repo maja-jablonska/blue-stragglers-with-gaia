{
 "cells": [
  {
   "cell_type": "code",
   "execution_count": 1,
   "id": "ab7fe9b0",
   "metadata": {
    "ExecuteTime": {
     "end_time": "2022-07-25T13:51:54.982534Z",
     "start_time": "2022-07-25T13:51:50.958420Z"
    }
   },
   "outputs": [
    {
     "name": "stdout",
     "output_type": "stream",
     "text": [
      "Configuration file not found:\n",
      "\n",
      "    /home/mjablons/.dustmapsrc\n",
      "\n",
      "To create a new configuration file in the default location, run the following python code:\n",
      "\n",
      "    from dustmaps.config import config\n",
      "    config.reset()\n",
      "\n",
      "Note that this will delete your configuration! For example, if you have specified a data directory, then dustmaps will forget about its location.\n"
     ]
    }
   ],
   "source": [
    "from astroquery.gaia import Gaia\n",
    "from astroquery.esasky import ESASky\n",
    "import numpy as np\n",
    "from simbad_download import resolve_name\n",
    "import pandas as pd\n",
    "import pyvo as vo\n",
    "import gaia_download as gd\n",
    "from cross_match import add_panstarrs1, add_twomass\n",
    "import matplotlib.pyplot as plt\n",
    "from extinction import add_color, mag_abs"
   ]
  },
  {
   "cell_type": "markdown",
   "id": "ad92823d",
   "metadata": {},
   "source": [
    "1. arcesonds"
   ]
  },
  {
   "cell_type": "code",
   "execution_count": 2,
   "id": "05205143",
   "metadata": {
    "ExecuteTime": {
     "end_time": "2022-07-25T13:51:56.526279Z",
     "start_time": "2022-07-25T13:51:56.451495Z"
    }
   },
   "outputs": [],
   "source": [
    "sources = pd.read_csv('./clustered_pyupmask.csv')"
   ]
  },
  {
   "cell_type": "code",
   "execution_count": 3,
   "id": "a4bbb32d",
   "metadata": {
    "ExecuteTime": {
     "end_time": "2022-07-25T13:51:56.850328Z",
     "start_time": "2022-07-25T13:51:56.793541Z"
    }
   },
   "outputs": [
    {
     "data": {
      "text/html": [
       "<div>\n",
       "<style scoped>\n",
       "    .dataframe tbody tr th:only-of-type {\n",
       "        vertical-align: middle;\n",
       "    }\n",
       "\n",
       "    .dataframe tbody tr th {\n",
       "        vertical-align: top;\n",
       "    }\n",
       "\n",
       "    .dataframe thead th {\n",
       "        text-align: right;\n",
       "    }\n",
       "</style>\n",
       "<table border=\"1\" class=\"dataframe\">\n",
       "  <thead>\n",
       "    <tr style=\"text-align: right;\">\n",
       "      <th></th>\n",
       "      <th>Unnamed: 0</th>\n",
       "      <th>solution_id</th>\n",
       "      <th>designation</th>\n",
       "      <th>source_id</th>\n",
       "      <th>random_index</th>\n",
       "      <th>ref_epoch</th>\n",
       "      <th>ra</th>\n",
       "      <th>ra_error</th>\n",
       "      <th>dec</th>\n",
       "      <th>dec_error</th>\n",
       "      <th>...</th>\n",
       "      <th>A_i</th>\n",
       "      <th>A_z</th>\n",
       "      <th>A_y</th>\n",
       "      <th>A_J</th>\n",
       "      <th>A_H</th>\n",
       "      <th>A_K</th>\n",
       "      <th>color</th>\n",
       "      <th>color_error</th>\n",
       "      <th>mag_abs</th>\n",
       "      <th>mag_abs_error</th>\n",
       "    </tr>\n",
       "  </thead>\n",
       "  <tbody>\n",
       "    <tr>\n",
       "      <th>0</th>\n",
       "      <td>28257</td>\n",
       "      <td>1636148068921376768</td>\n",
       "      <td>Gaia DR3 573351475155035008</td>\n",
       "      <td>573351475155035008</td>\n",
       "      <td>236544348</td>\n",
       "      <td>2016.0</td>\n",
       "      <td>13.267578</td>\n",
       "      <td>0.474411</td>\n",
       "      <td>84.456973</td>\n",
       "      <td>0.483350</td>\n",
       "      <td>...</td>\n",
       "      <td>0.916515</td>\n",
       "      <td>0.720285</td>\n",
       "      <td>0.587295</td>\n",
       "      <td>0.368605</td>\n",
       "      <td>0.218085</td>\n",
       "      <td>0.140709</td>\n",
       "      <td>1.603039</td>\n",
       "      <td>0.170145</td>\n",
       "      <td>8.676971</td>\n",
       "      <td>2.127860</td>\n",
       "    </tr>\n",
       "    <tr>\n",
       "      <th>1</th>\n",
       "      <td>28274</td>\n",
       "      <td>1636148068921376768</td>\n",
       "      <td>Gaia DR3 573352398572667392</td>\n",
       "      <td>573352398572667392</td>\n",
       "      <td>1496645516</td>\n",
       "      <td>2016.0</td>\n",
       "      <td>12.993639</td>\n",
       "      <td>0.105877</td>\n",
       "      <td>84.541275</td>\n",
       "      <td>0.101403</td>\n",
       "      <td>...</td>\n",
       "      <td>0.672111</td>\n",
       "      <td>0.528209</td>\n",
       "      <td>0.430683</td>\n",
       "      <td>0.270311</td>\n",
       "      <td>0.159929</td>\n",
       "      <td>0.103187</td>\n",
       "      <td>1.313450</td>\n",
       "      <td>0.029984</td>\n",
       "      <td>6.871222</td>\n",
       "      <td>0.464217</td>\n",
       "    </tr>\n",
       "    <tr>\n",
       "      <th>2</th>\n",
       "      <td>28314</td>\n",
       "      <td>1636148068921376768</td>\n",
       "      <td>Gaia DR3 573354670612121088</td>\n",
       "      <td>573354670612121088</td>\n",
       "      <td>1494711348</td>\n",
       "      <td>2016.0</td>\n",
       "      <td>12.852203</td>\n",
       "      <td>0.035797</td>\n",
       "      <td>84.583456</td>\n",
       "      <td>0.034287</td>\n",
       "      <td>...</td>\n",
       "      <td>0.672111</td>\n",
       "      <td>0.528209</td>\n",
       "      <td>0.430683</td>\n",
       "      <td>0.270311</td>\n",
       "      <td>0.159929</td>\n",
       "      <td>0.103187</td>\n",
       "      <td>0.828158</td>\n",
       "      <td>0.006719</td>\n",
       "      <td>5.087451</td>\n",
       "      <td>0.154759</td>\n",
       "    </tr>\n",
       "    <tr>\n",
       "      <th>3</th>\n",
       "      <td>28351</td>\n",
       "      <td>1636148068921376768</td>\n",
       "      <td>Gaia DR3 573356251160187648</td>\n",
       "      <td>573356251160187648</td>\n",
       "      <td>1580589992</td>\n",
       "      <td>2016.0</td>\n",
       "      <td>14.600912</td>\n",
       "      <td>0.043472</td>\n",
       "      <td>84.598119</td>\n",
       "      <td>0.042857</td>\n",
       "      <td>...</td>\n",
       "      <td>0.855414</td>\n",
       "      <td>0.672266</td>\n",
       "      <td>0.548142</td>\n",
       "      <td>0.344032</td>\n",
       "      <td>0.203546</td>\n",
       "      <td>0.131328</td>\n",
       "      <td>0.925355</td>\n",
       "      <td>0.008670</td>\n",
       "      <td>5.193372</td>\n",
       "      <td>0.196794</td>\n",
       "    </tr>\n",
       "    <tr>\n",
       "      <th>4</th>\n",
       "      <td>28407</td>\n",
       "      <td>1636148068921376768</td>\n",
       "      <td>Gaia DR3 573358072225488640</td>\n",
       "      <td>573358072225488640</td>\n",
       "      <td>1042182307</td>\n",
       "      <td>2016.0</td>\n",
       "      <td>15.209703</td>\n",
       "      <td>0.548097</td>\n",
       "      <td>84.651333</td>\n",
       "      <td>0.534833</td>\n",
       "      <td>...</td>\n",
       "      <td>1.038717</td>\n",
       "      <td>0.816323</td>\n",
       "      <td>0.665601</td>\n",
       "      <td>0.417753</td>\n",
       "      <td>0.247163</td>\n",
       "      <td>0.159470</td>\n",
       "      <td>1.646164</td>\n",
       "      <td>0.219736</td>\n",
       "      <td>8.520184</td>\n",
       "      <td>2.735473</td>\n",
       "    </tr>\n",
       "    <tr>\n",
       "      <th>...</th>\n",
       "      <td>...</td>\n",
       "      <td>...</td>\n",
       "      <td>...</td>\n",
       "      <td>...</td>\n",
       "      <td>...</td>\n",
       "      <td>...</td>\n",
       "      <td>...</td>\n",
       "      <td>...</td>\n",
       "      <td>...</td>\n",
       "      <td>...</td>\n",
       "      <td>...</td>\n",
       "      <td>...</td>\n",
       "      <td>...</td>\n",
       "      <td>...</td>\n",
       "      <td>...</td>\n",
       "      <td>...</td>\n",
       "      <td>...</td>\n",
       "      <td>...</td>\n",
       "      <td>...</td>\n",
       "      <td>...</td>\n",
       "      <td>...</td>\n",
       "    </tr>\n",
       "    <tr>\n",
       "      <th>1353</th>\n",
       "      <td>46811</td>\n",
       "      <td>1636148068921376768</td>\n",
       "      <td>Gaia DR3 574074438411227008</td>\n",
       "      <td>574074438411227008</td>\n",
       "      <td>1625845342</td>\n",
       "      <td>2016.0</td>\n",
       "      <td>12.816654</td>\n",
       "      <td>0.023106</td>\n",
       "      <td>85.832411</td>\n",
       "      <td>0.022673</td>\n",
       "      <td>...</td>\n",
       "      <td>1.160919</td>\n",
       "      <td>0.912361</td>\n",
       "      <td>0.743907</td>\n",
       "      <td>0.466900</td>\n",
       "      <td>0.276241</td>\n",
       "      <td>0.178231</td>\n",
       "      <td>0.810865</td>\n",
       "      <td>0.002632</td>\n",
       "      <td>3.522337</td>\n",
       "      <td>0.120212</td>\n",
       "    </tr>\n",
       "    <tr>\n",
       "      <th>1354</th>\n",
       "      <td>46870</td>\n",
       "      <td>1636148068921376768</td>\n",
       "      <td>Gaia DR3 574077148534800256</td>\n",
       "      <td>574077148534800256</td>\n",
       "      <td>693263320</td>\n",
       "      <td>2016.0</td>\n",
       "      <td>15.660463</td>\n",
       "      <td>0.065472</td>\n",
       "      <td>85.827157</td>\n",
       "      <td>0.066398</td>\n",
       "      <td>...</td>\n",
       "      <td>0.794313</td>\n",
       "      <td>0.624247</td>\n",
       "      <td>0.508989</td>\n",
       "      <td>0.319458</td>\n",
       "      <td>0.189007</td>\n",
       "      <td>0.121948</td>\n",
       "      <td>1.058915</td>\n",
       "      <td>0.022668</td>\n",
       "      <td>5.933452</td>\n",
       "      <td>0.335183</td>\n",
       "    </tr>\n",
       "    <tr>\n",
       "      <th>1355</th>\n",
       "      <td>46886</td>\n",
       "      <td>1636148068921376768</td>\n",
       "      <td>Gaia DR3 574077492132196736</td>\n",
       "      <td>574077492132196736</td>\n",
       "      <td>406142901</td>\n",
       "      <td>2016.0</td>\n",
       "      <td>15.041704</td>\n",
       "      <td>0.306579</td>\n",
       "      <td>85.866458</td>\n",
       "      <td>0.294523</td>\n",
       "      <td>...</td>\n",
       "      <td>0.794313</td>\n",
       "      <td>0.624247</td>\n",
       "      <td>0.508989</td>\n",
       "      <td>0.319458</td>\n",
       "      <td>0.189007</td>\n",
       "      <td>0.121948</td>\n",
       "      <td>1.427450</td>\n",
       "      <td>0.100781</td>\n",
       "      <td>8.432726</td>\n",
       "      <td>1.258062</td>\n",
       "    </tr>\n",
       "    <tr>\n",
       "      <th>1356</th>\n",
       "      <td>47085</td>\n",
       "      <td>1636148068921376768</td>\n",
       "      <td>Gaia DR3 574086670477932160</td>\n",
       "      <td>574086670477932160</td>\n",
       "      <td>1450102305</td>\n",
       "      <td>2016.0</td>\n",
       "      <td>11.476798</td>\n",
       "      <td>0.234107</td>\n",
       "      <td>85.885935</td>\n",
       "      <td>0.246116</td>\n",
       "      <td>...</td>\n",
       "      <td>0.672111</td>\n",
       "      <td>0.528209</td>\n",
       "      <td>0.430683</td>\n",
       "      <td>0.270311</td>\n",
       "      <td>0.159929</td>\n",
       "      <td>0.103187</td>\n",
       "      <td>1.595926</td>\n",
       "      <td>0.083275</td>\n",
       "      <td>8.028013</td>\n",
       "      <td>1.050452</td>\n",
       "    </tr>\n",
       "    <tr>\n",
       "      <th>1357</th>\n",
       "      <td>47089</td>\n",
       "      <td>1636148068921376768</td>\n",
       "      <td>Gaia DR3 574086842276622336</td>\n",
       "      <td>574086842276622336</td>\n",
       "      <td>368039513</td>\n",
       "      <td>2016.0</td>\n",
       "      <td>11.271435</td>\n",
       "      <td>0.104644</td>\n",
       "      <td>85.900719</td>\n",
       "      <td>0.107918</td>\n",
       "      <td>...</td>\n",
       "      <td>0.672111</td>\n",
       "      <td>0.528209</td>\n",
       "      <td>0.430683</td>\n",
       "      <td>0.270311</td>\n",
       "      <td>0.159929</td>\n",
       "      <td>0.103187</td>\n",
       "      <td>1.254398</td>\n",
       "      <td>0.034172</td>\n",
       "      <td>6.757945</td>\n",
       "      <td>0.454135</td>\n",
       "    </tr>\n",
       "  </tbody>\n",
       "</table>\n",
       "<p>1358 rows × 173 columns</p>\n",
       "</div>"
      ],
      "text/plain": [
       "      Unnamed: 0          solution_id                  designation  \\\n",
       "0          28257  1636148068921376768  Gaia DR3 573351475155035008   \n",
       "1          28274  1636148068921376768  Gaia DR3 573352398572667392   \n",
       "2          28314  1636148068921376768  Gaia DR3 573354670612121088   \n",
       "3          28351  1636148068921376768  Gaia DR3 573356251160187648   \n",
       "4          28407  1636148068921376768  Gaia DR3 573358072225488640   \n",
       "...          ...                  ...                          ...   \n",
       "1353       46811  1636148068921376768  Gaia DR3 574074438411227008   \n",
       "1354       46870  1636148068921376768  Gaia DR3 574077148534800256   \n",
       "1355       46886  1636148068921376768  Gaia DR3 574077492132196736   \n",
       "1356       47085  1636148068921376768  Gaia DR3 574086670477932160   \n",
       "1357       47089  1636148068921376768  Gaia DR3 574086842276622336   \n",
       "\n",
       "               source_id  random_index  ref_epoch         ra  ra_error  \\\n",
       "0     573351475155035008     236544348     2016.0  13.267578  0.474411   \n",
       "1     573352398572667392    1496645516     2016.0  12.993639  0.105877   \n",
       "2     573354670612121088    1494711348     2016.0  12.852203  0.035797   \n",
       "3     573356251160187648    1580589992     2016.0  14.600912  0.043472   \n",
       "4     573358072225488640    1042182307     2016.0  15.209703  0.548097   \n",
       "...                  ...           ...        ...        ...       ...   \n",
       "1353  574074438411227008    1625845342     2016.0  12.816654  0.023106   \n",
       "1354  574077148534800256     693263320     2016.0  15.660463  0.065472   \n",
       "1355  574077492132196736     406142901     2016.0  15.041704  0.306579   \n",
       "1356  574086670477932160    1450102305     2016.0  11.476798  0.234107   \n",
       "1357  574086842276622336     368039513     2016.0  11.271435  0.104644   \n",
       "\n",
       "            dec  dec_error  ...       A_i       A_z       A_y       A_J  \\\n",
       "0     84.456973   0.483350  ...  0.916515  0.720285  0.587295  0.368605   \n",
       "1     84.541275   0.101403  ...  0.672111  0.528209  0.430683  0.270311   \n",
       "2     84.583456   0.034287  ...  0.672111  0.528209  0.430683  0.270311   \n",
       "3     84.598119   0.042857  ...  0.855414  0.672266  0.548142  0.344032   \n",
       "4     84.651333   0.534833  ...  1.038717  0.816323  0.665601  0.417753   \n",
       "...         ...        ...  ...       ...       ...       ...       ...   \n",
       "1353  85.832411   0.022673  ...  1.160919  0.912361  0.743907  0.466900   \n",
       "1354  85.827157   0.066398  ...  0.794313  0.624247  0.508989  0.319458   \n",
       "1355  85.866458   0.294523  ...  0.794313  0.624247  0.508989  0.319458   \n",
       "1356  85.885935   0.246116  ...  0.672111  0.528209  0.430683  0.270311   \n",
       "1357  85.900719   0.107918  ...  0.672111  0.528209  0.430683  0.270311   \n",
       "\n",
       "           A_H       A_K     color  color_error   mag_abs  mag_abs_error  \n",
       "0     0.218085  0.140709  1.603039     0.170145  8.676971       2.127860  \n",
       "1     0.159929  0.103187  1.313450     0.029984  6.871222       0.464217  \n",
       "2     0.159929  0.103187  0.828158     0.006719  5.087451       0.154759  \n",
       "3     0.203546  0.131328  0.925355     0.008670  5.193372       0.196794  \n",
       "4     0.247163  0.159470  1.646164     0.219736  8.520184       2.735473  \n",
       "...        ...       ...       ...          ...       ...            ...  \n",
       "1353  0.276241  0.178231  0.810865     0.002632  3.522337       0.120212  \n",
       "1354  0.189007  0.121948  1.058915     0.022668  5.933452       0.335183  \n",
       "1355  0.189007  0.121948  1.427450     0.100781  8.432726       1.258062  \n",
       "1356  0.159929  0.103187  1.595926     0.083275  8.028013       1.050452  \n",
       "1357  0.159929  0.103187  1.254398     0.034172  6.757945       0.454135  \n",
       "\n",
       "[1358 rows x 173 columns]"
      ]
     },
     "execution_count": 3,
     "metadata": {},
     "output_type": "execute_result"
    }
   ],
   "source": [
    "sources"
   ]
  },
  {
   "cell_type": "code",
   "execution_count": 5,
   "id": "b32d8e65",
   "metadata": {
    "ExecuteTime": {
     "end_time": "2022-07-25T13:52:31.821097Z",
     "start_time": "2022-07-25T13:52:17.882136Z"
    }
   },
   "outputs": [
    {
     "name": "stdout",
     "output_type": "stream",
     "text": [
      "INFO: Query finished. [astroquery.utils.tap.core]\n",
      "panstarrs1 cross-match: 1275 sources\n"
     ]
    }
   ],
   "source": [
    "sources_with_panstarrs = add_panstarrs1(sources)"
   ]
  },
  {
   "cell_type": "code",
   "execution_count": 7,
   "id": "32c2226f",
   "metadata": {
    "ExecuteTime": {
     "end_time": "2022-07-25T13:53:27.853478Z",
     "start_time": "2022-07-25T13:53:27.823541Z"
    }
   },
   "outputs": [],
   "source": [
    "sources_with_panstarrs = add_color(sources_with_panstarrs, 'g', 'z')\n",
    "sources_with_panstarrs = mag_abs(sources_with_panstarrs, 'g')"
   ]
  },
  {
   "cell_type": "code",
   "execution_count": 8,
   "id": "24631194",
   "metadata": {
    "ExecuteTime": {
     "end_time": "2022-07-25T13:53:32.430573Z",
     "start_time": "2022-07-25T13:53:31.950876Z"
    }
   },
   "outputs": [
    {
     "data": {
      "image/png": "[encoded data removed]",
      "text/plain": [
       "<Figure size 720x576 with 1 Axes>"
      ]
     },
     "metadata": {
      "needs_background": "light"
     },
     "output_type": "display_data"
    }
   ],
   "source": [
    "plt.figure(figsize=(10, 8))\n",
    "plt.scatter(sources_with_panstarrs['g-z'], sources_with_panstarrs.g_abs,\n",
    "            color='royalblue', label='Panstarrs1', alpha=.45, zorder=2)\n",
    "plt.scatter(sources_with_panstarrs.color, sources_with_panstarrs.mag_abs,\n",
    "            color='tomato', label='Gaia', alpha=.45)\n",
    "plt.gca().invert_yaxis();\n",
    "plt.legend();"
   ]
  },
  {
   "cell_type": "code",
   "execution_count": 9,
   "id": "ddfde72a",
   "metadata": {
    "ExecuteTime": {
     "end_time": "2022-07-25T13:53:53.927314Z",
     "start_time": "2022-07-25T13:53:50.582708Z"
    }
   },
   "outputs": [
    {
     "name": "stdout",
     "output_type": "stream",
     "text": [
      "INFO: Query finished. [astroquery.utils.tap.core]\n",
      "tmass_psc_xsc cross-match: 1164 sources\n",
      "INFO: Retrieving tables... [astroquery.utils.tap.core]\n",
      "INFO: Parsing tables... [astroquery.utils.tap.core]\n",
      "INFO: Done. [astroquery.utils.tap.core]\n"
     ]
    }
   ],
   "source": [
    "sources_all = add_twomass(sources_with_panstarrs)"
   ]
  },
  {
   "cell_type": "code",
   "execution_count": 28,
   "id": "fbf8d9ca",
   "metadata": {
    "ExecuteTime": {
     "end_time": "2022-07-25T12:56:26.326248Z",
     "start_time": "2022-07-25T12:56:26.315423Z"
    }
   },
   "outputs": [],
   "source": [
    "twomass_photo = pd.merge(left=twomass, right=twomass_photo, left_on='twomass_id', right_on='name')"
   ]
  },
  {
   "cell_type": "code",
   "execution_count": 29,
   "id": "00afceee",
   "metadata": {
    "ExecuteTime": {
     "end_time": "2022-07-25T12:56:33.555275Z",
     "start_time": "2022-07-25T12:56:33.539963Z"
    }
   },
   "outputs": [],
   "source": [
    "sources_all = pd.merge(left=sources_all, right=twomass_photo, on='source_id')"
   ]
  },
  {
   "cell_type": "code",
   "execution_count": 30,
   "id": "501abc45",
   "metadata": {
    "ExecuteTime": {
     "end_time": "2022-07-25T12:56:39.039856Z",
     "start_time": "2022-07-25T12:56:38.996390Z"
    }
   },
   "outputs": [
    {
     "data": {
      "text/html": [
       "<div>\n",
       "<style scoped>\n",
       "    .dataframe tbody tr th:only-of-type {\n",
       "        vertical-align: middle;\n",
       "    }\n",
       "\n",
       "    .dataframe tbody tr th {\n",
       "        vertical-align: top;\n",
       "    }\n",
       "\n",
       "    .dataframe thead th {\n",
       "        text-align: right;\n",
       "    }\n",
       "</style>\n",
       "<table border=\"1\" class=\"dataframe\">\n",
       "  <thead>\n",
       "    <tr style=\"text-align: right;\">\n",
       "      <th></th>\n",
       "      <th>g</th>\n",
       "      <th>g_error</th>\n",
       "      <th>r</th>\n",
       "      <th>r_error</th>\n",
       "      <th>i</th>\n",
       "      <th>i_error</th>\n",
       "      <th>z</th>\n",
       "      <th>z_error</th>\n",
       "      <th>yMeanPSFMag</th>\n",
       "      <th>yMeanPSFMagErr</th>\n",
       "      <th>...</th>\n",
       "      <th>g_abs_error</th>\n",
       "      <th>twomass_id_x</th>\n",
       "      <th>twomass_id_y</th>\n",
       "      <th>name</th>\n",
       "      <th>H</th>\n",
       "      <th>H_error</th>\n",
       "      <th>J</th>\n",
       "      <th>J_error</th>\n",
       "      <th>K</th>\n",
       "      <th>K_error</th>\n",
       "    </tr>\n",
       "  </thead>\n",
       "  <tbody>\n",
       "    <tr>\n",
       "      <th>0</th>\n",
       "      <td>19.279100</td>\n",
       "      <td>0.006316</td>\n",
       "      <td>18.455999</td>\n",
       "      <td>0.011471</td>\n",
       "      <td>18.062300</td>\n",
       "      <td>0.013024</td>\n",
       "      <td>17.885300</td>\n",
       "      <td>0.009377</td>\n",
       "      <td>17.7981</td>\n",
       "      <td>0.019061</td>\n",
       "      <td>...</td>\n",
       "      <td>0.464257</td>\n",
       "      <td>00515823+8432287</td>\n",
       "      <td>00515823+8432287</td>\n",
       "      <td>00515823+8432287</td>\n",
       "      <td>16.186001</td>\n",
       "      <td>0.237</td>\n",
       "      <td>16.705</td>\n",
       "      <td>0.143</td>\n",
       "      <td>15.810</td>\n",
       "      <td>0.267</td>\n",
       "    </tr>\n",
       "    <tr>\n",
       "      <th>1</th>\n",
       "      <td>17.080999</td>\n",
       "      <td>0.004002</td>\n",
       "      <td>16.580400</td>\n",
       "      <td>0.003973</td>\n",
       "      <td>16.385201</td>\n",
       "      <td>0.005735</td>\n",
       "      <td>16.302000</td>\n",
       "      <td>0.004044</td>\n",
       "      <td>16.2663</td>\n",
       "      <td>0.003354</td>\n",
       "      <td>...</td>\n",
       "      <td>0.154809</td>\n",
       "      <td>00512445+8435004</td>\n",
       "      <td>00512445+8435004</td>\n",
       "      <td>00512445+8435004</td>\n",
       "      <td>14.937000</td>\n",
       "      <td>0.092</td>\n",
       "      <td>15.341</td>\n",
       "      <td>0.056</td>\n",
       "      <td>14.821</td>\n",
       "      <td>0.112</td>\n",
       "    </tr>\n",
       "    <tr>\n",
       "      <th>2</th>\n",
       "      <td>17.479900</td>\n",
       "      <td>0.008991</td>\n",
       "      <td>16.860300</td>\n",
       "      <td>0.004544</td>\n",
       "      <td>16.615900</td>\n",
       "      <td>0.005293</td>\n",
       "      <td>16.508200</td>\n",
       "      <td>0.004291</td>\n",
       "      <td>16.4240</td>\n",
       "      <td>0.009001</td>\n",
       "      <td>...</td>\n",
       "      <td>0.196998</td>\n",
       "      <td>00582412+8435530</td>\n",
       "      <td>00582412+8435530</td>\n",
       "      <td>00582412+8435530</td>\n",
       "      <td>15.102000</td>\n",
       "      <td>0.082</td>\n",
       "      <td>15.472</td>\n",
       "      <td>0.039</td>\n",
       "      <td>15.052</td>\n",
       "      <td>0.123</td>\n",
       "    </tr>\n",
       "    <tr>\n",
       "      <th>3</th>\n",
       "      <td>17.290001</td>\n",
       "      <td>0.005483</td>\n",
       "      <td>16.724600</td>\n",
       "      <td>0.003584</td>\n",
       "      <td>16.483999</td>\n",
       "      <td>0.002375</td>\n",
       "      <td>16.383499</td>\n",
       "      <td>0.006939</td>\n",
       "      <td>16.3304</td>\n",
       "      <td>0.011896</td>\n",
       "      <td>...</td>\n",
       "      <td>0.213743</td>\n",
       "      <td>00570724+8446523</td>\n",
       "      <td>00570724+8446523</td>\n",
       "      <td>00570724+8446523</td>\n",
       "      <td>14.896000</td>\n",
       "      <td>0.082</td>\n",
       "      <td>15.399</td>\n",
       "      <td>0.046</td>\n",
       "      <td>14.780</td>\n",
       "      <td>0.096</td>\n",
       "    </tr>\n",
       "    <tr>\n",
       "      <th>4</th>\n",
       "      <td>13.189800</td>\n",
       "      <td>0.000926</td>\n",
       "      <td>12.673000</td>\n",
       "      <td>-999.000000</td>\n",
       "      <td>12.220000</td>\n",
       "      <td>-999.000000</td>\n",
       "      <td>11.932000</td>\n",
       "      <td>-999.000000</td>\n",
       "      <td>11.7880</td>\n",
       "      <td>-999.000000</td>\n",
       "      <td>...</td>\n",
       "      <td>0.046451</td>\n",
       "      <td>00522777+8444434</td>\n",
       "      <td>00522777+8444434</td>\n",
       "      <td>00522777+8444434</td>\n",
       "      <td>10.072000</td>\n",
       "      <td>0.033</td>\n",
       "      <td>10.632</td>\n",
       "      <td>0.028</td>\n",
       "      <td>9.912</td>\n",
       "      <td>0.020</td>\n",
       "    </tr>\n",
       "  </tbody>\n",
       "</table>\n",
       "<p>5 rows × 197 columns</p>\n",
       "</div>"
      ],
      "text/plain": [
       "           g   g_error          r     r_error          i     i_error  \\\n",
       "0  19.279100  0.006316  18.455999    0.011471  18.062300    0.013024   \n",
       "1  17.080999  0.004002  16.580400    0.003973  16.385201    0.005735   \n",
       "2  17.479900  0.008991  16.860300    0.004544  16.615900    0.005293   \n",
       "3  17.290001  0.005483  16.724600    0.003584  16.483999    0.002375   \n",
       "4  13.189800  0.000926  12.673000 -999.000000  12.220000 -999.000000   \n",
       "\n",
       "           z     z_error  yMeanPSFMag  yMeanPSFMagErr  ...  g_abs_error  \\\n",
       "0  17.885300    0.009377      17.7981        0.019061  ...     0.464257   \n",
       "1  16.302000    0.004044      16.2663        0.003354  ...     0.154809   \n",
       "2  16.508200    0.004291      16.4240        0.009001  ...     0.196998   \n",
       "3  16.383499    0.006939      16.3304        0.011896  ...     0.213743   \n",
       "4  11.932000 -999.000000      11.7880     -999.000000  ...     0.046451   \n",
       "\n",
       "       twomass_id_x      twomass_id_y              name          H  H_error  \\\n",
       "0  00515823+8432287  00515823+8432287  00515823+8432287  16.186001    0.237   \n",
       "1  00512445+8435004  00512445+8435004  00512445+8435004  14.937000    0.092   \n",
       "2  00582412+8435530  00582412+8435530  00582412+8435530  15.102000    0.082   \n",
       "3  00570724+8446523  00570724+8446523  00570724+8446523  14.896000    0.082   \n",
       "4  00522777+8444434  00522777+8444434  00522777+8444434  10.072000    0.033   \n",
       "\n",
       "        J  J_error       K  K_error  \n",
       "0  16.705    0.143  15.810    0.267  \n",
       "1  15.341    0.056  14.821    0.112  \n",
       "2  15.472    0.039  15.052    0.123  \n",
       "3  15.399    0.046  14.780    0.096  \n",
       "4  10.632    0.028   9.912    0.020  \n",
       "\n",
       "[5 rows x 197 columns]"
      ]
     },
     "execution_count": 30,
     "metadata": {},
     "output_type": "execute_result"
    }
   ],
   "source": [
    "sources_all.head()"
   ]
  },
  {
   "cell_type": "code",
   "execution_count": 31,
   "id": "04c768bd",
   "metadata": {
    "ExecuteTime": {
     "end_time": "2022-07-25T12:56:57.815660Z",
     "start_time": "2022-07-25T12:56:57.804607Z"
    }
   },
   "outputs": [],
   "source": [
    "twomass_photo = add_color(sources_all, 'H', 'K')"
   ]
  },
  {
   "cell_type": "code",
   "execution_count": 32,
   "id": "3fae2a68",
   "metadata": {
    "ExecuteTime": {
     "end_time": "2022-07-25T12:57:14.384351Z",
     "start_time": "2022-07-25T12:57:14.374675Z"
    }
   },
   "outputs": [],
   "source": [
    "twomass_photo = mag_abs(sources_all, 'H')"
   ]
  },
  {
   "cell_type": "code",
   "execution_count": 35,
   "id": "7865243b",
   "metadata": {
    "ExecuteTime": {
     "end_time": "2022-07-25T12:57:45.195108Z",
     "start_time": "2022-07-25T12:57:44.985312Z"
    }
   },
   "outputs": [
    {
     "data": {
      "image/png": "[encoded data removed]",
      "text/plain": [
       "<Figure size 432x288 with 1 Axes>"
      ]
     },
     "metadata": {
      "needs_background": "light"
     },
     "output_type": "display_data"
    }
   ],
   "source": [
    "plt.scatter(twomass_photo['H-K'], twomass_photo['H_abs'])\n",
    "plt.gca().invert_yaxis();"
   ]
  },
  {
   "cell_type": "code",
   "execution_count": null,
   "id": "eabebad0",
   "metadata": {},
   "outputs": [],
   "source": []
  }
 ],
 "metadata": {
  "kernelspec": {
   "display_name": "Python 3 (ipykernel)",
   "language": "python",
   "name": "python3"
  },
  "language_info": {
   "codemirror_mode": {
    "name": "ipython",
    "version": 3
   },
   "file_extension": ".py",
   "mimetype": "text/x-python",
   "name": "python",
   "nbconvert_exporter": "python",
   "pygments_lexer": "ipython3",
   "version": "3.9.13"
  },
  "toc": {
   "base_numbering": 1,
   "nav_menu": {},
   "number_sections": true,
   "sideBar": true,
   "skip_h1_title": false,
   "title_cell": "Table of Contents",
   "title_sidebar": "Contents",
   "toc_cell": false,
   "toc_position": {},
   "toc_section_display": true,
   "toc_window_display": false
  },
  "varInspector": {
   "cols": {
    "lenName": 16,
    "lenType": 16,
    "lenVar": 40
   },
   "kernels_config": {
    "python": {
     "delete_cmd_postfix": "",
     "delete_cmd_prefix": "del ",
     "library": "var_list.py",
     "varRefreshCmd": "print(var_dic_list())"
    },
    "r": {
     "delete_cmd_postfix": ") ",
     "delete_cmd_prefix": "rm(",
     "library": "var_list.r",
     "varRefreshCmd": "cat(var_dic_list()) "
    }
   },
   "types_to_exclude": [
    "module",
    "function",
    "builtin_function_or_method",
    "instance",
    "_Feature"
   ],
   "window_display": false
  }
 },
 "nbformat": 4,
 "nbformat_minor": 5
}
