{
 "cells": [
  {
   "cell_type": "code",
   "execution_count": 78,
   "id": "77bb6479",
   "metadata": {
    "ExecuteTime": {
     "end_time": "2022-07-29T14:48:23.445983Z",
     "start_time": "2022-07-29T14:48:23.247271Z"
    }
   },
   "outputs": [
    {
     "data": {
      "text/plain": [
       "<response_seek_wrapper at 0x7f25c1e3c760 whose wrapped object = <closeable_response at 0x7f25c1e3c220 whose fp = <_io.BufferedReader name=66>>>"
      ]
     },
     "execution_count": 78,
     "metadata": {},
     "output_type": "execute_result"
    }
   ],
   "source": [
    "import mechanize\n",
    "\n",
    "br = mechanize.Browser()\n",
    "br.open(\"http://stev.oapd.inaf.it/cgi-bin/cmd_3.7\")"
   ]
  },
  {
   "cell_type": "code",
   "execution_count": 79,
   "id": "1c2b6d44",
   "metadata": {
    "ExecuteTime": {
     "end_time": "2022-07-29T14:48:24.037191Z",
     "start_time": "2022-07-29T14:48:23.949323Z"
    }
   },
   "outputs": [],
   "source": [
    "br.select_form(action='./cmd_3.7')"
   ]
  },
  {
   "cell_type": "code",
   "execution_count": 80,
   "id": "39c56436",
   "metadata": {
    "ExecuteTime": {
     "end_time": "2022-07-29T14:48:24.431561Z",
     "start_time": "2022-07-29T14:48:24.426129Z"
    }
   },
   "outputs": [],
   "source": [
    "br['isoc_agelow'] = '6.5e9'"
   ]
  },
  {
   "cell_type": "code",
   "execution_count": 84,
   "id": "e8c9d115",
   "metadata": {
    "ExecuteTime": {
     "end_time": "2022-07-29T14:49:53.578009Z",
     "start_time": "2022-07-29T14:49:53.573703Z"
    }
   },
   "outputs": [],
   "source": [
    "br['photsys_file'] = ['YBC_tab_mag_odfnew/tab_mag_gaiaEDR3.dat']"
   ]
  },
  {
   "cell_type": "code",
   "execution_count": 85,
   "id": "94fc9a17",
   "metadata": {
    "ExecuteTime": {
     "end_time": "2022-07-29T14:50:06.294784Z",
     "start_time": "2022-07-29T14:49:56.465434Z"
    }
   },
   "outputs": [],
   "source": [
    "response2 = br.submit()"
   ]
  },
  {
   "cell_type": "code",
   "execution_count": 86,
   "id": "740fae26",
   "metadata": {
    "ExecuteTime": {
     "end_time": "2022-07-29T14:50:28.935115Z",
     "start_time": "2022-07-29T14:50:28.930098Z"
    }
   },
   "outputs": [],
   "source": [
    "from mechanize._html import content_parser"
   ]
  },
  {
   "cell_type": "code",
   "execution_count": 87,
   "id": "5f781acd",
   "metadata": {
    "ExecuteTime": {
     "end_time": "2022-07-29T14:50:29.237544Z",
     "start_time": "2022-07-29T14:50:29.211663Z"
    }
   },
   "outputs": [],
   "source": [
    "html = content_parser(response2.get_data())"
   ]
  },
  {
   "cell_type": "code",
   "execution_count": 88,
   "id": "cdbbca7a",
   "metadata": {
    "ExecuteTime": {
     "end_time": "2022-07-29T14:50:29.598356Z",
     "start_time": "2022-07-29T14:50:29.587439Z"
    }
   },
   "outputs": [],
   "source": [
    "html.find('a')"
   ]
  },
  {
   "cell_type": "code",
   "execution_count": 89,
   "id": "828a3c75",
   "metadata": {
    "ExecuteTime": {
     "end_time": "2022-07-29T14:50:29.989710Z",
     "start_time": "2022-07-29T14:50:29.981259Z"
    }
   },
   "outputs": [
    {
     "data": {
      "text/plain": [
       "<Element 'form' at 0x7f25c138d540>"
      ]
     },
     "execution_count": 89,
     "metadata": {},
     "output_type": "execute_result"
    }
   ],
   "source": [
    "html.find(\"body\").find(\"form\")"
   ]
  },
  {
   "cell_type": "code",
   "execution_count": 90,
   "id": "ddf820f8",
   "metadata": {
    "ExecuteTime": {
     "end_time": "2022-07-29T14:50:30.498035Z",
     "start_time": "2022-07-29T14:50:30.491188Z"
    }
   },
   "outputs": [
    {
     "name": "stdout",
     "output_type": "stream",
     "text": [
      "br {}\n",
      "br {}\n",
      "a {'href': '../tmp/output645783964851.dat'}\n"
     ]
    }
   ],
   "source": [
    "for child in html.find(\"body\").find(\"form\").find(\"fieldset\").find(\"p\"):\n",
    "    print(child.tag, child.attrib)"
   ]
  },
  {
   "cell_type": "code",
   "execution_count": 91,
   "id": "ad41182e",
   "metadata": {
    "ExecuteTime": {
     "end_time": "2022-07-29T14:50:31.177853Z",
     "start_time": "2022-07-29T14:50:31.170705Z"
    }
   },
   "outputs": [],
   "source": [
    "output_href = html.find(\"body\").find(\"form\").find(\"fieldset\").find(\"p\").find(\"a\").attrib['href'].split('./')[-1]"
   ]
  },
  {
   "cell_type": "code",
   "execution_count": 92,
   "id": "10945cde",
   "metadata": {
    "ExecuteTime": {
     "end_time": "2022-07-29T14:50:33.321934Z",
     "start_time": "2022-07-29T14:50:33.316319Z"
    }
   },
   "outputs": [],
   "source": [
    "import requests as re\n",
    "import numpy as np\n",
    "import io\n",
    "import matplotlib.pyplot as plt"
   ]
  },
  {
   "cell_type": "code",
   "execution_count": 93,
   "id": "9ac032d4",
   "metadata": {
    "ExecuteTime": {
     "end_time": "2022-07-29T14:50:33.662102Z",
     "start_time": "2022-07-29T14:50:33.652427Z"
    }
   },
   "outputs": [
    {
     "data": {
      "text/plain": [
       "'tmp/output645783964851.dat'"
      ]
     },
     "execution_count": 93,
     "metadata": {},
     "output_type": "execute_result"
    }
   ],
   "source": [
    "output_href"
   ]
  },
  {
   "cell_type": "code",
   "execution_count": 94,
   "id": "4c9fa4fb",
   "metadata": {
    "ExecuteTime": {
     "end_time": "2022-07-29T14:50:34.622856Z",
     "start_time": "2022-07-29T14:50:34.492468Z"
    }
   },
   "outputs": [],
   "source": [
    "r = re.get(f'http://stev.oapd.inaf.it/{output_href}', allow_redirects=True)"
   ]
  },
  {
   "cell_type": "code",
   "execution_count": 95,
   "id": "b956ff14",
   "metadata": {
    "ExecuteTime": {
     "end_time": "2022-07-29T14:50:35.382935Z",
     "start_time": "2022-07-29T14:50:35.371791Z"
    }
   },
   "outputs": [
    {
     "data": {
      "text/plain": [
       "79638"
      ]
     },
     "execution_count": 95,
     "metadata": {},
     "output_type": "execute_result"
    }
   ],
   "source": [
    "open('isochrone.dat', 'wb').write(r.content)"
   ]
  },
  {
   "cell_type": "code",
   "execution_count": 96,
   "id": "276fc238",
   "metadata": {
    "ExecuteTime": {
     "end_time": "2022-07-29T14:50:36.241999Z",
     "start_time": "2022-07-29T14:50:36.235284Z"
    }
   },
   "outputs": [],
   "source": [
    "a = np.loadtxt('isochrone.dat', usecols=(28, 29, 30))"
   ]
  },
  {
   "cell_type": "code",
   "execution_count": 97,
   "id": "2e65e364",
   "metadata": {
    "ExecuteTime": {
     "end_time": "2022-07-29T14:50:36.703883Z",
     "start_time": "2022-07-29T14:50:36.694600Z"
    }
   },
   "outputs": [
    {
     "data": {
      "text/plain": [
       "(301, 3)"
      ]
     },
     "execution_count": 97,
     "metadata": {},
     "output_type": "execute_result"
    }
   ],
   "source": [
    "a.shape"
   ]
  },
  {
   "cell_type": "code",
   "execution_count": 98,
   "id": "54d3c9af",
   "metadata": {
    "ExecuteTime": {
     "end_time": "2022-07-29T14:50:38.362690Z",
     "start_time": "2022-07-29T14:50:38.131350Z"
    }
   },
   "outputs": [
    {
     "data": {
      "image/png": "[encoded data removed]",
      "text/plain": [
       "<Figure size 432x288 with 1 Axes>"
      ]
     },
     "metadata": {
      "needs_background": "light"
     },
     "output_type": "display_data"
    }
   ],
   "source": [
    "plt.plot(a[:-1, 1]-a[:-1, 2], a[:-1, 0])\n",
    "plt.gca().invert_yaxis();"
   ]
  },
  {
   "cell_type": "code",
   "execution_count": null,
   "id": "13cbb11a",
   "metadata": {},
   "outputs": [],
   "source": []
  }
 ],
 "metadata": {
  "kernelspec": {
   "display_name": "Python 3 (ipykernel)",
   "language": "python",
   "name": "python3"
  },
  "language_info": {
   "codemirror_mode": {
    "name": "ipython",
    "version": 3
   },
   "file_extension": ".py",
   "mimetype": "text/x-python",
   "name": "python",
   "nbconvert_exporter": "python",
   "pygments_lexer": "ipython3",
   "version": "3.9.13"
  },
  "toc": {
   "base_numbering": 1,
   "nav_menu": {},
   "number_sections": true,
   "sideBar": true,
   "skip_h1_title": false,
   "title_cell": "Table of Contents",
   "title_sidebar": "Contents",
   "toc_cell": false,
   "toc_position": {},
   "toc_section_display": true,
   "toc_window_display": false
  },
  "varInspector": {
   "cols": {
    "lenName": 16,
    "lenType": 16,
    "lenVar": 40
   },
   "kernels_config": {
    "python": {
     "delete_cmd_postfix": "",
     "delete_cmd_prefix": "del ",
     "library": "var_list.py",
     "varRefreshCmd": "print(var_dic_list())"
    },
    "r": {
     "delete_cmd_postfix": ") ",
     "delete_cmd_prefix": "rm(",
     "library": "var_list.r",
     "varRefreshCmd": "cat(var_dic_list()) "
    }
   },
   "types_to_exclude": [
    "module",
    "function",
    "builtin_function_or_method",
    "instance",
    "_Feature"
   ],
   "window_display": false
  }
 },
 "nbformat": 4,
 "nbformat_minor": 5
}
