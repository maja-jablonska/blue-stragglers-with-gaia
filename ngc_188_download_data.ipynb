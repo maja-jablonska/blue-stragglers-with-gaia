{
 "cells": [
  {
   "cell_type": "code",
   "execution_count": 28,
   "id": "20775123",
   "metadata": {
    "ExecuteTime": {
     "end_time": "2022-07-07T07:37:45.178625Z",
     "start_time": "2022-07-07T07:37:45.170626Z"
    },
    "init_cell": true
   },
   "outputs": [],
   "source": [
    "from gaia_download import gaia_cone_search_5d\n",
    "import pandas as pd\n",
    "import matplotlib.pyplot as plt\n",
    "import astropy.units as u\n",
    "from astropy.coordinates import ICRS, SkyCoord"
   ]
  },
  {
   "cell_type": "code",
   "execution_count": 4,
   "id": "754bb500",
   "metadata": {
    "ExecuteTime": {
     "end_time": "2022-07-07T07:34:55.051210Z",
     "start_time": "2022-07-07T07:34:55.040349Z"
    },
    "deletable": false,
    "editable": false,
    "init_cell": true
   },
   "outputs": [],
   "source": [
    "RA: float = 11.7980\n",
    "DEC: float = 85.2440"
   ]
  },
  {
   "cell_type": "markdown",
   "id": "48dfae57",
   "metadata": {},
   "source": [
    "# Download 5D data for NGC 188\n",
    "\n",
    "NGC 188 coordinates (ICRS):\n",
    "\n",
    "$\\alpha$ = 11.7980$^\\circ$\n",
    "\n",
    "$\\delta$ = +85.2440$^\\circ$\n",
    "\n",
    "It is located by est. 1.17 kpc and has a radius of ~4 pc.\n",
    "\n",
    "Therefore, I am going to fetch all the objects with parallaxes within 0.75 and 1."
   ]
  },
  {
   "cell_type": "code",
   "execution_count": 13,
   "id": "02e882cc",
   "metadata": {
    "ExecuteTime": {
     "end_time": "2022-07-07T07:35:29.791780Z",
     "start_time": "2022-07-07T07:35:27.104662Z"
    }
   },
   "outputs": [
    {
     "name": "stdout",
     "output_type": "stream",
     "text": [
      "Executing cone search for ra=+11.80 and dec=+85.24 with radius of 1.0...\n",
      "Executing query:\n",
      "\n",
      "        SELECT source_id, ra, dec, parallax, parallax_error, \n",
      "        pmra, pmra_error, pmdec, pmdec_error, DISTANCE(\n",
      "           POINT('ICRS', +11.80, +85.24),\n",
      "           POINT('ICRS', ra, dec)) AS ang_sep  \n",
      "        FROM gaiadr3.gaia_source \n",
      "        WHERE 1 = CONTAINS( \n",
      "            POINT('ICRS', ra, dec), \n",
      "            CIRCLE('ICRS', +11.80, +85.24, 1.0)) \n",
      "        AND parallax > 0.25 AND parallax < 0.75 \n",
      "    \n",
      "INFO: Query finished. [astroquery.utils.tap.core]\n",
      "Query finished!\n"
     ]
    }
   ],
   "source": [
    "sources: pd.DataFrame = gaia_cone_search_5d(RA, DEC, 1.,\n",
    "                                           min_parallax=0.25,\n",
    "                                            max_parallax=0.75)"
   ]
  },
  {
   "cell_type": "code",
   "execution_count": 14,
   "id": "6bc261c8",
   "metadata": {
    "ExecuteTime": {
     "end_time": "2022-07-07T07:35:32.809061Z",
     "start_time": "2022-07-07T07:35:32.785461Z"
    },
    "scrolled": true
   },
   "outputs": [
    {
     "data": {
      "text/html": [
       "<div>\n",
       "<style scoped>\n",
       "    .dataframe tbody tr th:only-of-type {\n",
       "        vertical-align: middle;\n",
       "    }\n",
       "\n",
       "    .dataframe tbody tr th {\n",
       "        vertical-align: top;\n",
       "    }\n",
       "\n",
       "    .dataframe thead th {\n",
       "        text-align: right;\n",
       "    }\n",
       "</style>\n",
       "<table border=\"1\" class=\"dataframe\">\n",
       "  <thead>\n",
       "    <tr style=\"text-align: right;\">\n",
       "      <th></th>\n",
       "      <th>source_id</th>\n",
       "      <th>ra</th>\n",
       "      <th>dec</th>\n",
       "      <th>parallax</th>\n",
       "      <th>parallax_error</th>\n",
       "      <th>pmra</th>\n",
       "      <th>pmra_error</th>\n",
       "      <th>pmdec</th>\n",
       "      <th>pmdec_error</th>\n",
       "      <th>ang_sep</th>\n",
       "    </tr>\n",
       "  </thead>\n",
       "  <tbody>\n",
       "    <tr>\n",
       "      <th>0</th>\n",
       "      <td>2300141938344743680</td>\n",
       "      <td>359.893132</td>\n",
       "      <td>85.175524</td>\n",
       "      <td>0.401293</td>\n",
       "      <td>0.147429</td>\n",
       "      <td>1.235021</td>\n",
       "      <td>0.143220</td>\n",
       "      <td>0.979092</td>\n",
       "      <td>0.152118</td>\n",
       "      <td>0.995026</td>\n",
       "    </tr>\n",
       "    <tr>\n",
       "      <th>1</th>\n",
       "      <td>2300142762978486272</td>\n",
       "      <td>359.807062</td>\n",
       "      <td>85.196739</td>\n",
       "      <td>0.593997</td>\n",
       "      <td>0.129462</td>\n",
       "      <td>2.480786</td>\n",
       "      <td>0.126916</td>\n",
       "      <td>-2.629402</td>\n",
       "      <td>0.121067</td>\n",
       "      <td>0.998827</td>\n",
       "    </tr>\n",
       "    <tr>\n",
       "      <th>2</th>\n",
       "      <td>2300142831697977088</td>\n",
       "      <td>359.979770</td>\n",
       "      <td>85.216151</td>\n",
       "      <td>0.587936</td>\n",
       "      <td>0.380755</td>\n",
       "      <td>-14.802001</td>\n",
       "      <td>0.360930</td>\n",
       "      <td>1.612288</td>\n",
       "      <td>0.371385</td>\n",
       "      <td>0.981875</td>\n",
       "    </tr>\n",
       "    <tr>\n",
       "      <th>3</th>\n",
       "      <td>2300143042152635264</td>\n",
       "      <td>359.924939</td>\n",
       "      <td>85.230875</td>\n",
       "      <td>0.283472</td>\n",
       "      <td>1.129248</td>\n",
       "      <td>-2.839473</td>\n",
       "      <td>1.165944</td>\n",
       "      <td>-2.467185</td>\n",
       "      <td>0.994107</td>\n",
       "      <td>0.984650</td>\n",
       "    </tr>\n",
       "    <tr>\n",
       "      <th>4</th>\n",
       "      <td>2300143106575898496</td>\n",
       "      <td>359.906528</td>\n",
       "      <td>85.234690</td>\n",
       "      <td>0.578207</td>\n",
       "      <td>0.242102</td>\n",
       "      <td>-5.255996</td>\n",
       "      <td>0.251423</td>\n",
       "      <td>-0.241723</td>\n",
       "      <td>0.242633</td>\n",
       "      <td>0.985749</td>\n",
       "    </tr>\n",
       "  </tbody>\n",
       "</table>\n",
       "</div>"
      ],
      "text/plain": [
       "             source_id          ra        dec  parallax  parallax_error  \\\n",
       "0  2300141938344743680  359.893132  85.175524  0.401293        0.147429   \n",
       "1  2300142762978486272  359.807062  85.196739  0.593997        0.129462   \n",
       "2  2300142831697977088  359.979770  85.216151  0.587936        0.380755   \n",
       "3  2300143042152635264  359.924939  85.230875  0.283472        1.129248   \n",
       "4  2300143106575898496  359.906528  85.234690  0.578207        0.242102   \n",
       "\n",
       "        pmra  pmra_error     pmdec  pmdec_error   ang_sep  \n",
       "0   1.235021    0.143220  0.979092     0.152118  0.995026  \n",
       "1   2.480786    0.126916 -2.629402     0.121067  0.998827  \n",
       "2 -14.802001    0.360930  1.612288     0.371385  0.981875  \n",
       "3  -2.839473    1.165944 -2.467185     0.994107  0.984650  \n",
       "4  -5.255996    0.251423 -0.241723     0.242633  0.985749  "
      ]
     },
     "execution_count": 14,
     "metadata": {},
     "output_type": "execute_result"
    }
   ],
   "source": [
    "sources.head()"
   ]
  },
  {
   "cell_type": "code",
   "execution_count": 15,
   "id": "f9637140",
   "metadata": {
    "ExecuteTime": {
     "end_time": "2022-07-07T07:35:37.121023Z",
     "start_time": "2022-07-07T07:35:37.110875Z"
    }
   },
   "outputs": [
    {
     "data": {
      "text/plain": [
       "359.99240237050975"
      ]
     },
     "execution_count": 15,
     "metadata": {},
     "output_type": "execute_result"
    }
   ],
   "source": [
    "sources.ra.max()"
   ]
  },
  {
   "cell_type": "code",
   "execution_count": 16,
   "id": "0932f213",
   "metadata": {
    "ExecuteTime": {
     "end_time": "2022-07-07T07:35:37.611243Z",
     "start_time": "2022-07-07T07:35:37.580382Z"
    }
   },
   "outputs": [
    {
     "data": {
      "text/html": [
       "<div>\n",
       "<style scoped>\n",
       "    .dataframe tbody tr th:only-of-type {\n",
       "        vertical-align: middle;\n",
       "    }\n",
       "\n",
       "    .dataframe tbody tr th {\n",
       "        vertical-align: top;\n",
       "    }\n",
       "\n",
       "    .dataframe thead th {\n",
       "        text-align: right;\n",
       "    }\n",
       "</style>\n",
       "<table border=\"1\" class=\"dataframe\">\n",
       "  <thead>\n",
       "    <tr style=\"text-align: right;\">\n",
       "      <th></th>\n",
       "      <th>source_id</th>\n",
       "      <th>ra</th>\n",
       "      <th>dec</th>\n",
       "      <th>parallax</th>\n",
       "      <th>parallax_error</th>\n",
       "      <th>pmra</th>\n",
       "      <th>pmra_error</th>\n",
       "      <th>pmdec</th>\n",
       "      <th>pmdec_error</th>\n",
       "      <th>ang_sep</th>\n",
       "    </tr>\n",
       "  </thead>\n",
       "  <tbody>\n",
       "    <tr>\n",
       "      <th>4720</th>\n",
       "      <td>573667687826923648</td>\n",
       "      <td>20.151816</td>\n",
       "      <td>84.571039</td>\n",
       "      <td>0.639309</td>\n",
       "      <td>0.406949</td>\n",
       "      <td>0.070653</td>\n",
       "      <td>0.515519</td>\n",
       "      <td>-0.225713</td>\n",
       "      <td>0.613166</td>\n",
       "      <td>0.997093</td>\n",
       "    </tr>\n",
       "    <tr>\n",
       "      <th>4721</th>\n",
       "      <td>573667687828321408</td>\n",
       "      <td>20.144699</td>\n",
       "      <td>84.570639</td>\n",
       "      <td>0.509105</td>\n",
       "      <td>0.044984</td>\n",
       "      <td>-0.927877</td>\n",
       "      <td>0.055444</td>\n",
       "      <td>0.803730</td>\n",
       "      <td>0.055010</td>\n",
       "      <td>0.996915</td>\n",
       "    </tr>\n",
       "    <tr>\n",
       "      <th>4726</th>\n",
       "      <td>573667859627014400</td>\n",
       "      <td>20.057579</td>\n",
       "      <td>84.567426</td>\n",
       "      <td>0.550064</td>\n",
       "      <td>0.072116</td>\n",
       "      <td>-2.389332</td>\n",
       "      <td>0.091920</td>\n",
       "      <td>0.041695</td>\n",
       "      <td>0.087700</td>\n",
       "      <td>0.993554</td>\n",
       "    </tr>\n",
       "    <tr>\n",
       "      <th>4727</th>\n",
       "      <td>573667859627015168</td>\n",
       "      <td>20.034705</td>\n",
       "      <td>84.564342</td>\n",
       "      <td>0.539638</td>\n",
       "      <td>0.026685</td>\n",
       "      <td>-4.899182</td>\n",
       "      <td>0.033710</td>\n",
       "      <td>0.150384</td>\n",
       "      <td>0.032215</td>\n",
       "      <td>0.994311</td>\n",
       "    </tr>\n",
       "    <tr>\n",
       "      <th>4831</th>\n",
       "      <td>573673563343578624</td>\n",
       "      <td>20.168716</td>\n",
       "      <td>84.592842</td>\n",
       "      <td>0.641635</td>\n",
       "      <td>0.058298</td>\n",
       "      <td>-4.362186</td>\n",
       "      <td>0.090944</td>\n",
       "      <td>-3.127062</td>\n",
       "      <td>0.075510</td>\n",
       "      <td>0.982604</td>\n",
       "    </tr>\n",
       "  </tbody>\n",
       "</table>\n",
       "</div>"
      ],
      "text/plain": [
       "               source_id         ra        dec  parallax  parallax_error  \\\n",
       "4720  573667687826923648  20.151816  84.571039  0.639309        0.406949   \n",
       "4721  573667687828321408  20.144699  84.570639  0.509105        0.044984   \n",
       "4726  573667859627014400  20.057579  84.567426  0.550064        0.072116   \n",
       "4727  573667859627015168  20.034705  84.564342  0.539638        0.026685   \n",
       "4831  573673563343578624  20.168716  84.592842  0.641635        0.058298   \n",
       "\n",
       "          pmra  pmra_error     pmdec  pmdec_error   ang_sep  \n",
       "4720  0.070653    0.515519 -0.225713     0.613166  0.997093  \n",
       "4721 -0.927877    0.055444  0.803730     0.055010  0.996915  \n",
       "4726 -2.389332    0.091920  0.041695     0.087700  0.993554  \n",
       "4727 -4.899182    0.033710  0.150384     0.032215  0.994311  \n",
       "4831 -4.362186    0.090944 -3.127062     0.075510  0.982604  "
      ]
     },
     "execution_count": 16,
     "metadata": {},
     "output_type": "execute_result"
    }
   ],
   "source": [
    "sources[(sources['ra']>20) & (sources['ra']<30)].head()"
   ]
  },
  {
   "cell_type": "code",
   "execution_count": 19,
   "id": "8bd0e9e8",
   "metadata": {
    "ExecuteTime": {
     "end_time": "2022-07-07T07:35:47.628255Z",
     "start_time": "2022-07-07T07:35:47.615797Z"
    }
   },
   "outputs": [
    {
     "data": {
      "text/plain": [
       "23.863672304004425"
      ]
     },
     "execution_count": 19,
     "metadata": {},
     "output_type": "execute_result"
    }
   ],
   "source": [
    "sources[sources['ra']<100].ra.max()"
   ]
  },
  {
   "cell_type": "code",
   "execution_count": 20,
   "id": "0f2a536f",
   "metadata": {
    "ExecuteTime": {
     "end_time": "2022-07-07T07:36:00.355948Z",
     "start_time": "2022-07-07T07:36:00.347014Z"
    }
   },
   "outputs": [
    {
     "data": {
      "text/plain": [
       "0.008755139595854444"
      ]
     },
     "execution_count": 20,
     "metadata": {},
     "output_type": "execute_result"
    }
   ],
   "source": [
    "sources['ra'].min()"
   ]
  },
  {
   "cell_type": "code",
   "execution_count": 26,
   "id": "bc5ee2a0",
   "metadata": {
    "ExecuteTime": {
     "end_time": "2022-07-07T07:37:33.999061Z",
     "start_time": "2022-07-07T07:37:33.664788Z"
    }
   },
   "outputs": [],
   "source": [
    "sources.to_csv('./data/ngc_188/1_deg.csv', index=None)"
   ]
  },
  {
   "cell_type": "code",
   "execution_count": 29,
   "id": "afe9083e",
   "metadata": {
    "ExecuteTime": {
     "end_time": "2022-07-07T07:37:51.070234Z",
     "start_time": "2022-07-07T07:37:51.061401Z"
    }
   },
   "outputs": [],
   "source": [
    "sky_coords: list[SkyCoord] = SkyCoord(ra=sources.ra.values, dec=sources.dec.values,\n",
    "                                      frame=ICRS, unit=(u.deg, u.deg))"
   ]
  },
  {
   "cell_type": "code",
   "execution_count": 30,
   "id": "4a0fbf25",
   "metadata": {
    "ExecuteTime": {
     "end_time": "2022-07-07T07:37:53.269769Z",
     "start_time": "2022-07-07T07:37:52.210248Z"
    }
   },
   "outputs": [
    {
     "data": {
      "text/plain": [
       "<matplotlib.legend.Legend at 0x7efdfb817fa0>"
      ]
     },
     "execution_count": 30,
     "metadata": {},
     "output_type": "execute_result"
    },
    {
     "data": {
      "image/png": "[encoded data removed]",
      "text/plain": [
       "<Figure size 720x504 with 1 Axes>"
      ]
     },
     "metadata": {
      "needs_background": "light"
     },
     "output_type": "display_data"
    }
   ],
   "source": [
    "plt.figure(figsize=(10, 7))\n",
    "plt.subplot(111, projection=\"aitoff\")\n",
    "plt.scatter(sky_coords.ra.radian, sky_coords.dec.radian, color='salmon', label=r'NGC 188 center$\\pm 2^\\circ$')\n",
    "plt.grid()\n",
    "plt.legend(loc='lower right', fontsize=14)"
   ]
  },
  {
   "cell_type": "code",
   "execution_count": null,
   "id": "b1fff972",
   "metadata": {},
   "outputs": [],
   "source": []
  }
 ],
 "metadata": {
  "celltoolbar": "Initialization Cell",
  "kernelspec": {
   "display_name": "Python 3 (ipykernel)",
   "language": "python",
   "name": "python3"
  },
  "language_info": {
   "codemirror_mode": {
    "name": "ipython",
    "version": 3
   },
   "file_extension": ".py",
   "mimetype": "text/x-python",
   "name": "python",
   "nbconvert_exporter": "python",
   "pygments_lexer": "ipython3",
   "version": "3.9.13"
  },
  "toc": {
   "base_numbering": 1,
   "nav_menu": {},
   "number_sections": true,
   "sideBar": true,
   "skip_h1_title": false,
   "title_cell": "Table of Contents",
   "title_sidebar": "Contents",
   "toc_cell": false,
   "toc_position": {},
   "toc_section_display": true,
   "toc_window_display": false
  },
  "varInspector": {
   "cols": {
    "lenName": 16,
    "lenType": 16,
    "lenVar": 40
   },
   "kernels_config": {
    "python": {
     "delete_cmd_postfix": "",
     "delete_cmd_prefix": "del ",
     "library": "var_list.py",
     "varRefreshCmd": "print(var_dic_list())"
    },
    "r": {
     "delete_cmd_postfix": ") ",
     "delete_cmd_prefix": "rm(",
     "library": "var_list.r",
     "varRefreshCmd": "cat(var_dic_list()) "
    }
   },
   "types_to_exclude": [
    "module",
    "function",
    "builtin_function_or_method",
    "instance",
    "_Feature"
   ],
   "window_display": false
  }
 },
 "nbformat": 4,
 "nbformat_minor": 5
}
