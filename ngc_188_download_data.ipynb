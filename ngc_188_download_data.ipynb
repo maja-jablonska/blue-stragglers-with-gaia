{
 "cells": [
  {
   "cell_type": "code",
   "execution_count": 1,
   "id": "20775123",
   "metadata": {
    "ExecuteTime": {
     "end_time": "2022-07-06T21:13:55.409173Z",
     "start_time": "2022-07-06T21:13:54.081480Z"
    },
    "init_cell": true
   },
   "outputs": [],
   "source": [
    "from gaia_download import gaia_cone_search_5d\n",
    "import pandas as pd\n",
    "import matplotlib.pyplot as plt"
   ]
  },
  {
   "cell_type": "code",
   "execution_count": 2,
   "id": "754bb500",
   "metadata": {
    "ExecuteTime": {
     "end_time": "2022-07-06T21:13:55.414131Z",
     "start_time": "2022-07-06T21:13:55.411366Z"
    },
    "deletable": false,
    "editable": false,
    "init_cell": true
   },
   "outputs": [],
   "source": [
    "RA: float = 11.7980\n",
    "DEC: float = 85.2440"
   ]
  },
  {
   "cell_type": "markdown",
   "id": "48dfae57",
   "metadata": {},
   "source": [
    "# Download 5D data for NGC 188\n",
    "\n",
    "NGC 188 coordinates (ICRS):\n",
    "\n",
    "$\\alpha$ = 11.7980$^\\circ$\n",
    "\n",
    "$\\delta$ = +85.2440$^\\circ$\n",
    "\n",
    "It is located by est. 1.17 kpc and has a radius of ~4 pc.\n",
    "\n",
    "Therefore, I am going to fetch all the objects with parallaxes within 0.75 and 1."
   ]
  },
  {
   "cell_type": "code",
   "execution_count": 3,
   "id": "02e882cc",
   "metadata": {
    "ExecuteTime": {
     "end_time": "2022-07-06T21:13:57.808696Z",
     "start_time": "2022-07-06T21:13:55.419043Z"
    }
   },
   "outputs": [
    {
     "name": "stdout",
     "output_type": "stream",
     "text": [
      "INFO: Query finished. [astroquery.utils.tap.core]\n",
      "Query finished!\n"
     ]
    }
   ],
   "source": [
    "sources: pd.DataFrame = gaia_cone_search_5d(RA, DEC, 1.,\n",
    "                                           min_parallax=0.5,\n",
    "                                            max_parallax=2.)"
   ]
  },
  {
   "cell_type": "code",
   "execution_count": 4,
   "id": "6bc261c8",
   "metadata": {
    "ExecuteTime": {
     "end_time": "2022-07-06T21:13:57.838469Z",
     "start_time": "2022-07-06T21:13:57.811428Z"
    },
    "scrolled": true
   },
   "outputs": [
    {
     "data": {
      "text/html": [
       "<div>\n",
       "<style scoped>\n",
       "    .dataframe tbody tr th:only-of-type {\n",
       "        vertical-align: middle;\n",
       "    }\n",
       "\n",
       "    .dataframe tbody tr th {\n",
       "        vertical-align: top;\n",
       "    }\n",
       "\n",
       "    .dataframe thead th {\n",
       "        text-align: right;\n",
       "    }\n",
       "</style>\n",
       "<table border=\"1\" class=\"dataframe\">\n",
       "  <thead>\n",
       "    <tr style=\"text-align: right;\">\n",
       "      <th></th>\n",
       "      <th>source_id</th>\n",
       "      <th>ra</th>\n",
       "      <th>dec</th>\n",
       "      <th>parallax</th>\n",
       "      <th>parallax_error</th>\n",
       "      <th>pmra</th>\n",
       "      <th>pmra_error</th>\n",
       "      <th>pmdec</th>\n",
       "      <th>pmdec_error</th>\n",
       "      <th>ang_sep</th>\n",
       "    </tr>\n",
       "  </thead>\n",
       "  <tbody>\n",
       "    <tr>\n",
       "      <th>0</th>\n",
       "      <td>2300142011359619968</td>\n",
       "      <td>359.845926</td>\n",
       "      <td>85.187537</td>\n",
       "      <td>0.858780</td>\n",
       "      <td>0.263323</td>\n",
       "      <td>-2.147349</td>\n",
       "      <td>0.248731</td>\n",
       "      <td>2.277438</td>\n",
       "      <td>0.247771</td>\n",
       "      <td>0.996635</td>\n",
       "    </tr>\n",
       "    <tr>\n",
       "      <th>1</th>\n",
       "      <td>2300142011360321664</td>\n",
       "      <td>359.852827</td>\n",
       "      <td>85.185653</td>\n",
       "      <td>1.234011</td>\n",
       "      <td>0.733703</td>\n",
       "      <td>-1.548571</td>\n",
       "      <td>0.756780</td>\n",
       "      <td>1.514820</td>\n",
       "      <td>0.700156</td>\n",
       "      <td>0.996366</td>\n",
       "    </tr>\n",
       "    <tr>\n",
       "      <th>2</th>\n",
       "      <td>2300142762978486272</td>\n",
       "      <td>359.807062</td>\n",
       "      <td>85.196739</td>\n",
       "      <td>0.593997</td>\n",
       "      <td>0.129462</td>\n",
       "      <td>2.480786</td>\n",
       "      <td>0.126916</td>\n",
       "      <td>-2.629402</td>\n",
       "      <td>0.121067</td>\n",
       "      <td>0.998425</td>\n",
       "    </tr>\n",
       "    <tr>\n",
       "      <th>3</th>\n",
       "      <td>2300142831697977088</td>\n",
       "      <td>359.979770</td>\n",
       "      <td>85.216151</td>\n",
       "      <td>0.587936</td>\n",
       "      <td>0.380755</td>\n",
       "      <td>-14.802001</td>\n",
       "      <td>0.360930</td>\n",
       "      <td>1.612288</td>\n",
       "      <td>0.371385</td>\n",
       "      <td>0.981404</td>\n",
       "    </tr>\n",
       "    <tr>\n",
       "      <th>4</th>\n",
       "      <td>2300143042153556864</td>\n",
       "      <td>359.970793</td>\n",
       "      <td>85.225848</td>\n",
       "      <td>1.006705</td>\n",
       "      <td>0.014399</td>\n",
       "      <td>-1.131452</td>\n",
       "      <td>0.013781</td>\n",
       "      <td>-0.214863</td>\n",
       "      <td>0.014534</td>\n",
       "      <td>0.980926</td>\n",
       "    </tr>\n",
       "  </tbody>\n",
       "</table>\n",
       "</div>"
      ],
      "text/plain": [
       "             source_id          ra        dec  parallax  parallax_error  \\\n",
       "0  2300142011359619968  359.845926  85.187537  0.858780        0.263323   \n",
       "1  2300142011360321664  359.852827  85.185653  1.234011        0.733703   \n",
       "2  2300142762978486272  359.807062  85.196739  0.593997        0.129462   \n",
       "3  2300142831697977088  359.979770  85.216151  0.587936        0.380755   \n",
       "4  2300143042153556864  359.970793  85.225848  1.006705        0.014399   \n",
       "\n",
       "        pmra  pmra_error     pmdec  pmdec_error   ang_sep  \n",
       "0  -2.147349    0.248731  2.277438     0.247771  0.996635  \n",
       "1  -1.548571    0.756780  1.514820     0.700156  0.996366  \n",
       "2   2.480786    0.126916 -2.629402     0.121067  0.998425  \n",
       "3 -14.802001    0.360930  1.612288     0.371385  0.981404  \n",
       "4  -1.131452    0.013781 -0.214863     0.014534  0.980926  "
      ]
     },
     "execution_count": 4,
     "metadata": {},
     "output_type": "execute_result"
    }
   ],
   "source": [
    "sources.head()"
   ]
  },
  {
   "cell_type": "code",
   "execution_count": 5,
   "id": "f9637140",
   "metadata": {
    "ExecuteTime": {
     "end_time": "2022-07-06T21:13:57.864188Z",
     "start_time": "2022-07-06T21:13:57.841073Z"
    }
   },
   "outputs": [
    {
     "data": {
      "text/plain": [
       "359.9895455969901"
      ]
     },
     "execution_count": 5,
     "metadata": {},
     "output_type": "execute_result"
    }
   ],
   "source": [
    "sources.ra.max()"
   ]
  },
  {
   "cell_type": "code",
   "execution_count": 6,
   "id": "0932f213",
   "metadata": {
    "ExecuteTime": {
     "end_time": "2022-07-06T21:13:57.896839Z",
     "start_time": "2022-07-06T21:13:57.867102Z"
    }
   },
   "outputs": [
    {
     "data": {
      "text/html": [
       "<div>\n",
       "<style scoped>\n",
       "    .dataframe tbody tr th:only-of-type {\n",
       "        vertical-align: middle;\n",
       "    }\n",
       "\n",
       "    .dataframe tbody tr th {\n",
       "        vertical-align: top;\n",
       "    }\n",
       "\n",
       "    .dataframe thead th {\n",
       "        text-align: right;\n",
       "    }\n",
       "</style>\n",
       "<table border=\"1\" class=\"dataframe\">\n",
       "  <thead>\n",
       "    <tr style=\"text-align: right;\">\n",
       "      <th></th>\n",
       "      <th>source_id</th>\n",
       "      <th>ra</th>\n",
       "      <th>dec</th>\n",
       "      <th>parallax</th>\n",
       "      <th>parallax_error</th>\n",
       "      <th>pmra</th>\n",
       "      <th>pmra_error</th>\n",
       "      <th>pmdec</th>\n",
       "      <th>pmdec_error</th>\n",
       "      <th>ang_sep</th>\n",
       "    </tr>\n",
       "  </thead>\n",
       "  <tbody>\n",
       "    <tr>\n",
       "      <th>5393</th>\n",
       "      <td>573667649172170240</td>\n",
       "      <td>20.084259</td>\n",
       "      <td>84.565873</td>\n",
       "      <td>1.241015</td>\n",
       "      <td>0.031224</td>\n",
       "      <td>0.502530</td>\n",
       "      <td>0.039365</td>\n",
       "      <td>4.520027</td>\n",
       "      <td>0.038734</td>\n",
       "      <td>0.999033</td>\n",
       "    </tr>\n",
       "    <tr>\n",
       "      <th>5394</th>\n",
       "      <td>573667653468584064</td>\n",
       "      <td>20.102808</td>\n",
       "      <td>84.567681</td>\n",
       "      <td>1.949265</td>\n",
       "      <td>0.217335</td>\n",
       "      <td>18.378407</td>\n",
       "      <td>0.278320</td>\n",
       "      <td>0.682998</td>\n",
       "      <td>0.328697</td>\n",
       "      <td>0.998922</td>\n",
       "    </tr>\n",
       "    <tr>\n",
       "      <th>5395</th>\n",
       "      <td>573667687826923648</td>\n",
       "      <td>20.151816</td>\n",
       "      <td>84.571039</td>\n",
       "      <td>0.639309</td>\n",
       "      <td>0.406949</td>\n",
       "      <td>0.070653</td>\n",
       "      <td>0.515519</td>\n",
       "      <td>-0.225713</td>\n",
       "      <td>0.613166</td>\n",
       "      <td>0.999682</td>\n",
       "    </tr>\n",
       "    <tr>\n",
       "      <th>5396</th>\n",
       "      <td>573667687828321408</td>\n",
       "      <td>20.144699</td>\n",
       "      <td>84.570639</td>\n",
       "      <td>0.509105</td>\n",
       "      <td>0.044984</td>\n",
       "      <td>-0.927877</td>\n",
       "      <td>0.055444</td>\n",
       "      <td>0.803730</td>\n",
       "      <td>0.055010</td>\n",
       "      <td>0.999507</td>\n",
       "    </tr>\n",
       "    <tr>\n",
       "      <th>5402</th>\n",
       "      <td>573667859627014400</td>\n",
       "      <td>20.057579</td>\n",
       "      <td>84.567426</td>\n",
       "      <td>0.550064</td>\n",
       "      <td>0.072116</td>\n",
       "      <td>-2.389332</td>\n",
       "      <td>0.091920</td>\n",
       "      <td>0.041695</td>\n",
       "      <td>0.087700</td>\n",
       "      <td>0.996171</td>\n",
       "    </tr>\n",
       "  </tbody>\n",
       "</table>\n",
       "</div>"
      ],
      "text/plain": [
       "               source_id         ra        dec  parallax  parallax_error  \\\n",
       "5393  573667649172170240  20.084259  84.565873  1.241015        0.031224   \n",
       "5394  573667653468584064  20.102808  84.567681  1.949265        0.217335   \n",
       "5395  573667687826923648  20.151816  84.571039  0.639309        0.406949   \n",
       "5396  573667687828321408  20.144699  84.570639  0.509105        0.044984   \n",
       "5402  573667859627014400  20.057579  84.567426  0.550064        0.072116   \n",
       "\n",
       "           pmra  pmra_error     pmdec  pmdec_error   ang_sep  \n",
       "5393   0.502530    0.039365  4.520027     0.038734  0.999033  \n",
       "5394  18.378407    0.278320  0.682998     0.328697  0.998922  \n",
       "5395   0.070653    0.515519 -0.225713     0.613166  0.999682  \n",
       "5396  -0.927877    0.055444  0.803730     0.055010  0.999507  \n",
       "5402  -2.389332    0.091920  0.041695     0.087700  0.996171  "
      ]
     },
     "execution_count": 6,
     "metadata": {},
     "output_type": "execute_result"
    }
   ],
   "source": [
    "sources[(sources['ra']>20) & (sources['ra']<30)].head()"
   ]
  },
  {
   "cell_type": "code",
   "execution_count": 7,
   "id": "8bd0e9e8",
   "metadata": {
    "ExecuteTime": {
     "end_time": "2022-07-06T21:13:57.919267Z",
     "start_time": "2022-07-06T21:13:57.904985Z"
    }
   },
   "outputs": [
    {
     "data": {
      "text/plain": [
       "0.002811977417092494"
      ]
     },
     "execution_count": 7,
     "metadata": {},
     "output_type": "execute_result"
    }
   ],
   "source": [
    "sources[sources['ra']<100].ra.min()"
   ]
  },
  {
   "cell_type": "code",
   "execution_count": 8,
   "id": "0f2a536f",
   "metadata": {
    "ExecuteTime": {
     "end_time": "2022-07-06T21:13:57.936897Z",
     "start_time": "2022-07-06T21:13:57.925352Z"
    }
   },
   "outputs": [
    {
     "data": {
      "text/plain": [
       "0.002811977417092494"
      ]
     },
     "execution_count": 8,
     "metadata": {},
     "output_type": "execute_result"
    }
   ],
   "source": [
    "sources['ra'].min()"
   ]
  },
  {
   "cell_type": "code",
   "execution_count": 9,
   "id": "bc5ee2a0",
   "metadata": {
    "ExecuteTime": {
     "end_time": "2022-07-06T21:13:58.336820Z",
     "start_time": "2022-07-06T21:13:57.940660Z"
    }
   },
   "outputs": [],
   "source": [
    "sources.to_csv('./data/ngc_188/1_deg.csv', index=None)"
   ]
  },
  {
   "cell_type": "code",
   "execution_count": 10,
   "id": "4a0fbf25",
   "metadata": {
    "ExecuteTime": {
     "end_time": "2022-07-06T21:13:58.737662Z",
     "start_time": "2022-07-06T21:13:58.339984Z"
    }
   },
   "outputs": [
    {
     "ename": "NameError",
     "evalue": "name 'sky_coords' is not defined",
     "output_type": "error",
     "traceback": [
      "\u001b[0;31m---------------------------------------------------------------------------\u001b[0m",
      "\u001b[0;31mNameError\u001b[0m                                 Traceback (most recent call last)",
      "\u001b[0;32m<ipython-input-10-fa9fc8410e4e>\u001b[0m in \u001b[0;36m<module>\u001b[0;34m\u001b[0m\n\u001b[1;32m      1\u001b[0m \u001b[0mplt\u001b[0m\u001b[0;34m.\u001b[0m\u001b[0mfigure\u001b[0m\u001b[0;34m(\u001b[0m\u001b[0mfigsize\u001b[0m\u001b[0;34m=\u001b[0m\u001b[0;34m(\u001b[0m\u001b[0;36m10\u001b[0m\u001b[0;34m,\u001b[0m \u001b[0;36m7\u001b[0m\u001b[0;34m)\u001b[0m\u001b[0;34m)\u001b[0m\u001b[0;34m\u001b[0m\u001b[0;34m\u001b[0m\u001b[0m\n\u001b[1;32m      2\u001b[0m \u001b[0mplt\u001b[0m\u001b[0;34m.\u001b[0m\u001b[0msubplot\u001b[0m\u001b[0;34m(\u001b[0m\u001b[0;36m111\u001b[0m\u001b[0;34m,\u001b[0m \u001b[0mprojection\u001b[0m\u001b[0;34m=\u001b[0m\u001b[0;34m\"aitoff\"\u001b[0m\u001b[0;34m)\u001b[0m\u001b[0;34m\u001b[0m\u001b[0;34m\u001b[0m\u001b[0m\n\u001b[0;32m----> 3\u001b[0;31m \u001b[0mplt\u001b[0m\u001b[0;34m.\u001b[0m\u001b[0mscatter\u001b[0m\u001b[0;34m(\u001b[0m\u001b[0msky_coords\u001b[0m\u001b[0;34m.\u001b[0m\u001b[0mra\u001b[0m\u001b[0;34m.\u001b[0m\u001b[0mradian\u001b[0m\u001b[0;34m,\u001b[0m \u001b[0msky_coords\u001b[0m\u001b[0;34m.\u001b[0m\u001b[0mdec\u001b[0m\u001b[0;34m.\u001b[0m\u001b[0mradian\u001b[0m\u001b[0;34m,\u001b[0m \u001b[0mcolor\u001b[0m\u001b[0;34m=\u001b[0m\u001b[0;34m'salmon'\u001b[0m\u001b[0;34m,\u001b[0m \u001b[0mlabel\u001b[0m\u001b[0;34m=\u001b[0m\u001b[0;34mr'NGC 188 center$\\pm 2^\\circ$'\u001b[0m\u001b[0;34m)\u001b[0m\u001b[0;34m\u001b[0m\u001b[0;34m\u001b[0m\u001b[0m\n\u001b[0m\u001b[1;32m      4\u001b[0m \u001b[0mplt\u001b[0m\u001b[0;34m.\u001b[0m\u001b[0mgrid\u001b[0m\u001b[0;34m(\u001b[0m\u001b[0;34m)\u001b[0m\u001b[0;34m\u001b[0m\u001b[0;34m\u001b[0m\u001b[0m\n\u001b[1;32m      5\u001b[0m \u001b[0mplt\u001b[0m\u001b[0;34m.\u001b[0m\u001b[0mlegend\u001b[0m\u001b[0;34m(\u001b[0m\u001b[0mloc\u001b[0m\u001b[0;34m=\u001b[0m\u001b[0;34m'lower right'\u001b[0m\u001b[0;34m,\u001b[0m \u001b[0mfontsize\u001b[0m\u001b[0;34m=\u001b[0m\u001b[0;36m14\u001b[0m\u001b[0;34m)\u001b[0m\u001b[0;34m\u001b[0m\u001b[0;34m\u001b[0m\u001b[0m\n",
      "\u001b[0;31mNameError\u001b[0m: name 'sky_coords' is not defined"
     ]
    },
    {
     "data": {
      "image/png": "[encoded data removed]",
      "text/plain": [
       "<Figure size 720x504 with 1 Axes>"
      ]
     },
     "metadata": {
      "needs_background": "light"
     },
     "output_type": "display_data"
    }
   ],
   "source": [
    "plt.figure(figsize=(10, 7))\n",
    "plt.subplot(111, projection=\"aitoff\")\n",
    "plt.scatter(sky_coords.ra.radian, sky_coords.dec.radian, color='salmon', label=r'NGC 188 center$\\pm 2^\\circ$')\n",
    "plt.grid()\n",
    "plt.legend(loc='lower right', fontsize=14)"
   ]
  },
  {
   "cell_type": "code",
   "execution_count": null,
   "id": "b1fff972",
   "metadata": {},
   "outputs": [],
   "source": []
  }
 ],
 "metadata": {
  "celltoolbar": "Initialization Cell",
  "kernelspec": {
   "display_name": "Python 3",
   "language": "python",
   "name": "python3"
  },
  "language_info": {
   "codemirror_mode": {
    "name": "ipython",
    "version": 3
   },
   "file_extension": ".py",
   "mimetype": "text/x-python",
   "name": "python",
   "nbconvert_exporter": "python",
   "pygments_lexer": "ipython3",
   "version": "3.8.3"
  },
  "toc": {
   "base_numbering": 1,
   "nav_menu": {},
   "number_sections": true,
   "sideBar": true,
   "skip_h1_title": false,
   "title_cell": "Table of Contents",
   "title_sidebar": "Contents",
   "toc_cell": false,
   "toc_position": {},
   "toc_section_display": true,
   "toc_window_display": false
  },
  "varInspector": {
   "cols": {
    "lenName": 16,
    "lenType": 16,
    "lenVar": 40
   },
   "kernels_config": {
    "python": {
     "delete_cmd_postfix": "",
     "delete_cmd_prefix": "del ",
     "library": "var_list.py",
     "varRefreshCmd": "print(var_dic_list())"
    },
    "r": {
     "delete_cmd_postfix": ") ",
     "delete_cmd_prefix": "rm(",
     "library": "var_list.r",
     "varRefreshCmd": "cat(var_dic_list()) "
    }
   },
   "types_to_exclude": [
    "module",
    "function",
    "builtin_function_or_method",
    "instance",
    "_Feature"
   ],
   "window_display": false
  }
 },
 "nbformat": 4,
 "nbformat_minor": 5
}
