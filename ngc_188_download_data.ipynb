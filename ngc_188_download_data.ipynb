{
 "cells": [
  {
   "cell_type": "code",
   "execution_count": 1,
   "id": "5af3d535",
   "metadata": {
    "ExecuteTime": {
     "end_time": "2022-07-06T10:38:48.308392Z",
     "start_time": "2022-07-06T10:38:46.381231Z"
    },
    "init_cell": true
   },
   "outputs": [],
   "source": [
    "from gaia_download import gaia_cone_search_5d\n",
    "import pandas as pd"
   ]
  },
  {
   "cell_type": "code",
   "execution_count": 2,
   "id": "acfdaa68",
   "metadata": {
    "ExecuteTime": {
     "end_time": "2022-07-06T10:38:48.316788Z",
     "start_time": "2022-07-06T10:38:48.312493Z"
    },
    "deletable": false,
    "editable": false,
    "init_cell": true
   },
   "outputs": [],
   "source": [
    "RA: float = 11.7980\n",
    "DEC: float = 85.2440"
   ]
  },
  {
   "cell_type": "markdown",
   "id": "959aec4d",
   "metadata": {},
   "source": [
    "# Download 5D data for NGC 188\n",
    "\n",
    "NGC 188 coordinates (ICRS):\n",
    "\n",
    "$\\alpha$ = 11.7980$^\\circ$\n",
    "\n",
    "$\\delta$ = +85.2440$^\\circ$\n",
    "\n",
    "It is located by est. 1.17 kpc and has a radius of ~4 pc.\n",
    "\n",
    "Therefore, I am going to fetch all the objects with parallaxes within 0.75 and 1."
   ]
  },
  {
   "cell_type": "code",
   "execution_count": 7,
   "id": "ae3a232b",
   "metadata": {
    "ExecuteTime": {
     "end_time": "2022-07-06T11:42:57.587325Z",
     "start_time": "2022-07-06T11:42:50.840411Z"
    }
   },
   "outputs": [
    {
     "name": "stdout",
     "output_type": "stream",
     "text": [
      "INFO: Query finished. [astroquery.utils.tap.core]\n",
      "Query finished!\n"
     ]
    }
   ],
   "source": [
    "sources: pd.DataFrame = gaia_cone_search_5d(RA, DEC, 2.,\n",
    "                                            min_parallax=0.5,\n",
    "                                            max_parallax=2.)"
   ]
  },
  {
   "cell_type": "code",
   "execution_count": 8,
   "id": "97026f34",
   "metadata": {
    "ExecuteTime": {
     "end_time": "2022-07-06T11:42:58.074390Z",
     "start_time": "2022-07-06T11:42:58.047165Z"
    }
   },
   "outputs": [
    {
     "data": {
      "text/html": [
       "<div>\n",
       "<style scoped>\n",
       "    .dataframe tbody tr th:only-of-type {\n",
       "        vertical-align: middle;\n",
       "    }\n",
       "\n",
       "    .dataframe tbody tr th {\n",
       "        vertical-align: top;\n",
       "    }\n",
       "\n",
       "    .dataframe thead th {\n",
       "        text-align: right;\n",
       "    }\n",
       "</style>\n",
       "<table border=\"1\" class=\"dataframe\">\n",
       "  <thead>\n",
       "    <tr style=\"text-align: right;\">\n",
       "      <th></th>\n",
       "      <th>source_id</th>\n",
       "      <th>ra</th>\n",
       "      <th>dec</th>\n",
       "      <th>parallax</th>\n",
       "      <th>parallax_error</th>\n",
       "      <th>pmra</th>\n",
       "      <th>pmra_error</th>\n",
       "      <th>pmdec</th>\n",
       "      <th>pmdec_error</th>\n",
       "    </tr>\n",
       "  </thead>\n",
       "  <tbody>\n",
       "    <tr>\n",
       "      <th>0</th>\n",
       "      <td>574509467058245248</td>\n",
       "      <td>35.762865</td>\n",
       "      <td>85.164665</td>\n",
       "      <td>0.545239</td>\n",
       "      <td>0.034492</td>\n",
       "      <td>3.247654</td>\n",
       "      <td>0.041664</td>\n",
       "      <td>-1.847557</td>\n",
       "      <td>0.038611</td>\n",
       "    </tr>\n",
       "    <tr>\n",
       "      <th>1</th>\n",
       "      <td>574509497122163968</td>\n",
       "      <td>35.809630</td>\n",
       "      <td>85.163901</td>\n",
       "      <td>1.030282</td>\n",
       "      <td>0.305369</td>\n",
       "      <td>3.574122</td>\n",
       "      <td>0.340190</td>\n",
       "      <td>-11.069103</td>\n",
       "      <td>0.322297</td>\n",
       "    </tr>\n",
       "    <tr>\n",
       "      <th>2</th>\n",
       "      <td>574509497122165760</td>\n",
       "      <td>35.790532</td>\n",
       "      <td>85.170221</td>\n",
       "      <td>0.700458</td>\n",
       "      <td>0.150817</td>\n",
       "      <td>1.392000</td>\n",
       "      <td>0.170484</td>\n",
       "      <td>-5.308261</td>\n",
       "      <td>0.161823</td>\n",
       "    </tr>\n",
       "    <tr>\n",
       "      <th>3</th>\n",
       "      <td>574509497122168832</td>\n",
       "      <td>35.881362</td>\n",
       "      <td>85.173814</td>\n",
       "      <td>1.019159</td>\n",
       "      <td>0.095813</td>\n",
       "      <td>7.129422</td>\n",
       "      <td>0.111451</td>\n",
       "      <td>-1.815068</td>\n",
       "      <td>0.103988</td>\n",
       "    </tr>\n",
       "    <tr>\n",
       "      <th>4</th>\n",
       "      <td>574509497122532096</td>\n",
       "      <td>35.863571</td>\n",
       "      <td>85.172798</td>\n",
       "      <td>0.800303</td>\n",
       "      <td>0.247038</td>\n",
       "      <td>-1.281005</td>\n",
       "      <td>0.256265</td>\n",
       "      <td>-2.856644</td>\n",
       "      <td>0.247990</td>\n",
       "    </tr>\n",
       "  </tbody>\n",
       "</table>\n",
       "</div>"
      ],
      "text/plain": [
       "            source_id         ra        dec  parallax  parallax_error  \\\n",
       "0  574509467058245248  35.762865  85.164665  0.545239        0.034492   \n",
       "1  574509497122163968  35.809630  85.163901  1.030282        0.305369   \n",
       "2  574509497122165760  35.790532  85.170221  0.700458        0.150817   \n",
       "3  574509497122168832  35.881362  85.173814  1.019159        0.095813   \n",
       "4  574509497122532096  35.863571  85.172798  0.800303        0.247038   \n",
       "\n",
       "       pmra  pmra_error      pmdec  pmdec_error  \n",
       "0  3.247654    0.041664  -1.847557     0.038611  \n",
       "1  3.574122    0.340190 -11.069103     0.322297  \n",
       "2  1.392000    0.170484  -5.308261     0.161823  \n",
       "3  7.129422    0.111451  -1.815068     0.103988  \n",
       "4 -1.281005    0.256265  -2.856644     0.247990  "
      ]
     },
     "execution_count": 8,
     "metadata": {},
     "output_type": "execute_result"
    }
   ],
   "source": [
    "sources.head()"
   ]
  },
  {
   "cell_type": "code",
   "execution_count": 10,
   "id": "35ef9291",
   "metadata": {
    "ExecuteTime": {
     "end_time": "2022-07-06T11:44:07.859869Z",
     "start_time": "2022-07-06T11:44:06.688696Z"
    }
   },
   "outputs": [],
   "source": [
    "sources.to_csv('./data/ngc_188/2_deg.csv', index=None)"
   ]
  },
  {
   "cell_type": "code",
   "execution_count": null,
   "id": "2f6160ad",
   "metadata": {},
   "outputs": [],
   "source": []
  }
 ],
 "metadata": {
  "celltoolbar": "Initialization Cell",
  "kernelspec": {
   "display_name": "Python 3 (ipykernel)",
   "language": "python",
   "name": "python3"
  },
  "language_info": {
   "codemirror_mode": {
    "name": "ipython",
    "version": 3
   },
   "file_extension": ".py",
   "mimetype": "text/x-python",
   "name": "python",
   "nbconvert_exporter": "python",
   "pygments_lexer": "ipython3",
   "version": "3.9.10"
  },
  "toc": {
   "base_numbering": 1,
   "nav_menu": {},
   "number_sections": true,
   "sideBar": true,
   "skip_h1_title": false,
   "title_cell": "Table of Contents",
   "title_sidebar": "Contents",
   "toc_cell": false,
   "toc_position": {},
   "toc_section_display": true,
   "toc_window_display": false
  },
  "varInspector": {
   "cols": {
    "lenName": 16,
    "lenType": 16,
    "lenVar": 40
   },
   "kernels_config": {
    "python": {
     "delete_cmd_postfix": "",
     "delete_cmd_prefix": "del ",
     "library": "var_list.py",
     "varRefreshCmd": "print(var_dic_list())"
    },
    "r": {
     "delete_cmd_postfix": ") ",
     "delete_cmd_prefix": "rm(",
     "library": "var_list.r",
     "varRefreshCmd": "cat(var_dic_list()) "
    }
   },
   "types_to_exclude": [
    "module",
    "function",
    "builtin_function_or_method",
    "instance",
    "_Feature"
   ],
   "window_display": false
  }
 },
 "nbformat": 4,
 "nbformat_minor": 5
}
