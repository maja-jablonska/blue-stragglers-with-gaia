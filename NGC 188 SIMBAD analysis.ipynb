{
 "cells": [
  {
   "cell_type": "code",
   "execution_count": 45,
   "id": "c4495a1d",
   "metadata": {
    "ExecuteTime": {
     "end_time": "2022-07-12T12:18:55.194884Z",
     "start_time": "2022-07-12T12:18:55.181794Z"
    }
   },
   "outputs": [],
   "source": [
    "import numpy as np\n",
    "import pandas as pd\n",
    "from simbad_download import fetch_catalog_id, fetch_object_children\n",
    "\n",
    "import requests \n",
    "from bs4 import BeautifulSoup"
   ]
  },
  {
   "cell_type": "code",
   "execution_count": 46,
   "id": "360d548e",
   "metadata": {
    "ExecuteTime": {
     "end_time": "2022-07-12T12:18:56.691156Z",
     "start_time": "2022-07-12T12:18:55.392097Z"
    }
   },
   "outputs": [],
   "source": [
    "children = fetch_object_children('NGC 188')"
   ]
  },
  {
   "cell_type": "code",
   "execution_count": 47,
   "id": "c20e22a2",
   "metadata": {
    "ExecuteTime": {
     "end_time": "2022-07-12T12:18:56.830769Z",
     "start_time": "2022-07-12T12:18:56.801158Z"
    },
    "scrolled": false
   },
   "outputs": [
    {
     "data": {
      "text/html": [
       "<div>\n",
       "<style scoped>\n",
       "    .dataframe tbody tr th:only-of-type {\n",
       "        vertical-align: middle;\n",
       "    }\n",
       "\n",
       "    .dataframe tbody tr th {\n",
       "        vertical-align: top;\n",
       "    }\n",
       "\n",
       "    .dataframe thead th {\n",
       "        text-align: right;\n",
       "    }\n",
       "</style>\n",
       "<table border=\"1\" class=\"dataframe\">\n",
       "  <thead>\n",
       "    <tr style=\"text-align: right;\">\n",
       "      <th></th>\n",
       "      <th>obj_id</th>\n",
       "      <th>oid</th>\n",
       "      <th>link_bibcode</th>\n",
       "      <th>ra</th>\n",
       "      <th>dec</th>\n",
       "      <th>coo_bibcode</th>\n",
       "      <th>parallax</th>\n",
       "      <th>parallax_err</th>\n",
       "      <th>parallax_bibcode</th>\n",
       "      <th>pmra</th>\n",
       "      <th>pmdec</th>\n",
       "      <th>pm_err</th>\n",
       "      <th>pm_bibcode</th>\n",
       "      <th>radvel</th>\n",
       "      <th>radvel_err</th>\n",
       "      <th>rvz_bibcode</th>\n",
       "      <th>ids</th>\n",
       "    </tr>\n",
       "  </thead>\n",
       "  <tbody>\n",
       "    <tr>\n",
       "      <th>0</th>\n",
       "      <td>NGC 188 1054</td>\n",
       "      <td>303084</td>\n",
       "      <td>2004PASP..116.1012S</td>\n",
       "      <td>11.19125</td>\n",
       "      <td>85.256734</td>\n",
       "      <td>2020yCat.1350....0G</td>\n",
       "      <td>0.5409</td>\n",
       "      <td>0.0189</td>\n",
       "      <td>2020yCat.1350....0G</td>\n",
       "      <td>-2.178</td>\n",
       "      <td>-1.099</td>\n",
       "      <td>3.0</td>\n",
       "      <td>2020yCat.1350....0G</td>\n",
       "      <td>-42.18</td>\n",
       "      <td>NaN</td>\n",
       "      <td>2008AJ....135.2264G</td>\n",
       "      <td>Gaia EDR3 573942325217383424|TIC 461601298|2MA...</td>\n",
       "    </tr>\n",
       "    <tr>\n",
       "      <th>1</th>\n",
       "      <td>Cl* NGC 188 DGV 1869</td>\n",
       "      <td>303589</td>\n",
       "      <td>2004PASP..116.1012S</td>\n",
       "      <td>9.743203</td>\n",
       "      <td>85.559916</td>\n",
       "      <td>2020yCat.1350....0G</td>\n",
       "      <td>0.5191</td>\n",
       "      <td>0.0232</td>\n",
       "      <td>2020yCat.1350....0G</td>\n",
       "      <td>-2.25</td>\n",
       "      <td>-1.11</td>\n",
       "      <td>3.0</td>\n",
       "      <td>2020yCat.1350....0G</td>\n",
       "      <td>-42.74</td>\n",
       "      <td>NaN</td>\n",
       "      <td>2008AJ....135.2264G</td>\n",
       "      <td>Gaia EDR3 573982010715088256|TIC 461597588|2MA...</td>\n",
       "    </tr>\n",
       "    <tr>\n",
       "      <th>2</th>\n",
       "      <td>NGC 188 2014</td>\n",
       "      <td>303857</td>\n",
       "      <td>2004PASP..116.1012S</td>\n",
       "      <td>10.977598</td>\n",
       "      <td>85.205113</td>\n",
       "      <td>2020yCat.1350....0G</td>\n",
       "      <td>0.4785</td>\n",
       "      <td>0.0404</td>\n",
       "      <td>2020yCat.1350....0G</td>\n",
       "      <td>-2.368</td>\n",
       "      <td>-1.021</td>\n",
       "      <td>3.0</td>\n",
       "      <td>2020yCat.1350....0G</td>\n",
       "      <td>NaN</td>\n",
       "      <td>NaN</td>\n",
       "      <td></td>\n",
       "      <td>Gaia EDR3 573935899946338816|TIC 461599220|2MA...</td>\n",
       "    </tr>\n",
       "    <tr>\n",
       "      <th>3</th>\n",
       "      <td>NGC 188 1152</td>\n",
       "      <td>303904</td>\n",
       "      <td>2004PASP..116.1012S</td>\n",
       "      <td>11.164145</td>\n",
       "      <td>85.24285</td>\n",
       "      <td>2020yCat.1350....0G</td>\n",
       "      <td>0.6603</td>\n",
       "      <td>0.0853</td>\n",
       "      <td>2020yCat.1350....0G</td>\n",
       "      <td>-2.111</td>\n",
       "      <td>-1.057</td>\n",
       "      <td>3.0</td>\n",
       "      <td>2020yCat.1350....0G</td>\n",
       "      <td>NaN</td>\n",
       "      <td>NaN</td>\n",
       "      <td></td>\n",
       "      <td>Gaia EDR3 573941942962994176|TIC 461601256|2MA...</td>\n",
       "    </tr>\n",
       "    <tr>\n",
       "      <th>4</th>\n",
       "      <td>NGC 188 3129</td>\n",
       "      <td>303875</td>\n",
       "      <td>2004PASP..116.1012S</td>\n",
       "      <td>11.151445</td>\n",
       "      <td>85.35277</td>\n",
       "      <td>2020yCat.1350....0G</td>\n",
       "      <td>0.5443</td>\n",
       "      <td>0.0169</td>\n",
       "      <td>2020yCat.1350....0G</td>\n",
       "      <td>-2.387</td>\n",
       "      <td>-0.98</td>\n",
       "      <td>3.0</td>\n",
       "      <td>2020yCat.1350....0G</td>\n",
       "      <td>-42.69</td>\n",
       "      <td>NaN</td>\n",
       "      <td>2008AJ....135.2264G</td>\n",
       "      <td>Gaia EDR3 573944215002950144|TIC 461601456|2MA...</td>\n",
       "    </tr>\n",
       "  </tbody>\n",
       "</table>\n",
       "</div>"
      ],
      "text/plain": [
       "                 obj_id     oid         link_bibcode         ra        dec  \\\n",
       "0          NGC 188 1054  303084  2004PASP..116.1012S   11.19125  85.256734   \n",
       "1  Cl* NGC 188 DGV 1869  303589  2004PASP..116.1012S   9.743203  85.559916   \n",
       "2          NGC 188 2014  303857  2004PASP..116.1012S  10.977598  85.205113   \n",
       "3          NGC 188 1152  303904  2004PASP..116.1012S  11.164145   85.24285   \n",
       "4          NGC 188 3129  303875  2004PASP..116.1012S  11.151445   85.35277   \n",
       "\n",
       "           coo_bibcode parallax parallax_err     parallax_bibcode   pmra  \\\n",
       "0  2020yCat.1350....0G   0.5409       0.0189  2020yCat.1350....0G -2.178   \n",
       "1  2020yCat.1350....0G   0.5191       0.0232  2020yCat.1350....0G  -2.25   \n",
       "2  2020yCat.1350....0G   0.4785       0.0404  2020yCat.1350....0G -2.368   \n",
       "3  2020yCat.1350....0G   0.6603       0.0853  2020yCat.1350....0G -2.111   \n",
       "4  2020yCat.1350....0G   0.5443       0.0169  2020yCat.1350....0G -2.387   \n",
       "\n",
       "   pmdec pm_err           pm_bibcode radvel radvel_err          rvz_bibcode  \\\n",
       "0 -1.099    3.0  2020yCat.1350....0G -42.18        NaN  2008AJ....135.2264G   \n",
       "1  -1.11    3.0  2020yCat.1350....0G -42.74        NaN  2008AJ....135.2264G   \n",
       "2 -1.021    3.0  2020yCat.1350....0G    NaN        NaN                        \n",
       "3 -1.057    3.0  2020yCat.1350....0G    NaN        NaN                        \n",
       "4  -0.98    3.0  2020yCat.1350....0G -42.69        NaN  2008AJ....135.2264G   \n",
       "\n",
       "                                                 ids  \n",
       "0  Gaia EDR3 573942325217383424|TIC 461601298|2MA...  \n",
       "1  Gaia EDR3 573982010715088256|TIC 461597588|2MA...  \n",
       "2  Gaia EDR3 573935899946338816|TIC 461599220|2MA...  \n",
       "3  Gaia EDR3 573941942962994176|TIC 461601256|2MA...  \n",
       "4  Gaia EDR3 573944215002950144|TIC 461601456|2MA...  "
      ]
     },
     "execution_count": 47,
     "metadata": {},
     "output_type": "execute_result"
    }
   ],
   "source": [
    "children.head()"
   ]
  },
  {
   "cell_type": "code",
   "execution_count": 48,
   "id": "883a9568",
   "metadata": {
    "ExecuteTime": {
     "end_time": "2022-07-12T12:18:57.100916Z",
     "start_time": "2022-07-12T12:18:56.951796Z"
    }
   },
   "outputs": [],
   "source": [
    "children['EDR3 id'] = np.vectorize(fetch_catalog_id)(children.ids, 'EDR3')\n",
    "children['DR2 id'] = np.vectorize(fetch_catalog_id)(children.ids, 'DR2')\n",
    "children['TIC'] = np.vectorize(fetch_catalog_id)(children.ids, 'TIC')"
   ]
  },
  {
   "cell_type": "code",
   "execution_count": 49,
   "id": "728ce0bd",
   "metadata": {
    "ExecuteTime": {
     "end_time": "2022-07-12T12:18:57.338068Z",
     "start_time": "2022-07-12T12:18:57.271940Z"
    }
   },
   "outputs": [
    {
     "data": {
      "text/html": [
       "<div>\n",
       "<style scoped>\n",
       "    .dataframe tbody tr th:only-of-type {\n",
       "        vertical-align: middle;\n",
       "    }\n",
       "\n",
       "    .dataframe tbody tr th {\n",
       "        vertical-align: top;\n",
       "    }\n",
       "\n",
       "    .dataframe thead th {\n",
       "        text-align: right;\n",
       "    }\n",
       "</style>\n",
       "<table border=\"1\" class=\"dataframe\">\n",
       "  <thead>\n",
       "    <tr style=\"text-align: right;\">\n",
       "      <th></th>\n",
       "      <th>obj_id</th>\n",
       "      <th>oid</th>\n",
       "      <th>link_bibcode</th>\n",
       "      <th>ra</th>\n",
       "      <th>dec</th>\n",
       "      <th>coo_bibcode</th>\n",
       "      <th>parallax</th>\n",
       "      <th>parallax_err</th>\n",
       "      <th>parallax_bibcode</th>\n",
       "      <th>pmra</th>\n",
       "      <th>pmdec</th>\n",
       "      <th>pm_err</th>\n",
       "      <th>pm_bibcode</th>\n",
       "      <th>radvel</th>\n",
       "      <th>radvel_err</th>\n",
       "      <th>rvz_bibcode</th>\n",
       "      <th>ids</th>\n",
       "      <th>EDR3 id</th>\n",
       "      <th>DR2 id</th>\n",
       "      <th>TIC</th>\n",
       "    </tr>\n",
       "  </thead>\n",
       "  <tbody>\n",
       "    <tr>\n",
       "      <th>0</th>\n",
       "      <td>NGC 188 1054</td>\n",
       "      <td>303084</td>\n",
       "      <td>2004PASP..116.1012S</td>\n",
       "      <td>11.19125</td>\n",
       "      <td>85.256734</td>\n",
       "      <td>2020yCat.1350....0G</td>\n",
       "      <td>0.5409</td>\n",
       "      <td>0.0189</td>\n",
       "      <td>2020yCat.1350....0G</td>\n",
       "      <td>-2.178</td>\n",
       "      <td>-1.099</td>\n",
       "      <td>3.0</td>\n",
       "      <td>2020yCat.1350....0G</td>\n",
       "      <td>-42.18</td>\n",
       "      <td>NaN</td>\n",
       "      <td>2008AJ....135.2264G</td>\n",
       "      <td>Gaia EDR3 573942325217383424|TIC 461601298|2MA...</td>\n",
       "      <td>573942325217383424</td>\n",
       "      <td>573942325217383424</td>\n",
       "      <td>461601298</td>\n",
       "    </tr>\n",
       "    <tr>\n",
       "      <th>1</th>\n",
       "      <td>Cl* NGC 188 DGV 1869</td>\n",
       "      <td>303589</td>\n",
       "      <td>2004PASP..116.1012S</td>\n",
       "      <td>9.743203</td>\n",
       "      <td>85.559916</td>\n",
       "      <td>2020yCat.1350....0G</td>\n",
       "      <td>0.5191</td>\n",
       "      <td>0.0232</td>\n",
       "      <td>2020yCat.1350....0G</td>\n",
       "      <td>-2.25</td>\n",
       "      <td>-1.11</td>\n",
       "      <td>3.0</td>\n",
       "      <td>2020yCat.1350....0G</td>\n",
       "      <td>-42.74</td>\n",
       "      <td>NaN</td>\n",
       "      <td>2008AJ....135.2264G</td>\n",
       "      <td>Gaia EDR3 573982010715088256|TIC 461597588|2MA...</td>\n",
       "      <td>573982010715088256</td>\n",
       "      <td>573982010715088256</td>\n",
       "      <td>461597588</td>\n",
       "    </tr>\n",
       "    <tr>\n",
       "      <th>2</th>\n",
       "      <td>NGC 188 2014</td>\n",
       "      <td>303857</td>\n",
       "      <td>2004PASP..116.1012S</td>\n",
       "      <td>10.977598</td>\n",
       "      <td>85.205113</td>\n",
       "      <td>2020yCat.1350....0G</td>\n",
       "      <td>0.4785</td>\n",
       "      <td>0.0404</td>\n",
       "      <td>2020yCat.1350....0G</td>\n",
       "      <td>-2.368</td>\n",
       "      <td>-1.021</td>\n",
       "      <td>3.0</td>\n",
       "      <td>2020yCat.1350....0G</td>\n",
       "      <td>NaN</td>\n",
       "      <td>NaN</td>\n",
       "      <td></td>\n",
       "      <td>Gaia EDR3 573935899946338816|TIC 461599220|2MA...</td>\n",
       "      <td>573935899946338816</td>\n",
       "      <td>573935899946338816</td>\n",
       "      <td>461599220</td>\n",
       "    </tr>\n",
       "    <tr>\n",
       "      <th>3</th>\n",
       "      <td>NGC 188 1152</td>\n",
       "      <td>303904</td>\n",
       "      <td>2004PASP..116.1012S</td>\n",
       "      <td>11.164145</td>\n",
       "      <td>85.24285</td>\n",
       "      <td>2020yCat.1350....0G</td>\n",
       "      <td>0.6603</td>\n",
       "      <td>0.0853</td>\n",
       "      <td>2020yCat.1350....0G</td>\n",
       "      <td>-2.111</td>\n",
       "      <td>-1.057</td>\n",
       "      <td>3.0</td>\n",
       "      <td>2020yCat.1350....0G</td>\n",
       "      <td>NaN</td>\n",
       "      <td>NaN</td>\n",
       "      <td></td>\n",
       "      <td>Gaia EDR3 573941942962994176|TIC 461601256|2MA...</td>\n",
       "      <td>573941942962994176</td>\n",
       "      <td>573941942962994176</td>\n",
       "      <td>461601256</td>\n",
       "    </tr>\n",
       "    <tr>\n",
       "      <th>4</th>\n",
       "      <td>NGC 188 3129</td>\n",
       "      <td>303875</td>\n",
       "      <td>2004PASP..116.1012S</td>\n",
       "      <td>11.151445</td>\n",
       "      <td>85.35277</td>\n",
       "      <td>2020yCat.1350....0G</td>\n",
       "      <td>0.5443</td>\n",
       "      <td>0.0169</td>\n",
       "      <td>2020yCat.1350....0G</td>\n",
       "      <td>-2.387</td>\n",
       "      <td>-0.98</td>\n",
       "      <td>3.0</td>\n",
       "      <td>2020yCat.1350....0G</td>\n",
       "      <td>-42.69</td>\n",
       "      <td>NaN</td>\n",
       "      <td>2008AJ....135.2264G</td>\n",
       "      <td>Gaia EDR3 573944215002950144|TIC 461601456|2MA...</td>\n",
       "      <td>573944215002950144</td>\n",
       "      <td>573944215002950144</td>\n",
       "      <td>461601456</td>\n",
       "    </tr>\n",
       "  </tbody>\n",
       "</table>\n",
       "</div>"
      ],
      "text/plain": [
       "                 obj_id     oid         link_bibcode         ra        dec  \\\n",
       "0          NGC 188 1054  303084  2004PASP..116.1012S   11.19125  85.256734   \n",
       "1  Cl* NGC 188 DGV 1869  303589  2004PASP..116.1012S   9.743203  85.559916   \n",
       "2          NGC 188 2014  303857  2004PASP..116.1012S  10.977598  85.205113   \n",
       "3          NGC 188 1152  303904  2004PASP..116.1012S  11.164145   85.24285   \n",
       "4          NGC 188 3129  303875  2004PASP..116.1012S  11.151445   85.35277   \n",
       "\n",
       "           coo_bibcode parallax parallax_err     parallax_bibcode   pmra  \\\n",
       "0  2020yCat.1350....0G   0.5409       0.0189  2020yCat.1350....0G -2.178   \n",
       "1  2020yCat.1350....0G   0.5191       0.0232  2020yCat.1350....0G  -2.25   \n",
       "2  2020yCat.1350....0G   0.4785       0.0404  2020yCat.1350....0G -2.368   \n",
       "3  2020yCat.1350....0G   0.6603       0.0853  2020yCat.1350....0G -2.111   \n",
       "4  2020yCat.1350....0G   0.5443       0.0169  2020yCat.1350....0G -2.387   \n",
       "\n",
       "   pmdec pm_err           pm_bibcode radvel radvel_err          rvz_bibcode  \\\n",
       "0 -1.099    3.0  2020yCat.1350....0G -42.18        NaN  2008AJ....135.2264G   \n",
       "1  -1.11    3.0  2020yCat.1350....0G -42.74        NaN  2008AJ....135.2264G   \n",
       "2 -1.021    3.0  2020yCat.1350....0G    NaN        NaN                        \n",
       "3 -1.057    3.0  2020yCat.1350....0G    NaN        NaN                        \n",
       "4  -0.98    3.0  2020yCat.1350....0G -42.69        NaN  2008AJ....135.2264G   \n",
       "\n",
       "                                                 ids             EDR3 id  \\\n",
       "0  Gaia EDR3 573942325217383424|TIC 461601298|2MA...  573942325217383424   \n",
       "1  Gaia EDR3 573982010715088256|TIC 461597588|2MA...  573982010715088256   \n",
       "2  Gaia EDR3 573935899946338816|TIC 461599220|2MA...  573935899946338816   \n",
       "3  Gaia EDR3 573941942962994176|TIC 461601256|2MA...  573941942962994176   \n",
       "4  Gaia EDR3 573944215002950144|TIC 461601456|2MA...  573944215002950144   \n",
       "\n",
       "               DR2 id        TIC  \n",
       "0  573942325217383424  461601298  \n",
       "1  573982010715088256  461597588  \n",
       "2  573935899946338816  461599220  \n",
       "3  573941942962994176  461601256  \n",
       "4  573944215002950144  461601456  "
      ]
     },
     "execution_count": 49,
     "metadata": {},
     "output_type": "execute_result"
    }
   ],
   "source": [
    "children = children.dropna(subset=['EDR3 id'])\n",
    "children.head()"
   ]
  },
  {
   "cell_type": "code",
   "execution_count": 50,
   "id": "192a1141",
   "metadata": {
    "ExecuteTime": {
     "end_time": "2022-07-12T12:18:57.454469Z",
     "start_time": "2022-07-12T12:18:57.449848Z"
    }
   },
   "outputs": [],
   "source": [
    "GAIA_EDR3_BIBCODE: str = '2020yCat.1350....0G'"
   ]
  },
  {
   "cell_type": "code",
   "execution_count": 51,
   "id": "a21d1344",
   "metadata": {
    "ExecuteTime": {
     "end_time": "2022-07-12T12:18:57.603954Z",
     "start_time": "2022-07-12T12:18:57.583311Z"
    }
   },
   "outputs": [
    {
     "data": {
      "text/plain": [
       "5223"
      ]
     },
     "execution_count": 51,
     "metadata": {},
     "output_type": "execute_result"
    }
   ],
   "source": [
    "children = children[children.coo_bibcode==GAIA_EDR3_BIBCODE]\n",
    "len(children)"
   ]
  },
  {
   "cell_type": "code",
   "execution_count": 52,
   "id": "2c50edf5",
   "metadata": {
    "ExecuteTime": {
     "end_time": "2022-07-12T12:18:57.862884Z",
     "start_time": "2022-07-12T12:18:57.857119Z"
    },
    "scrolled": true
   },
   "outputs": [
    {
     "data": {
      "text/plain": [
       "5223"
      ]
     },
     "execution_count": 52,
     "metadata": {},
     "output_type": "execute_result"
    }
   ],
   "source": [
    "len(children)"
   ]
  },
  {
   "cell_type": "code",
   "execution_count": 53,
   "id": "a0188e02",
   "metadata": {
    "ExecuteTime": {
     "end_time": "2022-07-12T12:18:58.539956Z",
     "start_time": "2022-07-12T12:18:58.523384Z"
    },
    "scrolled": true
   },
   "outputs": [
    {
     "data": {
      "text/plain": [
       "1613"
      ]
     },
     "execution_count": 53,
     "metadata": {},
     "output_type": "execute_result"
    }
   ],
   "source": [
    "unique_children = children.drop_duplicates(subset=['ra', 'dec'])\n",
    "len(unique_children)"
   ]
  },
  {
   "cell_type": "code",
   "execution_count": 54,
   "id": "ae68c1f3",
   "metadata": {
    "ExecuteTime": {
     "end_time": "2022-07-12T12:18:59.558401Z",
     "start_time": "2022-07-12T12:18:59.529357Z"
    }
   },
   "outputs": [
    {
     "data": {
      "text/html": [
       "<div>\n",
       "<style scoped>\n",
       "    .dataframe tbody tr th:only-of-type {\n",
       "        vertical-align: middle;\n",
       "    }\n",
       "\n",
       "    .dataframe tbody tr th {\n",
       "        vertical-align: top;\n",
       "    }\n",
       "\n",
       "    .dataframe thead th {\n",
       "        text-align: right;\n",
       "    }\n",
       "</style>\n",
       "<table border=\"1\" class=\"dataframe\">\n",
       "  <thead>\n",
       "    <tr style=\"text-align: right;\">\n",
       "      <th></th>\n",
       "      <th>obj_id</th>\n",
       "      <th>oid</th>\n",
       "      <th>link_bibcode</th>\n",
       "      <th>ra</th>\n",
       "      <th>dec</th>\n",
       "      <th>coo_bibcode</th>\n",
       "      <th>parallax</th>\n",
       "      <th>parallax_err</th>\n",
       "      <th>parallax_bibcode</th>\n",
       "      <th>pmra</th>\n",
       "      <th>pmdec</th>\n",
       "      <th>pm_err</th>\n",
       "      <th>pm_bibcode</th>\n",
       "      <th>radvel</th>\n",
       "      <th>radvel_err</th>\n",
       "      <th>rvz_bibcode</th>\n",
       "      <th>ids</th>\n",
       "      <th>EDR3 id</th>\n",
       "      <th>DR2 id</th>\n",
       "      <th>TIC</th>\n",
       "    </tr>\n",
       "  </thead>\n",
       "  <tbody>\n",
       "    <tr>\n",
       "      <th>0</th>\n",
       "      <td>NGC 188 1054</td>\n",
       "      <td>303084</td>\n",
       "      <td>2004PASP..116.1012S</td>\n",
       "      <td>11.19125</td>\n",
       "      <td>85.256734</td>\n",
       "      <td>2020yCat.1350....0G</td>\n",
       "      <td>0.5409</td>\n",
       "      <td>0.0189</td>\n",
       "      <td>2020yCat.1350....0G</td>\n",
       "      <td>-2.178</td>\n",
       "      <td>-1.099</td>\n",
       "      <td>3.0</td>\n",
       "      <td>2020yCat.1350....0G</td>\n",
       "      <td>-42.18</td>\n",
       "      <td>NaN</td>\n",
       "      <td>2008AJ....135.2264G</td>\n",
       "      <td>Gaia EDR3 573942325217383424|TIC 461601298|2MA...</td>\n",
       "      <td>573942325217383424</td>\n",
       "      <td>573942325217383424</td>\n",
       "      <td>461601298</td>\n",
       "    </tr>\n",
       "    <tr>\n",
       "      <th>1</th>\n",
       "      <td>Cl* NGC 188 DGV 1869</td>\n",
       "      <td>303589</td>\n",
       "      <td>2004PASP..116.1012S</td>\n",
       "      <td>9.743203</td>\n",
       "      <td>85.559916</td>\n",
       "      <td>2020yCat.1350....0G</td>\n",
       "      <td>0.5191</td>\n",
       "      <td>0.0232</td>\n",
       "      <td>2020yCat.1350....0G</td>\n",
       "      <td>-2.25</td>\n",
       "      <td>-1.11</td>\n",
       "      <td>3.0</td>\n",
       "      <td>2020yCat.1350....0G</td>\n",
       "      <td>-42.74</td>\n",
       "      <td>NaN</td>\n",
       "      <td>2008AJ....135.2264G</td>\n",
       "      <td>Gaia EDR3 573982010715088256|TIC 461597588|2MA...</td>\n",
       "      <td>573982010715088256</td>\n",
       "      <td>573982010715088256</td>\n",
       "      <td>461597588</td>\n",
       "    </tr>\n",
       "    <tr>\n",
       "      <th>2</th>\n",
       "      <td>NGC 188 2014</td>\n",
       "      <td>303857</td>\n",
       "      <td>2004PASP..116.1012S</td>\n",
       "      <td>10.977598</td>\n",
       "      <td>85.205113</td>\n",
       "      <td>2020yCat.1350....0G</td>\n",
       "      <td>0.4785</td>\n",
       "      <td>0.0404</td>\n",
       "      <td>2020yCat.1350....0G</td>\n",
       "      <td>-2.368</td>\n",
       "      <td>-1.021</td>\n",
       "      <td>3.0</td>\n",
       "      <td>2020yCat.1350....0G</td>\n",
       "      <td>NaN</td>\n",
       "      <td>NaN</td>\n",
       "      <td></td>\n",
       "      <td>Gaia EDR3 573935899946338816|TIC 461599220|2MA...</td>\n",
       "      <td>573935899946338816</td>\n",
       "      <td>573935899946338816</td>\n",
       "      <td>461599220</td>\n",
       "    </tr>\n",
       "    <tr>\n",
       "      <th>3</th>\n",
       "      <td>NGC 188 1152</td>\n",
       "      <td>303904</td>\n",
       "      <td>2004PASP..116.1012S</td>\n",
       "      <td>11.164145</td>\n",
       "      <td>85.24285</td>\n",
       "      <td>2020yCat.1350....0G</td>\n",
       "      <td>0.6603</td>\n",
       "      <td>0.0853</td>\n",
       "      <td>2020yCat.1350....0G</td>\n",
       "      <td>-2.111</td>\n",
       "      <td>-1.057</td>\n",
       "      <td>3.0</td>\n",
       "      <td>2020yCat.1350....0G</td>\n",
       "      <td>NaN</td>\n",
       "      <td>NaN</td>\n",
       "      <td></td>\n",
       "      <td>Gaia EDR3 573941942962994176|TIC 461601256|2MA...</td>\n",
       "      <td>573941942962994176</td>\n",
       "      <td>573941942962994176</td>\n",
       "      <td>461601256</td>\n",
       "    </tr>\n",
       "    <tr>\n",
       "      <th>4</th>\n",
       "      <td>NGC 188 3129</td>\n",
       "      <td>303875</td>\n",
       "      <td>2004PASP..116.1012S</td>\n",
       "      <td>11.151445</td>\n",
       "      <td>85.35277</td>\n",
       "      <td>2020yCat.1350....0G</td>\n",
       "      <td>0.5443</td>\n",
       "      <td>0.0169</td>\n",
       "      <td>2020yCat.1350....0G</td>\n",
       "      <td>-2.387</td>\n",
       "      <td>-0.98</td>\n",
       "      <td>3.0</td>\n",
       "      <td>2020yCat.1350....0G</td>\n",
       "      <td>-42.69</td>\n",
       "      <td>NaN</td>\n",
       "      <td>2008AJ....135.2264G</td>\n",
       "      <td>Gaia EDR3 573944215002950144|TIC 461601456|2MA...</td>\n",
       "      <td>573944215002950144</td>\n",
       "      <td>573944215002950144</td>\n",
       "      <td>461601456</td>\n",
       "    </tr>\n",
       "  </tbody>\n",
       "</table>\n",
       "</div>"
      ],
      "text/plain": [
       "                 obj_id     oid         link_bibcode         ra        dec  \\\n",
       "0          NGC 188 1054  303084  2004PASP..116.1012S   11.19125  85.256734   \n",
       "1  Cl* NGC 188 DGV 1869  303589  2004PASP..116.1012S   9.743203  85.559916   \n",
       "2          NGC 188 2014  303857  2004PASP..116.1012S  10.977598  85.205113   \n",
       "3          NGC 188 1152  303904  2004PASP..116.1012S  11.164145   85.24285   \n",
       "4          NGC 188 3129  303875  2004PASP..116.1012S  11.151445   85.35277   \n",
       "\n",
       "           coo_bibcode parallax parallax_err     parallax_bibcode   pmra  \\\n",
       "0  2020yCat.1350....0G   0.5409       0.0189  2020yCat.1350....0G -2.178   \n",
       "1  2020yCat.1350....0G   0.5191       0.0232  2020yCat.1350....0G  -2.25   \n",
       "2  2020yCat.1350....0G   0.4785       0.0404  2020yCat.1350....0G -2.368   \n",
       "3  2020yCat.1350....0G   0.6603       0.0853  2020yCat.1350....0G -2.111   \n",
       "4  2020yCat.1350....0G   0.5443       0.0169  2020yCat.1350....0G -2.387   \n",
       "\n",
       "   pmdec pm_err           pm_bibcode radvel radvel_err          rvz_bibcode  \\\n",
       "0 -1.099    3.0  2020yCat.1350....0G -42.18        NaN  2008AJ....135.2264G   \n",
       "1  -1.11    3.0  2020yCat.1350....0G -42.74        NaN  2008AJ....135.2264G   \n",
       "2 -1.021    3.0  2020yCat.1350....0G    NaN        NaN                        \n",
       "3 -1.057    3.0  2020yCat.1350....0G    NaN        NaN                        \n",
       "4  -0.98    3.0  2020yCat.1350....0G -42.69        NaN  2008AJ....135.2264G   \n",
       "\n",
       "                                                 ids             EDR3 id  \\\n",
       "0  Gaia EDR3 573942325217383424|TIC 461601298|2MA...  573942325217383424   \n",
       "1  Gaia EDR3 573982010715088256|TIC 461597588|2MA...  573982010715088256   \n",
       "2  Gaia EDR3 573935899946338816|TIC 461599220|2MA...  573935899946338816   \n",
       "3  Gaia EDR3 573941942962994176|TIC 461601256|2MA...  573941942962994176   \n",
       "4  Gaia EDR3 573944215002950144|TIC 461601456|2MA...  573944215002950144   \n",
       "\n",
       "               DR2 id        TIC  \n",
       "0  573942325217383424  461601298  \n",
       "1  573982010715088256  461597588  \n",
       "2  573935899946338816  461599220  \n",
       "3  573941942962994176  461601256  \n",
       "4  573944215002950144  461601456  "
      ]
     },
     "execution_count": 54,
     "metadata": {},
     "output_type": "execute_result"
    }
   ],
   "source": [
    "children.head()"
   ]
  },
  {
   "cell_type": "code",
   "execution_count": 55,
   "id": "282356a3",
   "metadata": {
    "ExecuteTime": {
     "end_time": "2022-07-12T12:19:00.076638Z",
     "start_time": "2022-07-12T12:19:00.065628Z"
    }
   },
   "outputs": [],
   "source": [
    "def count_reportings(edr3_id):\n",
    "    return len(children[children['EDR3 id'].astype(int)==edr3_id])"
   ]
  },
  {
   "cell_type": "code",
   "execution_count": 56,
   "id": "3207e01a",
   "metadata": {
    "ExecuteTime": {
     "end_time": "2022-07-12T12:19:04.041527Z",
     "start_time": "2022-07-12T12:19:00.957619Z"
    }
   },
   "outputs": [
    {
     "name": "stderr",
     "output_type": "stream",
     "text": [
      "/tmp/ipykernel_62051/3621798520.py:1: SettingWithCopyWarning: \n",
      "A value is trying to be set on a copy of a slice from a DataFrame.\n",
      "Try using .loc[row_indexer,col_indexer] = value instead\n",
      "\n",
      "See the caveats in the documentation: https://pandas.pydata.org/pandas-docs/stable/user_guide/indexing.html#returning-a-view-versus-a-copy\n",
      "  unique_children['reported'] = np.vectorize(count_reportings)(unique_children['EDR3 id'].values.astype(int))\n"
     ]
    }
   ],
   "source": [
    "unique_children['reported'] = np.vectorize(count_reportings)(unique_children['EDR3 id'].values.astype(int))"
   ]
  },
  {
   "cell_type": "code",
   "execution_count": 57,
   "id": "08a69159",
   "metadata": {
    "ExecuteTime": {
     "end_time": "2022-07-12T12:19:04.216099Z",
     "start_time": "2022-07-12T12:19:04.163818Z"
    }
   },
   "outputs": [
    {
     "data": {
      "text/html": [
       "<div>\n",
       "<style scoped>\n",
       "    .dataframe tbody tr th:only-of-type {\n",
       "        vertical-align: middle;\n",
       "    }\n",
       "\n",
       "    .dataframe tbody tr th {\n",
       "        vertical-align: top;\n",
       "    }\n",
       "\n",
       "    .dataframe thead th {\n",
       "        text-align: right;\n",
       "    }\n",
       "</style>\n",
       "<table border=\"1\" class=\"dataframe\">\n",
       "  <thead>\n",
       "    <tr style=\"text-align: right;\">\n",
       "      <th></th>\n",
       "      <th>obj_id</th>\n",
       "      <th>oid</th>\n",
       "      <th>link_bibcode</th>\n",
       "      <th>ra</th>\n",
       "      <th>dec</th>\n",
       "      <th>coo_bibcode</th>\n",
       "      <th>parallax</th>\n",
       "      <th>parallax_err</th>\n",
       "      <th>parallax_bibcode</th>\n",
       "      <th>pmra</th>\n",
       "      <th>...</th>\n",
       "      <th>pm_err</th>\n",
       "      <th>pm_bibcode</th>\n",
       "      <th>radvel</th>\n",
       "      <th>radvel_err</th>\n",
       "      <th>rvz_bibcode</th>\n",
       "      <th>ids</th>\n",
       "      <th>EDR3 id</th>\n",
       "      <th>DR2 id</th>\n",
       "      <th>TIC</th>\n",
       "      <th>reported</th>\n",
       "    </tr>\n",
       "  </thead>\n",
       "  <tbody>\n",
       "    <tr>\n",
       "      <th>0</th>\n",
       "      <td>NGC 188 1054</td>\n",
       "      <td>303084</td>\n",
       "      <td>2004PASP..116.1012S</td>\n",
       "      <td>11.19125</td>\n",
       "      <td>85.256734</td>\n",
       "      <td>2020yCat.1350....0G</td>\n",
       "      <td>0.5409</td>\n",
       "      <td>0.0189</td>\n",
       "      <td>2020yCat.1350....0G</td>\n",
       "      <td>-2.178</td>\n",
       "      <td>...</td>\n",
       "      <td>3.0</td>\n",
       "      <td>2020yCat.1350....0G</td>\n",
       "      <td>-42.18</td>\n",
       "      <td>NaN</td>\n",
       "      <td>2008AJ....135.2264G</td>\n",
       "      <td>Gaia EDR3 573942325217383424|TIC 461601298|2MA...</td>\n",
       "      <td>573942325217383424</td>\n",
       "      <td>573942325217383424</td>\n",
       "      <td>461601298</td>\n",
       "      <td>8</td>\n",
       "    </tr>\n",
       "    <tr>\n",
       "      <th>1</th>\n",
       "      <td>Cl* NGC 188 DGV 1869</td>\n",
       "      <td>303589</td>\n",
       "      <td>2004PASP..116.1012S</td>\n",
       "      <td>9.743203</td>\n",
       "      <td>85.559916</td>\n",
       "      <td>2020yCat.1350....0G</td>\n",
       "      <td>0.5191</td>\n",
       "      <td>0.0232</td>\n",
       "      <td>2020yCat.1350....0G</td>\n",
       "      <td>-2.25</td>\n",
       "      <td>...</td>\n",
       "      <td>3.0</td>\n",
       "      <td>2020yCat.1350....0G</td>\n",
       "      <td>-42.74</td>\n",
       "      <td>NaN</td>\n",
       "      <td>2008AJ....135.2264G</td>\n",
       "      <td>Gaia EDR3 573982010715088256|TIC 461597588|2MA...</td>\n",
       "      <td>573982010715088256</td>\n",
       "      <td>573982010715088256</td>\n",
       "      <td>461597588</td>\n",
       "      <td>8</td>\n",
       "    </tr>\n",
       "    <tr>\n",
       "      <th>2</th>\n",
       "      <td>NGC 188 2014</td>\n",
       "      <td>303857</td>\n",
       "      <td>2004PASP..116.1012S</td>\n",
       "      <td>10.977598</td>\n",
       "      <td>85.205113</td>\n",
       "      <td>2020yCat.1350....0G</td>\n",
       "      <td>0.4785</td>\n",
       "      <td>0.0404</td>\n",
       "      <td>2020yCat.1350....0G</td>\n",
       "      <td>-2.368</td>\n",
       "      <td>...</td>\n",
       "      <td>3.0</td>\n",
       "      <td>2020yCat.1350....0G</td>\n",
       "      <td>NaN</td>\n",
       "      <td>NaN</td>\n",
       "      <td></td>\n",
       "      <td>Gaia EDR3 573935899946338816|TIC 461599220|2MA...</td>\n",
       "      <td>573935899946338816</td>\n",
       "      <td>573935899946338816</td>\n",
       "      <td>461599220</td>\n",
       "      <td>6</td>\n",
       "    </tr>\n",
       "    <tr>\n",
       "      <th>3</th>\n",
       "      <td>NGC 188 1152</td>\n",
       "      <td>303904</td>\n",
       "      <td>2004PASP..116.1012S</td>\n",
       "      <td>11.164145</td>\n",
       "      <td>85.24285</td>\n",
       "      <td>2020yCat.1350....0G</td>\n",
       "      <td>0.6603</td>\n",
       "      <td>0.0853</td>\n",
       "      <td>2020yCat.1350....0G</td>\n",
       "      <td>-2.111</td>\n",
       "      <td>...</td>\n",
       "      <td>3.0</td>\n",
       "      <td>2020yCat.1350....0G</td>\n",
       "      <td>NaN</td>\n",
       "      <td>NaN</td>\n",
       "      <td></td>\n",
       "      <td>Gaia EDR3 573941942962994176|TIC 461601256|2MA...</td>\n",
       "      <td>573941942962994176</td>\n",
       "      <td>573941942962994176</td>\n",
       "      <td>461601256</td>\n",
       "      <td>3</td>\n",
       "    </tr>\n",
       "    <tr>\n",
       "      <th>4</th>\n",
       "      <td>NGC 188 3129</td>\n",
       "      <td>303875</td>\n",
       "      <td>2004PASP..116.1012S</td>\n",
       "      <td>11.151445</td>\n",
       "      <td>85.35277</td>\n",
       "      <td>2020yCat.1350....0G</td>\n",
       "      <td>0.5443</td>\n",
       "      <td>0.0169</td>\n",
       "      <td>2020yCat.1350....0G</td>\n",
       "      <td>-2.387</td>\n",
       "      <td>...</td>\n",
       "      <td>3.0</td>\n",
       "      <td>2020yCat.1350....0G</td>\n",
       "      <td>-42.69</td>\n",
       "      <td>NaN</td>\n",
       "      <td>2008AJ....135.2264G</td>\n",
       "      <td>Gaia EDR3 573944215002950144|TIC 461601456|2MA...</td>\n",
       "      <td>573944215002950144</td>\n",
       "      <td>573944215002950144</td>\n",
       "      <td>461601456</td>\n",
       "      <td>8</td>\n",
       "    </tr>\n",
       "  </tbody>\n",
       "</table>\n",
       "<p>5 rows × 21 columns</p>\n",
       "</div>"
      ],
      "text/plain": [
       "                 obj_id     oid         link_bibcode         ra        dec  \\\n",
       "0          NGC 188 1054  303084  2004PASP..116.1012S   11.19125  85.256734   \n",
       "1  Cl* NGC 188 DGV 1869  303589  2004PASP..116.1012S   9.743203  85.559916   \n",
       "2          NGC 188 2014  303857  2004PASP..116.1012S  10.977598  85.205113   \n",
       "3          NGC 188 1152  303904  2004PASP..116.1012S  11.164145   85.24285   \n",
       "4          NGC 188 3129  303875  2004PASP..116.1012S  11.151445   85.35277   \n",
       "\n",
       "           coo_bibcode parallax parallax_err     parallax_bibcode   pmra  ...  \\\n",
       "0  2020yCat.1350....0G   0.5409       0.0189  2020yCat.1350....0G -2.178  ...   \n",
       "1  2020yCat.1350....0G   0.5191       0.0232  2020yCat.1350....0G  -2.25  ...   \n",
       "2  2020yCat.1350....0G   0.4785       0.0404  2020yCat.1350....0G -2.368  ...   \n",
       "3  2020yCat.1350....0G   0.6603       0.0853  2020yCat.1350....0G -2.111  ...   \n",
       "4  2020yCat.1350....0G   0.5443       0.0169  2020yCat.1350....0G -2.387  ...   \n",
       "\n",
       "  pm_err           pm_bibcode radvel radvel_err          rvz_bibcode  \\\n",
       "0    3.0  2020yCat.1350....0G -42.18        NaN  2008AJ....135.2264G   \n",
       "1    3.0  2020yCat.1350....0G -42.74        NaN  2008AJ....135.2264G   \n",
       "2    3.0  2020yCat.1350....0G    NaN        NaN                        \n",
       "3    3.0  2020yCat.1350....0G    NaN        NaN                        \n",
       "4    3.0  2020yCat.1350....0G -42.69        NaN  2008AJ....135.2264G   \n",
       "\n",
       "                                                 ids             EDR3 id  \\\n",
       "0  Gaia EDR3 573942325217383424|TIC 461601298|2MA...  573942325217383424   \n",
       "1  Gaia EDR3 573982010715088256|TIC 461597588|2MA...  573982010715088256   \n",
       "2  Gaia EDR3 573935899946338816|TIC 461599220|2MA...  573935899946338816   \n",
       "3  Gaia EDR3 573941942962994176|TIC 461601256|2MA...  573941942962994176   \n",
       "4  Gaia EDR3 573944215002950144|TIC 461601456|2MA...  573944215002950144   \n",
       "\n",
       "               DR2 id        TIC reported  \n",
       "0  573942325217383424  461601298        8  \n",
       "1  573982010715088256  461597588        8  \n",
       "2  573935899946338816  461599220        6  \n",
       "3  573941942962994176  461601256        3  \n",
       "4  573944215002950144  461601456        8  \n",
       "\n",
       "[5 rows x 21 columns]"
      ]
     },
     "execution_count": 57,
     "metadata": {},
     "output_type": "execute_result"
    }
   ],
   "source": [
    "unique_children.head()"
   ]
  },
  {
   "cell_type": "code",
   "execution_count": 43,
   "id": "70214940",
   "metadata": {
    "ExecuteTime": {
     "end_time": "2022-07-12T11:43:34.010240Z",
     "start_time": "2022-07-12T11:43:33.938381Z"
    },
    "deletable": false,
    "editable": false,
    "run_control": {
     "frozen": true
    }
   },
   "outputs": [],
   "source": [
    "unique_children.to_csv('./data/ngc_188/literature.csv')"
   ]
  },
  {
   "cell_type": "code",
   "execution_count": 58,
   "id": "36f4b120",
   "metadata": {
    "ExecuteTime": {
     "end_time": "2022-07-12T12:19:06.910031Z",
     "start_time": "2022-07-12T12:19:06.896851Z"
    }
   },
   "outputs": [],
   "source": [
    "def title_and_authors(bibcode: str) -> str:\n",
    "    URL = f'https://ui.adsabs.harvard.edu/abs/{bibcode}/abstract'\n",
    "    website = requests.get(URL)\n",
    "    results = BeautifulSoup(website.content, 'html.parser')\n",
    "    title = ' '.join(results.find('h2', class_='s-abstract-title').text.split())\n",
    "    authors = [author.text.strip() for author in results.find_all('li', class_='author')]\n",
    "    return f'{\",\".join(authors)}:\\n {title}'"
   ]
  },
  {
   "cell_type": "code",
   "execution_count": 59,
   "id": "4a19ebdf",
   "metadata": {
    "ExecuteTime": {
     "end_time": "2022-07-12T12:19:07.308867Z",
     "start_time": "2022-07-12T12:19:07.285549Z"
    }
   },
   "outputs": [
    {
     "data": {
      "text/plain": [
       "2020yCat.1350....0G    5223\n",
       "Name: coo_bibcode, dtype: int64"
      ]
     },
     "execution_count": 59,
     "metadata": {},
     "output_type": "execute_result"
    }
   ],
   "source": [
    "children.coo_bibcode.value_counts()"
   ]
  },
  {
   "cell_type": "code",
   "execution_count": 60,
   "id": "b897e439",
   "metadata": {
    "ExecuteTime": {
     "end_time": "2022-07-12T12:19:07.624853Z",
     "start_time": "2022-07-12T12:19:07.609834Z"
    }
   },
   "outputs": [
    {
     "data": {
      "text/plain": [
       "2020yCat.1350....0G    5223\n",
       "Name: pm_bibcode, dtype: int64"
      ]
     },
     "execution_count": 60,
     "metadata": {},
     "output_type": "execute_result"
    }
   ],
   "source": [
    "children.pm_bibcode.value_counts()"
   ]
  },
  {
   "cell_type": "code",
   "execution_count": 61,
   "id": "5b5fccdd",
   "metadata": {
    "ExecuteTime": {
     "end_time": "2022-07-12T12:19:10.040079Z",
     "start_time": "2022-07-12T12:19:08.215851Z"
    }
   },
   "outputs": [
    {
     "name": "stdout",
     "output_type": "stream",
     "text": [
      "[2020yCat.1350....0G]\n",
      " Gaia Collaboration:\n",
      " VizieR Online Data Catalog: Gaia EDR3 (Gaia Collaboration, 2020)\n",
      "\n"
     ]
    }
   ],
   "source": [
    "for bibcode in children.coo_bibcode.unique():\n",
    "    print(f'[{bibcode}]\\n {title_and_authors(bibcode)}\\n')"
   ]
  },
  {
   "cell_type": "code",
   "execution_count": 62,
   "id": "5114d69e",
   "metadata": {
    "ExecuteTime": {
     "end_time": "2022-07-12T12:19:42.478130Z",
     "start_time": "2022-07-12T12:19:11.350644Z"
    },
    "scrolled": false
   },
   "outputs": [
    {
     "name": "stdout",
     "output_type": "stream",
     "text": [
      "[2004PASP..116.1012S]\n",
      " Stetson, Peter B.,McClure, Robert D.,VandenBerg, Don A.:\n",
      " A Star Catalog for the Open Cluster NGC 188\n",
      "\n",
      "[2020A&A...640A...1C]\n",
      " Cantat-Gaudin, T.,Anders, F.,Castro-Ginard, A.,Jordi, C.,Romero-GÃ³mez, M.,Soubiran, C.,Casamiquela, L.,Tarricq, Y.,Moitinho, A.,Vallenari, A.,Bragaglia, A.,Krone-Martins, A.,Kounkel, M.:\n",
      " Painting a portrait of the Galactic disc with its stellar clusters\n",
      "\n",
      "[2003AJ....126.2922P]\n",
      " Platais, Imants,Kozhurina-Platais, Vera,Mathieu, Robert D.,Girard, Terrence M.,van Altena, William F.:\n",
      " WIYN Open Cluster Study. XVII. Astrometry and Membership to V=21 in NGC 188\n",
      "\n",
      "[2001A&A...373..159C]\n",
      " Cayrel de Strobel, G.,Soubiran, C.,Ralite, N.:\n",
      " Catalogue of [Fe/H] determinations for FGK stars: 2001 edition\n",
      "\n",
      "[2008AJ....135.2264G]\n",
      " Geller, Aaron M.,Mathieu, Robert D.,Harris, Hugh C.,McClure, Robert D.:\n",
      " WIYN Open Cluster Study. XXXII. Stellar Radial Velocities in the Old Open Cluster NGC 188\n",
      "\n",
      "[2011AJ....142...59J]\n",
      " Jacobson, Heather R.,Pilachowski, Catherine A.,Friel, Eileen D.:\n",
      " A Chemical Abundance Study of 10 Open Clusters Based on WIYN-Hydra Spectroscopy\n",
      "\n",
      "[2013AJ....145..107J]\n",
      " Jacobson, Heather R.,Friel, Eileen D.:\n",
      " Zirconium, Barium, Lanthanum, and Europium Abundances in Open Clusters\n",
      "\n",
      "[2013AJ....146..133M]\n",
      " MÃ©szÃ¡ros, Sz.,Holtzman, J.,GarcÃ­a PÃ©rez, A. E.,Allende Prieto, C.,Schiavon, R. P.,Basu, S.,Bizyaev, D.,Chaplin, W. J.,Chojnowski, S. D.,Cunha, K.,Elsworth, Y.,Epstein, C.,Frinchaboy, P. M.,GarcÃ­a, R. A.,Hearty, F. R.,Hekker, S.,Johnson, J. A.,Kallinger, T.,Koesterke, L.,Majewski, S. R.,Martell, S. L.,Nidever, D.,Pinsonneault, M. H.,O'Connell, J.,Shetrone, M.,Smith, V. V.,Wilson, J. C.,Zasowski, G.:\n",
      " Calibrations of Atmospheric Parameters Obtained from the First Year of SDSS-III APOGEE Observations\n",
      "\n",
      "[2014MNRAS.444.1982A]\n",
      " Avvakumova, E. A.,Malkov, O. Yu.:\n",
      " Assessment of evolutionary status of eclipsing binaries using light-curve parameters and spectral classification\n",
      "\n",
      "[2016A&A...594A..43H]\n",
      " Hawkins, K.,Masseron, T.,JofrÃ©, P.,Gilmore, G.,Elsworth, Y.,Hekker, S.:\n",
      " An accurate and self-consistent chemical abundance catalogue for the APOGEE/Kepler sample\n",
      "\n",
      "[2018A&A...618A..93C]\n",
      " Cantat-Gaudin, T.,Jordi, C.,Vallenari, A.,Bragaglia, A.,Balaguer-NÃºÃ±ez, L.,Soubiran, C.,Bossini, D.,Moitinho, A.,Castro-Ginard, A.,Krone-Martins, A.,Casamiquela, L.,Sordo, R.,Carrera, R.:\n",
      " A Gaia DR2 view of the open cluster population in the Milky Way\n",
      "\n",
      "[2018AJ....156..142D]\n",
      " Donor, John,Frinchaboy, Peter M.,Cunha, Katia,Thompson, Benjamin,O'Connell, Julia,Zasowski, Gail,Jackson, Kelly M.,Meyer McGrath, Brianne,Almeida, AndrÃ©s,Bizyaev, Dmitry,Carrera, Ricardo,GarcÃ­a-HernÃ¡ndez, D. A.,Nitschelm, Christian,Pan, Kaike,Zamora, Olga:\n",
      " The Open Cluster Chemical Abundances and Mapping Survey. II. Precision Cluster Abundances for APOGEE Using SDSS DR14\n",
      "\n",
      "[2018A&A...616A..10G]\n",
      " Gaia Collaboration,Babusiaux, C.,van Leeuwen, F.,Barstow, M. A.,Jordi, C.,Vallenari, A.,Bossini, D.,Bressan, A.,Cantat-Gaudin, T.,van Leeuwen, M.,Brown, A. G. A.,Prusti, T.,de Bruijne, J. H. J.,Bailer-Jones, C. A. L.,Biermann, M.,Evans, D. W.,Eyer, L.,Jansen, F.,Klioner, S. A.,Lammers, U.,Lindegren, L.,Luri, X.,Mignard, F.,Panem, C.,Pourbaix, D.,Randich, S.,Sartoretti, P.,Siddiqui, H. I.,Soubiran, C.,Walton, N. A.,Arenou, F.,Bastian, U.,Cropper, M.,Drimmel, R.,Katz, D.,Lattanzi, M. G.,Bakker, J.,Cacciari, C.,Castañeda, J.,Chaoul, L.,Cheek, N.,De Angeli, F.,Fabricius, C.,Guerra, R.,Holl, B.,Masana, E.,Messineo, R.,Mowlavi, N.,Nienartowicz, K.,Panuzzo, P.:\n",
      " Gaia Data Release 2. Observational Hertzsprung-Russell diagrams\n",
      "\n",
      "[2019A&A...624A...8A]\n",
      " Angelo, M. S.,Santos, J. F. C.,Corradi, W. J. B.,Maia, F. F. S.:\n",
      " Investigating dynamical properties of evolved Galactic open clusters\n",
      "\n",
      "[2020A&A...633A..99C]\n",
      " Cantat-Gaudin, T.,Anders, F.:\n",
      " Clusters and mirages: cataloguing stellar aggregates in the Milky Way\n",
      "\n"
     ]
    }
   ],
   "source": [
    "for bibcode in children.link_bibcode.unique():\n",
    "    print(f'[{bibcode}]\\n {title_and_authors(bibcode)}\\n')"
   ]
  },
  {
   "cell_type": "code",
   "execution_count": null,
   "id": "bf123acc",
   "metadata": {},
   "outputs": [],
   "source": []
  }
 ],
 "metadata": {
  "kernelspec": {
   "display_name": "Python 3 (ipykernel)",
   "language": "python",
   "name": "python3"
  },
  "language_info": {
   "codemirror_mode": {
    "name": "ipython",
    "version": 3
   },
   "file_extension": ".py",
   "mimetype": "text/x-python",
   "name": "python",
   "nbconvert_exporter": "python",
   "pygments_lexer": "ipython3",
   "version": "3.9.13"
  },
  "toc": {
   "base_numbering": 1,
   "nav_menu": {},
   "number_sections": true,
   "sideBar": true,
   "skip_h1_title": false,
   "title_cell": "Table of Contents",
   "title_sidebar": "Contents",
   "toc_cell": false,
   "toc_position": {},
   "toc_section_display": true,
   "toc_window_display": false
  },
  "varInspector": {
   "cols": {
    "lenName": 16,
    "lenType": 16,
    "lenVar": 40
   },
   "kernels_config": {
    "python": {
     "delete_cmd_postfix": "",
     "delete_cmd_prefix": "del ",
     "library": "var_list.py",
     "varRefreshCmd": "print(var_dic_list())"
    },
    "r": {
     "delete_cmd_postfix": ") ",
     "delete_cmd_prefix": "rm(",
     "library": "var_list.r",
     "varRefreshCmd": "cat(var_dic_list()) "
    }
   },
   "types_to_exclude": [
    "module",
    "function",
    "builtin_function_or_method",
    "instance",
    "_Feature"
   ],
   "window_display": false
  }
 },
 "nbformat": 4,
 "nbformat_minor": 5
}
