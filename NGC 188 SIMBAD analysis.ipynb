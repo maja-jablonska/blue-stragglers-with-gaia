{
 "cells": [
  {
   "cell_type": "code",
   "execution_count": 9,
   "id": "c4495a1d",
   "metadata": {
    "ExecuteTime": {
     "end_time": "2022-07-07T12:41:06.922088Z",
     "start_time": "2022-07-07T12:41:06.748840Z"
    }
   },
   "outputs": [],
   "source": [
    "import numpy as np\n",
    "import pandas as pd\n",
    "from simbad_download import fetch_object_children\n",
    "\n",
    "import requests \n",
    "from bs4 import BeautifulSoup"
   ]
  },
  {
   "cell_type": "code",
   "execution_count": 2,
   "id": "360d548e",
   "metadata": {
    "ExecuteTime": {
     "end_time": "2022-07-07T12:36:05.666167Z",
     "start_time": "2022-07-07T12:36:04.938753Z"
    }
   },
   "outputs": [],
   "source": [
    "children = fetch_object_children('NGC 188')"
   ]
  },
  {
   "cell_type": "code",
   "execution_count": 3,
   "id": "c20e22a2",
   "metadata": {
    "ExecuteTime": {
     "end_time": "2022-07-07T12:36:05.708081Z",
     "start_time": "2022-07-07T12:36:05.674849Z"
    }
   },
   "outputs": [
    {
     "data": {
      "text/html": [
       "<div>\n",
       "<style scoped>\n",
       "    .dataframe tbody tr th:only-of-type {\n",
       "        vertical-align: middle;\n",
       "    }\n",
       "\n",
       "    .dataframe tbody tr th {\n",
       "        vertical-align: top;\n",
       "    }\n",
       "\n",
       "    .dataframe thead th {\n",
       "        text-align: right;\n",
       "    }\n",
       "</style>\n",
       "<table border=\"1\" class=\"dataframe\">\n",
       "  <thead>\n",
       "    <tr style=\"text-align: right;\">\n",
       "      <th></th>\n",
       "      <th>obj_id</th>\n",
       "      <th>link_bibcode</th>\n",
       "      <th>ra</th>\n",
       "      <th>dec</th>\n",
       "    </tr>\n",
       "  </thead>\n",
       "  <tbody>\n",
       "    <tr>\n",
       "      <th>0</th>\n",
       "      <td>NGC 188 1054</td>\n",
       "      <td>2004PASP..116.1012S</td>\n",
       "      <td>11.191250</td>\n",
       "      <td>85.256734</td>\n",
       "    </tr>\n",
       "    <tr>\n",
       "      <th>1</th>\n",
       "      <td>Cl* NGC 188 DGV 1869</td>\n",
       "      <td>2004PASP..116.1012S</td>\n",
       "      <td>9.743203</td>\n",
       "      <td>85.559916</td>\n",
       "    </tr>\n",
       "    <tr>\n",
       "      <th>2</th>\n",
       "      <td>NGC 188 2014</td>\n",
       "      <td>2004PASP..116.1012S</td>\n",
       "      <td>10.977598</td>\n",
       "      <td>85.205113</td>\n",
       "    </tr>\n",
       "    <tr>\n",
       "      <th>3</th>\n",
       "      <td>NGC 188 1152</td>\n",
       "      <td>2004PASP..116.1012S</td>\n",
       "      <td>11.164145</td>\n",
       "      <td>85.242850</td>\n",
       "    </tr>\n",
       "    <tr>\n",
       "      <th>4</th>\n",
       "      <td>NGC 188 3129</td>\n",
       "      <td>2004PASP..116.1012S</td>\n",
       "      <td>11.151445</td>\n",
       "      <td>85.352770</td>\n",
       "    </tr>\n",
       "  </tbody>\n",
       "</table>\n",
       "</div>"
      ],
      "text/plain": [
       "                 obj_id         link_bibcode         ra        dec\n",
       "0          NGC 188 1054  2004PASP..116.1012S  11.191250  85.256734\n",
       "1  Cl* NGC 188 DGV 1869  2004PASP..116.1012S   9.743203  85.559916\n",
       "2          NGC 188 2014  2004PASP..116.1012S  10.977598  85.205113\n",
       "3          NGC 188 1152  2004PASP..116.1012S  11.164145  85.242850\n",
       "4          NGC 188 3129  2004PASP..116.1012S  11.151445  85.352770"
      ]
     },
     "execution_count": 3,
     "metadata": {},
     "output_type": "execute_result"
    }
   ],
   "source": [
    "children.head()"
   ]
  },
  {
   "cell_type": "code",
   "execution_count": 8,
   "id": "883a9568",
   "metadata": {
    "ExecuteTime": {
     "end_time": "2022-07-07T12:37:00.611293Z",
     "start_time": "2022-07-07T12:37:00.603145Z"
    }
   },
   "outputs": [
    {
     "data": {
      "text/plain": [
       "5235"
      ]
     },
     "execution_count": 8,
     "metadata": {},
     "output_type": "execute_result"
    }
   ],
   "source": [
    "len(children)"
   ]
  },
  {
   "cell_type": "code",
   "execution_count": 7,
   "id": "d625be41",
   "metadata": {
    "ExecuteTime": {
     "end_time": "2022-07-07T12:36:55.157247Z",
     "start_time": "2022-07-07T12:36:55.148434Z"
    }
   },
   "outputs": [
    {
     "data": {
      "text/plain": [
       "1624"
      ]
     },
     "execution_count": 7,
     "metadata": {},
     "output_type": "execute_result"
    }
   ],
   "source": [
    "len(children.ra.unique())"
   ]
  },
  {
   "cell_type": "code",
   "execution_count": 27,
   "id": "36f4b120",
   "metadata": {
    "ExecuteTime": {
     "end_time": "2022-07-07T12:48:37.720569Z",
     "start_time": "2022-07-07T12:48:37.711005Z"
    }
   },
   "outputs": [],
   "source": [
    "def title_and_authors(bibcode: str) -> str:\n",
    "    URL = f'https://ui.adsabs.harvard.edu/abs/{bibcode}/abstract'\n",
    "    website = requests.get(URL)\n",
    "    results = BeautifulSoup(website.content, 'html.parser')\n",
    "    title = ' '.join(results.find('h2', class_='s-abstract-title').text.split())\n",
    "    authors = [author.text.strip() for author in results.find_all('li', class_='author')]\n",
    "    return f'{\",\".join(authors)}:\\n {title}'"
   ]
  },
  {
   "cell_type": "code",
   "execution_count": 29,
   "id": "5114d69e",
   "metadata": {
    "ExecuteTime": {
     "end_time": "2022-07-07T12:49:33.531871Z",
     "start_time": "2022-07-07T12:49:05.956517Z"
    },
    "scrolled": false
   },
   "outputs": [
    {
     "name": "stdout",
     "output_type": "stream",
     "text": [
      "[2004PASP..116.1012S]\n",
      " Stetson, Peter B.,McClure, Robert D.,VandenBerg, Don A.:\n",
      " A Star Catalog for the Open Cluster NGC 188\n",
      "\n",
      "[2020A&A...640A...1C]\n",
      " Cantat-Gaudin, T.,Anders, F.,Castro-Ginard, A.,Jordi, C.,Romero-GÃ³mez, M.,Soubiran, C.,Casamiquela, L.,Tarricq, Y.,Moitinho, A.,Vallenari, A.,Bragaglia, A.,Krone-Martins, A.,Kounkel, M.:\n",
      " Painting a portrait of the Galactic disc with its stellar clusters\n",
      "\n",
      "[2003AJ....126.2922P]\n",
      " Platais, Imants,Kozhurina-Platais, Vera,Mathieu, Robert D.,Girard, Terrence M.,van Altena, William F.:\n",
      " WIYN Open Cluster Study. XVII. Astrometry and Membership to V=21 in NGC 188\n",
      "\n",
      "[2001A&A...373..159C]\n",
      " Cayrel de Strobel, G.,Soubiran, C.,Ralite, N.:\n",
      " Catalogue of [Fe/H] determinations for FGK stars: 2001 edition\n",
      "\n",
      "[2008AJ....135.2264G]\n",
      " Geller, Aaron M.,Mathieu, Robert D.,Harris, Hugh C.,McClure, Robert D.:\n",
      " WIYN Open Cluster Study. XXXII. Stellar Radial Velocities in the Old Open Cluster NGC 188\n",
      "\n",
      "[2011AJ....142...59J]\n",
      " Jacobson, Heather R.,Pilachowski, Catherine A.,Friel, Eileen D.:\n",
      " A Chemical Abundance Study of 10 Open Clusters Based on WIYN-Hydra Spectroscopy\n",
      "\n",
      "[2013AJ....145..107J]\n",
      " Jacobson, Heather R.,Friel, Eileen D.:\n",
      " Zirconium, Barium, Lanthanum, and Europium Abundances in Open Clusters\n",
      "\n",
      "[2013AJ....146..133M]\n",
      " MÃ©szÃ¡ros, Sz.,Holtzman, J.,GarcÃ­a PÃ©rez, A. E.,Allende Prieto, C.,Schiavon, R. P.,Basu, S.,Bizyaev, D.,Chaplin, W. J.,Chojnowski, S. D.,Cunha, K.,Elsworth, Y.,Epstein, C.,Frinchaboy, P. M.,GarcÃ­a, R. A.,Hearty, F. R.,Hekker, S.,Johnson, J. A.,Kallinger, T.,Koesterke, L.,Majewski, S. R.,Martell, S. L.,Nidever, D.,Pinsonneault, M. H.,O'Connell, J.,Shetrone, M.,Smith, V. V.,Wilson, J. C.,Zasowski, G.:\n",
      " Calibrations of Atmospheric Parameters Obtained from the First Year of SDSS-III APOGEE Observations\n",
      "\n",
      "[2014MNRAS.444.1982A]\n",
      " Avvakumova, E. A.,Malkov, O. Yu.:\n",
      " Assessment of evolutionary status of eclipsing binaries using light-curve parameters and spectral classification\n",
      "\n",
      "[2016A&A...594A..43H]\n",
      " Hawkins, K.,Masseron, T.,JofrÃ©, P.,Gilmore, G.,Elsworth, Y.,Hekker, S.:\n",
      " An accurate and self-consistent chemical abundance catalogue for the APOGEE/Kepler sample\n",
      "\n",
      "[2018A&A...618A..93C]\n",
      " Cantat-Gaudin, T.,Jordi, C.,Vallenari, A.,Bragaglia, A.,Balaguer-NÃºÃ±ez, L.,Soubiran, C.,Bossini, D.,Moitinho, A.,Castro-Ginard, A.,Krone-Martins, A.,Casamiquela, L.,Sordo, R.,Carrera, R.:\n",
      " A Gaia DR2 view of the open cluster population in the Milky Way\n",
      "\n",
      "[2018AJ....156..142D]\n",
      " Donor, John,Frinchaboy, Peter M.,Cunha, Katia,Thompson, Benjamin,O'Connell, Julia,Zasowski, Gail,Jackson, Kelly M.,Meyer McGrath, Brianne,Almeida, AndrÃ©s,Bizyaev, Dmitry,Carrera, Ricardo,GarcÃ­a-HernÃ¡ndez, D. A.,Nitschelm, Christian,Pan, Kaike,Zamora, Olga:\n",
      " The Open Cluster Chemical Abundances and Mapping Survey. II. Precision Cluster Abundances for APOGEE Using SDSS DR14\n",
      "\n",
      "[2018A&A...616A..10G]\n",
      " Gaia Collaboration,Babusiaux, C.,van Leeuwen, F.,Barstow, M. A.,Jordi, C.,Vallenari, A.,Bossini, D.,Bressan, A.,Cantat-Gaudin, T.,van Leeuwen, M.,Brown, A. G. A.,Prusti, T.,de Bruijne, J. H. J.,Bailer-Jones, C. A. L.,Biermann, M.,Evans, D. W.,Eyer, L.,Jansen, F.,Klioner, S. A.,Lammers, U.,Lindegren, L.,Luri, X.,Mignard, F.,Panem, C.,Pourbaix, D.,Randich, S.,Sartoretti, P.,Siddiqui, H. I.,Soubiran, C.,Walton, N. A.,Arenou, F.,Bastian, U.,Cropper, M.,Drimmel, R.,Katz, D.,Lattanzi, M. G.,Bakker, J.,Cacciari, C.,Castañeda, J.,Chaoul, L.,Cheek, N.,De Angeli, F.,Fabricius, C.,Guerra, R.,Holl, B.,Masana, E.,Messineo, R.,Mowlavi, N.,Nienartowicz, K.,Panuzzo, P.:\n",
      " Gaia Data Release 2. Observational Hertzsprung-Russell diagrams\n",
      "\n",
      "[2019A&A...624A...8A]\n",
      " Angelo, M. S.,Santos, J. F. C.,Corradi, W. J. B.,Maia, F. F. S.:\n",
      " Investigating dynamical properties of evolved Galactic open clusters\n",
      "\n",
      "[2020A&A...633A..99C]\n",
      " Cantat-Gaudin, T.,Anders, F.:\n",
      " Clusters and mirages: cataloguing stellar aggregates in the Milky Way\n",
      "\n"
     ]
    }
   ],
   "source": [
    "for bibcode in children.link_bibcode.unique():\n",
    "    print(f'[{bibcode}]\\n {title_and_authors(bibcode)}\\n')"
   ]
  },
  {
   "cell_type": "code",
   "execution_count": null,
   "id": "bf123acc",
   "metadata": {},
   "outputs": [],
   "source": []
  }
 ],
 "metadata": {
  "kernelspec": {
   "display_name": "Python 3 (ipykernel)",
   "language": "python",
   "name": "python3"
  },
  "language_info": {
   "codemirror_mode": {
    "name": "ipython",
    "version": 3
   },
   "file_extension": ".py",
   "mimetype": "text/x-python",
   "name": "python",
   "nbconvert_exporter": "python",
   "pygments_lexer": "ipython3",
   "version": "3.9.13"
  },
  "toc": {
   "base_numbering": 1,
   "nav_menu": {},
   "number_sections": true,
   "sideBar": true,
   "skip_h1_title": false,
   "title_cell": "Table of Contents",
   "title_sidebar": "Contents",
   "toc_cell": false,
   "toc_position": {},
   "toc_section_display": true,
   "toc_window_display": false
  },
  "varInspector": {
   "cols": {
    "lenName": 16,
    "lenType": 16,
    "lenVar": 40
   },
   "kernels_config": {
    "python": {
     "delete_cmd_postfix": "",
     "delete_cmd_prefix": "del ",
     "library": "var_list.py",
     "varRefreshCmd": "print(var_dic_list())"
    },
    "r": {
     "delete_cmd_postfix": ") ",
     "delete_cmd_prefix": "rm(",
     "library": "var_list.r",
     "varRefreshCmd": "cat(var_dic_list()) "
    }
   },
   "types_to_exclude": [
    "module",
    "function",
    "builtin_function_or_method",
    "instance",
    "_Feature"
   ],
   "window_display": false
  }
 },
 "nbformat": 4,
 "nbformat_minor": 5
}
