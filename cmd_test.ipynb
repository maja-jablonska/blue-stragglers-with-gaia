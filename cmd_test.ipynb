{
 "cells": [
  {
   "cell_type": "code",
   "execution_count": 12,
   "metadata": {
    "ExecuteTime": {
     "end_time": "2022-07-21T08:28:35.830446Z",
     "start_time": "2022-07-21T08:28:35.822383Z"
    }
   },
   "outputs": [],
   "source": [
    "import pandas as pd\n",
    "import matplotlib.pyplot as plt"
   ]
  },
  {
   "cell_type": "code",
   "execution_count": 13,
   "metadata": {
    "ExecuteTime": {
     "end_time": "2022-07-21T08:28:38.812551Z",
     "start_time": "2022-07-21T08:28:36.214261Z"
    }
   },
   "outputs": [
    {
     "name": "stderr",
     "output_type": "stream",
     "text": [
      "/tmp/ipykernel_9907/2053681918.py:1: DtypeWarning: Columns (198) have mixed types. Specify dtype option on import or set low_memory=False.\n",
      "  sources = pd.read_csv('NGC 188.csv')\n"
     ]
    }
   ],
   "source": [
    "sources = pd.read_csv('NGC 188.csv')"
   ]
  },
  {
   "cell_type": "code",
   "execution_count": 14,
   "metadata": {
    "ExecuteTime": {
     "end_time": "2022-07-21T08:28:38.915561Z",
     "start_time": "2022-07-21T08:28:38.899703Z"
    }
   },
   "outputs": [
    {
     "data": {
      "text/plain": [
       "['solution_id',\n",
       " 'designation',\n",
       " 'source_id',\n",
       " 'random_index',\n",
       " 'ref_epoch',\n",
       " 'ra',\n",
       " 'ra_error',\n",
       " 'dec',\n",
       " 'dec_error',\n",
       " 'parallax',\n",
       " 'parallax_error',\n",
       " 'parallax_over_error',\n",
       " 'pm',\n",
       " 'pmra',\n",
       " 'pmra_error',\n",
       " 'pmdec',\n",
       " 'pmdec_error',\n",
       " 'ra_dec_corr',\n",
       " 'ra_parallax_corr',\n",
       " 'ra_pmra_corr',\n",
       " 'ra_pmdec_corr',\n",
       " 'dec_parallax_corr',\n",
       " 'dec_pmra_corr',\n",
       " 'dec_pmdec_corr',\n",
       " 'parallax_pmra_corr',\n",
       " 'parallax_pmdec_corr',\n",
       " 'pmra_pmdec_corr',\n",
       " 'astrometric_n_obs_al',\n",
       " 'astrometric_n_obs_ac',\n",
       " 'astrometric_n_good_obs_al',\n",
       " 'astrometric_n_bad_obs_al',\n",
       " 'astrometric_gof_al',\n",
       " 'astrometric_chi2_al',\n",
       " 'astrometric_excess_noise',\n",
       " 'astrometric_excess_noise_sig',\n",
       " 'astrometric_params_solved',\n",
       " 'astrometric_primary_flag',\n",
       " 'nu_eff_used_in_astrometry',\n",
       " 'pseudocolour',\n",
       " 'pseudocolour_error',\n",
       " 'ra_pseudocolour_corr',\n",
       " 'dec_pseudocolour_corr',\n",
       " 'parallax_pseudocolour_corr',\n",
       " 'pmra_pseudocolour_corr',\n",
       " 'pmdec_pseudocolour_corr',\n",
       " 'astrometric_matched_transits',\n",
       " 'visibility_periods_used',\n",
       " 'astrometric_sigma5d_max',\n",
       " 'matched_transits',\n",
       " 'new_matched_transits',\n",
       " 'matched_transits_removed',\n",
       " 'ipd_gof_harmonic_amplitude',\n",
       " 'ipd_gof_harmonic_phase',\n",
       " 'ipd_frac_multi_peak',\n",
       " 'ipd_frac_odd_win',\n",
       " 'ruwe',\n",
       " 'scan_direction_strength_k1',\n",
       " 'scan_direction_strength_k2',\n",
       " 'scan_direction_strength_k3',\n",
       " 'scan_direction_strength_k4',\n",
       " 'scan_direction_mean_k1',\n",
       " 'scan_direction_mean_k2',\n",
       " 'scan_direction_mean_k3',\n",
       " 'scan_direction_mean_k4',\n",
       " 'duplicated_source',\n",
       " 'phot_g_n_obs',\n",
       " 'phot_g_mean_flux',\n",
       " 'phot_g_mean_flux_error',\n",
       " 'phot_g_mean_flux_over_error',\n",
       " 'G',\n",
       " 'phot_bp_n_obs',\n",
       " 'phot_bp_mean_flux',\n",
       " 'phot_bp_mean_flux_error',\n",
       " 'phot_bp_mean_flux_over_error',\n",
       " 'BP',\n",
       " 'phot_rp_n_obs',\n",
       " 'phot_rp_mean_flux',\n",
       " 'phot_rp_mean_flux_error',\n",
       " 'phot_rp_mean_flux_over_error',\n",
       " 'RP',\n",
       " 'phot_bp_rp_excess_factor',\n",
       " 'phot_bp_n_contaminated_transits',\n",
       " 'phot_bp_n_blended_transits',\n",
       " 'phot_rp_n_contaminated_transits',\n",
       " 'phot_rp_n_blended_transits',\n",
       " 'phot_proc_mode',\n",
       " 'bp_rp',\n",
       " 'bp_g',\n",
       " 'g_rp',\n",
       " 'radial_velocity',\n",
       " 'radial_velocity_error',\n",
       " 'rv_method_used',\n",
       " 'rv_nb_transits',\n",
       " 'rv_nb_deblended_transits',\n",
       " 'rv_visibility_periods_used',\n",
       " 'rv_expected_sig_to_noise',\n",
       " 'rv_renormalised_gof',\n",
       " 'rv_chisq_pvalue',\n",
       " 'rv_time_duration',\n",
       " 'rv_amplitude_robust',\n",
       " 'rv_template_teff',\n",
       " 'rv_template_logg',\n",
       " 'rv_template_fe_h',\n",
       " 'rv_atm_param_origin',\n",
       " 'vbroad',\n",
       " 'vbroad_error',\n",
       " 'vbroad_nb_transits',\n",
       " 'grvs_mag',\n",
       " 'grvs_mag_error',\n",
       " 'grvs_mag_nb_transits',\n",
       " 'rvs_spec_sig_to_noise',\n",
       " 'phot_variable_flag',\n",
       " 'l',\n",
       " 'b',\n",
       " 'ecl_lon',\n",
       " 'ecl_lat',\n",
       " 'in_qso_candidates',\n",
       " 'in_galaxy_candidates',\n",
       " 'non_single_star',\n",
       " 'has_xp_continuous',\n",
       " 'has_xp_sampled',\n",
       " 'has_rvs',\n",
       " 'has_epoch_photometry',\n",
       " 'has_epoch_rv',\n",
       " 'has_mcmc_gspphot',\n",
       " 'has_mcmc_msc',\n",
       " 'in_andromeda_survey',\n",
       " 'classprob_dsc_combmod_quasar',\n",
       " 'classprob_dsc_combmod_galaxy',\n",
       " 'classprob_dsc_combmod_star',\n",
       " 'teff_gspphot',\n",
       " 'teff_gspphot_lower',\n",
       " 'teff_gspphot_upper',\n",
       " 'logg_gspphot',\n",
       " 'logg_gspphot_lower',\n",
       " 'logg_gspphot_upper',\n",
       " 'mh_gspphot',\n",
       " 'mh_gspphot_lower',\n",
       " 'mh_gspphot_upper',\n",
       " 'distance_gspphot',\n",
       " 'distance_gspphot_lower',\n",
       " 'distance_gspphot_upper',\n",
       " 'azero_gspphot',\n",
       " 'azero_gspphot_lower',\n",
       " 'azero_gspphot_upper',\n",
       " 'ag_gspphot',\n",
       " 'ag_gspphot_lower',\n",
       " 'ag_gspphot_upper',\n",
       " 'ebpminrp_gspphot',\n",
       " 'ebpminrp_gspphot_lower',\n",
       " 'ebpminrp_gspphot_upper',\n",
       " 'libname_gspphot',\n",
       " 'panstarrs1_id',\n",
       " 'panstarrs1_angular_distance',\n",
       " 'allwise_id',\n",
       " 'allwise_angular_distance',\n",
       " 'twomass_id',\n",
       " 'twomass_angular_distance',\n",
       " 'BP_err',\n",
       " 'RP_err',\n",
       " 'G_err',\n",
       " 'E(B_V)',\n",
       " 'A_G',\n",
       " 'A_BP',\n",
       " 'A_RP',\n",
       " 'A_g',\n",
       " 'A_r',\n",
       " 'A_i',\n",
       " 'A_z',\n",
       " 'A_y',\n",
       " 'A_J',\n",
       " 'A_H',\n",
       " 'A_K',\n",
       " 'color',\n",
       " 'color_error',\n",
       " 'mag_abs',\n",
       " 'mag_abs_error',\n",
       " 'objID',\n",
       " 'RAMean',\n",
       " 'DecMean',\n",
       " 'nDetections',\n",
       " 'gMeanPSFMag',\n",
       " 'gMeanPSFMagErr',\n",
       " 'rMeanPSFMag',\n",
       " 'rMeanPSFMagErr',\n",
       " 'iMeanPSFMag',\n",
       " 'iMeanPSFMagErr',\n",
       " 'zMeanPSFMag',\n",
       " 'zMeanPSFMagErr',\n",
       " 'yMeanPSFMag',\n",
       " 'yMeanPSFMagErr',\n",
       " 'name',\n",
       " 'h_m',\n",
       " 'h_msigcom',\n",
       " 'j_m',\n",
       " 'j_msigcom',\n",
       " 'ks_m',\n",
       " 'ks_msigcom',\n",
       " 'source_name',\n",
       " 'w1mag',\n",
       " 'w1sigm',\n",
       " 'w1flg',\n",
       " 'w2mag',\n",
       " 'w2sigm',\n",
       " 'w2flg']"
      ]
     },
     "execution_count": 14,
     "metadata": {},
     "output_type": "execute_result"
    }
   ],
   "source": [
    "list(sources.columns)"
   ]
  },
  {
   "cell_type": "code",
   "execution_count": 15,
   "metadata": {
    "ExecuteTime": {
     "end_time": "2022-07-21T08:28:41.450744Z",
     "start_time": "2022-07-21T08:28:41.435812Z"
    }
   },
   "outputs": [],
   "source": [
    "sources_p = sources[np.abs(sources.gMeanPSFMag-sources.iMeanPSFMag)<10]"
   ]
  },
  {
   "cell_type": "code",
   "execution_count": 17,
   "metadata": {
    "ExecuteTime": {
     "end_time": "2022-07-21T08:29:02.171932Z",
     "start_time": "2022-07-21T08:29:01.799784Z"
    }
   },
   "outputs": [
    {
     "data": {
      "image/png": "[encoded data removed]",
      "text/plain": [
       "<Figure size 720x432 with 1 Axes>"
      ]
     },
     "metadata": {
      "needs_background": "light"
     },
     "output_type": "display_data"
    }
   ],
   "source": [
    "plt.figure(figsize=(10, 6))\n",
    "plt.scatter(sources_p.gMeanPSFMag-sources_p.A_g-sources_p.iMeanPSFMag+sources_p.A_i, sources_p.mag_abs, alpha=.5, zorder=10)\n",
    "plt.scatter(sources.color, sources.mag_abs, alpha=.5)\n",
    "plt.gca().invert_yaxis();"
   ]
  },
  {
   "cell_type": "code",
   "execution_count": null,
   "metadata": {},
   "outputs": [],
   "source": []
  }
 ],
 "metadata": {
  "kernelspec": {
   "display_name": "Python 3 (ipykernel)",
   "language": "python",
   "name": "python3"
  },
  "language_info": {
   "codemirror_mode": {
    "name": "ipython",
    "version": 3
   },
   "file_extension": ".py",
   "mimetype": "text/x-python",
   "name": "python",
   "nbconvert_exporter": "python",
   "pygments_lexer": "ipython3",
   "version": "3.9.13"
  },
  "toc": {
   "base_numbering": 1,
   "nav_menu": {},
   "number_sections": true,
   "sideBar": true,
   "skip_h1_title": false,
   "title_cell": "Table of Contents",
   "title_sidebar": "Contents",
   "toc_cell": false,
   "toc_position": {},
   "toc_section_display": true,
   "toc_window_display": false
  },
  "varInspector": {
   "cols": {
    "lenName": 16,
    "lenType": 16,
    "lenVar": 40
   },
   "kernels_config": {
    "python": {
     "delete_cmd_postfix": "",
     "delete_cmd_prefix": "del ",
     "library": "var_list.py",
     "varRefreshCmd": "print(var_dic_list())"
    },
    "r": {
     "delete_cmd_postfix": ") ",
     "delete_cmd_prefix": "rm(",
     "library": "var_list.r",
     "varRefreshCmd": "cat(var_dic_list()) "
    }
   },
   "types_to_exclude": [
    "module",
    "function",
    "builtin_function_or_method",
    "instance",
    "_Feature"
   ],
   "window_display": false
  },
  "vscode": {
   "interpreter": {
    "hash": "fada0d832d2547f9f1dff5229b543955ff8ad75cc0a8562bb60785250e0c2cfa"
   }
  }
 },
 "nbformat": 4,
 "nbformat_minor": 2
}
