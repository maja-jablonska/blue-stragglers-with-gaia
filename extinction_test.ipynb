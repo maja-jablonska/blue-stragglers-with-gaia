{
 "cells": [
  {
   "cell_type": "code",
   "execution_count": 1,
   "id": "294954ec",
   "metadata": {
    "ExecuteTime": {
     "end_time": "2022-07-12T14:03:40.511063Z",
     "start_time": "2022-07-12T14:03:37.033070Z"
    },
    "scrolled": false
   },
   "outputs": [
    {
     "name": "stdout",
     "output_type": "stream",
     "text": [
      "Configuration file not found:\n",
      "\n",
      "    /home/mjablons/.dustmapsrc\n",
      "\n",
      "To create a new configuration file in the default location, run the following python code:\n",
      "\n",
      "    from dustmaps.config import config\n",
      "    config.reset()\n",
      "\n",
      "Note that this will delete your configuration! For example, if you have specified a data directory, then dustmaps will forget about its location.\n"
     ]
    }
   ],
   "source": [
    "from uncertainties import ufloat\n",
    "from uncertainties.umath import log10\n",
    "import pandas as pd\n",
    "from typing import Tuple\n",
    "from extinction import extinction_coefficient, gaia_g_extinction, gaia_B_RP_extinction, color, absolute_magnitude"
   ]
  },
  {
   "cell_type": "code",
   "execution_count": 2,
   "id": "0c5c02bc",
   "metadata": {
    "ExecuteTime": {
     "end_time": "2022-07-12T14:03:40.698531Z",
     "start_time": "2022-07-12T14:03:40.594955Z"
    }
   },
   "outputs": [],
   "source": [
    "c = pd.read_csv('./data/ngc_188/dbscan_clustered.csv').drop(columns='Unnamed: 0')"
   ]
  },
  {
   "cell_type": "code",
   "execution_count": 12,
   "id": "cf2f3286",
   "metadata": {
    "ExecuteTime": {
     "end_time": "2022-07-12T14:11:49.822344Z",
     "start_time": "2022-07-12T14:11:49.809070Z"
    }
   },
   "outputs": [],
   "source": [
    "c['phot_bp_mean_mag_err'] = 2.5/(np.log(10)*c['phot_bp_mean_flux_over_error'])\n",
    "c['phot_rp_mean_mag_err'] = 2.5/(np.log(10)*c['phot_rp_mean_flux_over_error'])\n",
    "c['phot_g_mean_mag_err'] = 2.5/(np.log(10)*c['phot_g_mean_flux_over_error'])"
   ]
  },
  {
   "cell_type": "code",
   "execution_count": 13,
   "id": "d0aa6d74",
   "metadata": {
    "ExecuteTime": {
     "end_time": "2022-07-12T14:11:51.970161Z",
     "start_time": "2022-07-12T14:11:50.861280Z"
    },
    "scrolled": true
   },
   "outputs": [
    {
     "name": "stderr",
     "output_type": "stream",
     "text": [
      "/home/mjablons/.local/lib/python3.9/site-packages/numpy/core/fromnumeric.py:3156: VisibleDeprecationWarning: Creating an ndarray from ragged nested sequences (which is a list-or-tuple of lists-or-tuples-or ndarrays with different lengths or shapes) is deprecated. If you meant to do this, you must specify 'dtype=object' when creating the ndarray.\n",
      "  return asarray(a).ndim\n",
      "/home/mjablons/.local/lib/python3.9/site-packages/numpy/core/fromnumeric.py:2009: VisibleDeprecationWarning: Creating an ndarray from ragged nested sequences (which is a list-or-tuple of lists-or-tuples-or ndarrays with different lengths or shapes) is deprecated. If you meant to do this, you must specify 'dtype=object' when creating the ndarray.\n",
      "  result = asarray(a).shape\n"
     ]
    }
   ],
   "source": [
    "c['E_V'] = extinction_coefficient(c.ra.values, c.dec.values, c.parallax.values)\n",
    "c[['E(BP-RP)', 'reddening_err']] = gaia_B_RP_extinction(c['E_V'].values)\n",
    "c[['E_G', 'E_G_err']] = gaia_g_extinction(c['E_V'].values)"
   ]
  },
  {
   "cell_type": "code",
   "execution_count": 14,
   "id": "94cd3b83",
   "metadata": {
    "ExecuteTime": {
     "end_time": "2022-07-12T14:11:53.397083Z",
     "start_time": "2022-07-12T14:11:53.345559Z"
    }
   },
   "outputs": [
    {
     "data": {
      "text/html": [
       "<div>\n",
       "<style scoped>\n",
       "    .dataframe tbody tr th:only-of-type {\n",
       "        vertical-align: middle;\n",
       "    }\n",
       "\n",
       "    .dataframe tbody tr th {\n",
       "        vertical-align: top;\n",
       "    }\n",
       "\n",
       "    .dataframe thead th {\n",
       "        text-align: right;\n",
       "    }\n",
       "</style>\n",
       "<table border=\"1\" class=\"dataframe\">\n",
       "  <thead>\n",
       "    <tr style=\"text-align: right;\">\n",
       "      <th></th>\n",
       "      <th>solution_id</th>\n",
       "      <th>designation</th>\n",
       "      <th>source_id</th>\n",
       "      <th>random_index</th>\n",
       "      <th>ref_epoch</th>\n",
       "      <th>ra</th>\n",
       "      <th>ra_error</th>\n",
       "      <th>dec</th>\n",
       "      <th>dec_error</th>\n",
       "      <th>parallax</th>\n",
       "      <th>...</th>\n",
       "      <th>libname_gspphot</th>\n",
       "      <th>label</th>\n",
       "      <th>E_V</th>\n",
       "      <th>E(BP-RP)</th>\n",
       "      <th>reddening_err</th>\n",
       "      <th>E_G</th>\n",
       "      <th>E_G_err</th>\n",
       "      <th>phot_bp_mean_mag_err</th>\n",
       "      <th>phot_rp_mean_mag_err</th>\n",
       "      <th>phot_g_mean_mag_err</th>\n",
       "    </tr>\n",
       "  </thead>\n",
       "  <tbody>\n",
       "    <tr>\n",
       "      <th>0</th>\n",
       "      <td>1636148068921376768</td>\n",
       "      <td>Gaia DR3 573339170073986432</td>\n",
       "      <td>573339170073986432</td>\n",
       "      <td>1183470769</td>\n",
       "      <td>2016.0</td>\n",
       "      <td>17.141358</td>\n",
       "      <td>0.117548</td>\n",
       "      <td>84.451083</td>\n",
       "      <td>0.113088</td>\n",
       "      <td>0.547640</td>\n",
       "      <td>...</td>\n",
       "      <td>PHOENIX</td>\n",
       "      <td>0</td>\n",
       "      <td>0.21</td>\n",
       "      <td>0.474470</td>\n",
       "      <td>0.2361</td>\n",
       "      <td>1.014187</td>\n",
       "      <td>0.08553</td>\n",
       "      <td>0.017684</td>\n",
       "      <td>0.015375</td>\n",
       "      <td>0.001813</td>\n",
       "    </tr>\n",
       "    <tr>\n",
       "      <th>1</th>\n",
       "      <td>1636148068921376768</td>\n",
       "      <td>Gaia DR3 573341304674009856</td>\n",
       "      <td>573341304674009856</td>\n",
       "      <td>297753663</td>\n",
       "      <td>2016.0</td>\n",
       "      <td>17.627554</td>\n",
       "      <td>0.041246</td>\n",
       "      <td>84.519049</td>\n",
       "      <td>0.038805</td>\n",
       "      <td>0.554564</td>\n",
       "      <td>...</td>\n",
       "      <td>MARCS</td>\n",
       "      <td>0</td>\n",
       "      <td>0.21</td>\n",
       "      <td>0.474470</td>\n",
       "      <td>0.2361</td>\n",
       "      <td>1.014187</td>\n",
       "      <td>0.08553</td>\n",
       "      <td>0.006012</td>\n",
       "      <td>0.004857</td>\n",
       "      <td>0.000605</td>\n",
       "    </tr>\n",
       "    <tr>\n",
       "      <th>2</th>\n",
       "      <td>1636148068921376768</td>\n",
       "      <td>Gaia DR3 573343052724431360</td>\n",
       "      <td>573343052724431360</td>\n",
       "      <td>654512527</td>\n",
       "      <td>2016.0</td>\n",
       "      <td>15.764065</td>\n",
       "      <td>0.168689</td>\n",
       "      <td>84.508904</td>\n",
       "      <td>0.166331</td>\n",
       "      <td>0.560219</td>\n",
       "      <td>...</td>\n",
       "      <td>NaN</td>\n",
       "      <td>0</td>\n",
       "      <td>0.21</td>\n",
       "      <td>0.474470</td>\n",
       "      <td>0.2361</td>\n",
       "      <td>1.014187</td>\n",
       "      <td>0.08553</td>\n",
       "      <td>0.073426</td>\n",
       "      <td>0.017784</td>\n",
       "      <td>0.002152</td>\n",
       "    </tr>\n",
       "    <tr>\n",
       "      <th>3</th>\n",
       "      <td>1636148068921376768</td>\n",
       "      <td>Gaia DR3 573344633272421120</td>\n",
       "      <td>573344633272421120</td>\n",
       "      <td>1350517326</td>\n",
       "      <td>2016.0</td>\n",
       "      <td>15.401420</td>\n",
       "      <td>0.238333</td>\n",
       "      <td>84.585590</td>\n",
       "      <td>0.231550</td>\n",
       "      <td>0.465927</td>\n",
       "      <td>...</td>\n",
       "      <td>NaN</td>\n",
       "      <td>0</td>\n",
       "      <td>0.14</td>\n",
       "      <td>0.378539</td>\n",
       "      <td>0.2361</td>\n",
       "      <td>0.861766</td>\n",
       "      <td>0.08553</td>\n",
       "      <td>0.047550</td>\n",
       "      <td>0.053979</td>\n",
       "      <td>0.003215</td>\n",
       "    </tr>\n",
       "    <tr>\n",
       "      <th>4</th>\n",
       "      <td>1636148068921376768</td>\n",
       "      <td>Gaia DR3 573351475155035008</td>\n",
       "      <td>573351475155035008</td>\n",
       "      <td>236544348</td>\n",
       "      <td>2016.0</td>\n",
       "      <td>13.267578</td>\n",
       "      <td>0.474411</td>\n",
       "      <td>84.456973</td>\n",
       "      <td>0.483350</td>\n",
       "      <td>0.519350</td>\n",
       "      <td>...</td>\n",
       "      <td>NaN</td>\n",
       "      <td>0</td>\n",
       "      <td>0.15</td>\n",
       "      <td>0.392306</td>\n",
       "      <td>0.2361</td>\n",
       "      <td>0.883490</td>\n",
       "      <td>0.08553</td>\n",
       "      <td>0.158200</td>\n",
       "      <td>0.062628</td>\n",
       "      <td>0.005841</td>\n",
       "    </tr>\n",
       "  </tbody>\n",
       "</table>\n",
       "<p>5 rows × 161 columns</p>\n",
       "</div>"
      ],
      "text/plain": [
       "           solution_id                  designation           source_id  \\\n",
       "0  1636148068921376768  Gaia DR3 573339170073986432  573339170073986432   \n",
       "1  1636148068921376768  Gaia DR3 573341304674009856  573341304674009856   \n",
       "2  1636148068921376768  Gaia DR3 573343052724431360  573343052724431360   \n",
       "3  1636148068921376768  Gaia DR3 573344633272421120  573344633272421120   \n",
       "4  1636148068921376768  Gaia DR3 573351475155035008  573351475155035008   \n",
       "\n",
       "   random_index  ref_epoch         ra  ra_error        dec  dec_error  \\\n",
       "0    1183470769     2016.0  17.141358  0.117548  84.451083   0.113088   \n",
       "1     297753663     2016.0  17.627554  0.041246  84.519049   0.038805   \n",
       "2     654512527     2016.0  15.764065  0.168689  84.508904   0.166331   \n",
       "3    1350517326     2016.0  15.401420  0.238333  84.585590   0.231550   \n",
       "4     236544348     2016.0  13.267578  0.474411  84.456973   0.483350   \n",
       "\n",
       "   parallax  ...  libname_gspphot  label   E_V  E(BP-RP)  reddening_err  \\\n",
       "0  0.547640  ...          PHOENIX      0  0.21  0.474470         0.2361   \n",
       "1  0.554564  ...            MARCS      0  0.21  0.474470         0.2361   \n",
       "2  0.560219  ...              NaN      0  0.21  0.474470         0.2361   \n",
       "3  0.465927  ...              NaN      0  0.14  0.378539         0.2361   \n",
       "4  0.519350  ...              NaN      0  0.15  0.392306         0.2361   \n",
       "\n",
       "        E_G  E_G_err  phot_bp_mean_mag_err  phot_rp_mean_mag_err  \\\n",
       "0  1.014187  0.08553              0.017684              0.015375   \n",
       "1  1.014187  0.08553              0.006012              0.004857   \n",
       "2  1.014187  0.08553              0.073426              0.017784   \n",
       "3  0.861766  0.08553              0.047550              0.053979   \n",
       "4  0.883490  0.08553              0.158200              0.062628   \n",
       "\n",
       "   phot_g_mean_mag_err  \n",
       "0             0.001813  \n",
       "1             0.000605  \n",
       "2             0.002152  \n",
       "3             0.003215  \n",
       "4             0.005841  \n",
       "\n",
       "[5 rows x 161 columns]"
      ]
     },
     "execution_count": 14,
     "metadata": {},
     "output_type": "execute_result"
    }
   ],
   "source": [
    "c.head()"
   ]
  },
  {
   "cell_type": "code",
   "execution_count": 19,
   "id": "15f84fea",
   "metadata": {
    "ExecuteTime": {
     "end_time": "2022-07-12T14:13:46.204891Z",
     "start_time": "2022-07-12T14:13:46.037258Z"
    }
   },
   "outputs": [
    {
     "ename": "AttributeError",
     "evalue": "'numpy.ndarray' object has no attribute 'strip'",
     "output_type": "error",
     "traceback": [
      "\u001b[0;31m---------------------------------------------------------------------------\u001b[0m",
      "\u001b[0;31mTypeError\u001b[0m                                 Traceback (most recent call last)",
      "File \u001b[0;32m~/.local/lib/python3.9/site-packages/uncertainties/core.py:3297\u001b[0m, in \u001b[0;36mufloat\u001b[0;34m(nominal_value, std_dev, tag)\u001b[0m\n\u001b[1;32m   3295\u001b[0m \u001b[38;5;28;01mtry\u001b[39;00m:\n\u001b[1;32m   3296\u001b[0m     \u001b[38;5;66;03m# Standard case:\u001b[39;00m\n\u001b[0;32m-> 3297\u001b[0m     \u001b[38;5;28;01mreturn\u001b[39;00m \u001b[43mVariable\u001b[49m\u001b[43m(\u001b[49m\u001b[43mnominal_value\u001b[49m\u001b[43m,\u001b[49m\u001b[43m \u001b[49m\u001b[43mstd_dev\u001b[49m\u001b[43m,\u001b[49m\u001b[43m \u001b[49m\u001b[43mtag\u001b[49m\u001b[38;5;241;43m=\u001b[39;49m\u001b[43mtag\u001b[49m\u001b[43m)\u001b[49m\n\u001b[1;32m   3298\u001b[0m \u001b[38;5;66;03m# Exception types raised by, respectively: tuple or string that\u001b[39;00m\n\u001b[1;32m   3299\u001b[0m \u001b[38;5;66;03m# can be converted through float() (case of a number with no\u001b[39;00m\n\u001b[1;32m   3300\u001b[0m \u001b[38;5;66;03m# uncertainty), and string that cannot be converted through\u001b[39;00m\n\u001b[1;32m   3301\u001b[0m \u001b[38;5;66;03m# float():\u001b[39;00m\n",
      "File \u001b[0;32m~/.local/lib/python3.9/site-packages/uncertainties/core.py:2766\u001b[0m, in \u001b[0;36mVariable.__init__\u001b[0;34m(self, value, std_dev, tag)\u001b[0m\n\u001b[1;32m   2757\u001b[0m \u001b[38;5;66;03m#! The value, std_dev, and tag are assumed by __copy__() not to\u001b[39;00m\n\u001b[1;32m   2758\u001b[0m \u001b[38;5;66;03m# be copied.  Either this should be guaranteed here, or __copy__\u001b[39;00m\n\u001b[1;32m   2759\u001b[0m \u001b[38;5;66;03m# should be updated.\u001b[39;00m\n\u001b[0;32m   (...)\u001b[0m\n\u001b[1;32m   2764\u001b[0m \u001b[38;5;66;03m# has a nominal value of 3/2 = 1, but a \"shifted\" value\u001b[39;00m\n\u001b[1;32m   2765\u001b[0m \u001b[38;5;66;03m# of 3.1/2 = 1.55.\u001b[39;00m\n\u001b[0;32m-> 2766\u001b[0m value \u001b[38;5;241m=\u001b[39m \u001b[38;5;28;43mfloat\u001b[39;49m\u001b[43m(\u001b[49m\u001b[43mvalue\u001b[49m\u001b[43m)\u001b[49m\n\u001b[1;32m   2768\u001b[0m \u001b[38;5;66;03m# If the variable changes by dx, then the value of the affine\u001b[39;00m\n\u001b[1;32m   2769\u001b[0m \u001b[38;5;66;03m# function that gives its value changes by 1*dx:\u001b[39;00m\n\u001b[1;32m   2770\u001b[0m \n\u001b[0;32m   (...)\u001b[0m\n\u001b[1;32m   2774\u001b[0m \u001b[38;5;66;03m# more cycles and a smaller memory footprint instead of no\u001b[39;00m\n\u001b[1;32m   2775\u001b[0m \u001b[38;5;66;03m# cycles and a larger memory footprint.\u001b[39;00m\n",
      "\u001b[0;31mTypeError\u001b[0m: only size-1 arrays can be converted to Python scalars",
      "\nDuring handling of the above exception, another exception occurred:\n",
      "\u001b[0;31mAttributeError\u001b[0m                            Traceback (most recent call last)",
      "Input \u001b[0;32mIn [19]\u001b[0m, in \u001b[0;36m<cell line: 1>\u001b[0;34m()\u001b[0m\n\u001b[0;32m----> 1\u001b[0m c[[\u001b[38;5;124m'\u001b[39m\u001b[38;5;124mcolor\u001b[39m\u001b[38;5;124m'\u001b[39m, \u001b[38;5;124m'\u001b[39m\u001b[38;5;124mcolor_err\u001b[39m\u001b[38;5;124m'\u001b[39m]] \u001b[38;5;241m=\u001b[39m \u001b[43mcolor\u001b[49m\u001b[43m(\u001b[49m\u001b[43mc\u001b[49m\u001b[38;5;241;43m.\u001b[39;49m\u001b[43mphot_bp_mean_mag\u001b[49m\u001b[38;5;241;43m.\u001b[39;49m\u001b[43mvalues\u001b[49m\u001b[38;5;241;43m.\u001b[39;49m\u001b[43mastype\u001b[49m\u001b[43m(\u001b[49m\u001b[38;5;28;43mfloat\u001b[39;49m\u001b[43m)\u001b[49m\u001b[43m,\u001b[49m\u001b[43m \u001b[49m\u001b[43mc\u001b[49m\u001b[38;5;241;43m.\u001b[39;49m\u001b[43mphot_bp_mean_mag_err\u001b[49m\u001b[38;5;241;43m.\u001b[39;49m\u001b[43mvalues\u001b[49m\u001b[43m,\u001b[49m\n\u001b[1;32m      2\u001b[0m \u001b[43m                                  \u001b[49m\u001b[43mc\u001b[49m\u001b[38;5;241;43m.\u001b[39;49m\u001b[43mphot_rp_mean_mag\u001b[49m\u001b[38;5;241;43m.\u001b[39;49m\u001b[43mvalues\u001b[49m\u001b[38;5;241;43m.\u001b[39;49m\u001b[43mastype\u001b[49m\u001b[43m(\u001b[49m\u001b[38;5;28;43mfloat\u001b[39;49m\u001b[43m)\u001b[49m\u001b[43m,\u001b[49m\u001b[43m \u001b[49m\u001b[43mc\u001b[49m\u001b[38;5;241;43m.\u001b[39;49m\u001b[43mphot_rp_mean_mag_err\u001b[49m\u001b[38;5;241;43m.\u001b[39;49m\u001b[43mvalues\u001b[49m\u001b[43m,\u001b[49m\n\u001b[1;32m      3\u001b[0m \u001b[43m                                  \u001b[49m\u001b[43mc\u001b[49m\u001b[43m[\u001b[49m\u001b[38;5;124;43m'\u001b[39;49m\u001b[38;5;124;43mE(BP-RP)\u001b[39;49m\u001b[38;5;124;43m'\u001b[39;49m\u001b[43m]\u001b[49m\u001b[38;5;241;43m.\u001b[39;49m\u001b[43mvalues\u001b[49m\u001b[38;5;241;43m.\u001b[39;49m\u001b[43mastype\u001b[49m\u001b[43m(\u001b[49m\u001b[38;5;28;43mfloat\u001b[39;49m\u001b[43m)\u001b[49m\u001b[43m,\u001b[49m\u001b[43m \u001b[49m\u001b[43mc\u001b[49m\u001b[38;5;241;43m.\u001b[39;49m\u001b[43mreddening_err\u001b[49m\u001b[38;5;241;43m.\u001b[39;49m\u001b[43mvalues\u001b[49m\u001b[43m)\u001b[49m\n",
      "File \u001b[0;32m~/blue/extinction.py:38\u001b[0m, in \u001b[0;36mcolor\u001b[0;34m(bp_mean_mag, bp_mean_mag_err, rp_mean_mag, rp_mean_mag_err, reddening, reddening_err)\u001b[0m\n\u001b[1;32m     32\u001b[0m \u001b[38;5;28;01mdef\u001b[39;00m \u001b[38;5;21mcolor\u001b[39m(bp_mean_mag: np\u001b[38;5;241m.\u001b[39mfloat32,\n\u001b[1;32m     33\u001b[0m           bp_mean_mag_err: np\u001b[38;5;241m.\u001b[39mfloat32,\n\u001b[1;32m     34\u001b[0m           rp_mean_mag: np\u001b[38;5;241m.\u001b[39mfloat32,\n\u001b[1;32m     35\u001b[0m           rp_mean_mag_err: np\u001b[38;5;241m.\u001b[39mfloat32,\n\u001b[1;32m     36\u001b[0m           reddening: np\u001b[38;5;241m.\u001b[39mfloat32,\n\u001b[1;32m     37\u001b[0m           reddening_err: np\u001b[38;5;241m.\u001b[39mfloat32) \u001b[38;5;241m-\u001b[39m\u001b[38;5;241m>\u001b[39m Tuple[np\u001b[38;5;241m.\u001b[39mfloat32, np\u001b[38;5;241m.\u001b[39mfloat32]:\n\u001b[0;32m---> 38\u001b[0m     value \u001b[38;5;241m=\u001b[39m (\u001b[43mufloat\u001b[49m\u001b[43m(\u001b[49m\u001b[43mbp_mean_mag\u001b[49m\u001b[43m,\u001b[49m\u001b[43m \u001b[49m\u001b[43mbp_mean_mag_err\u001b[49m\u001b[43m)\u001b[49m\u001b[38;5;241m-\u001b[39mufloat(rp_mean_mag, rp_mean_mag_err)\u001b[38;5;241m-\u001b[39m\n\u001b[1;32m     39\u001b[0m              ufloat(reddening, reddening_err))\n\u001b[1;32m     40\u001b[0m     \u001b[38;5;28;01mreturn\u001b[39;00m value\u001b[38;5;241m.\u001b[39mnominal_value, value\u001b[38;5;241m.\u001b[39mstd_dev\n",
      "File \u001b[0;32m~/.local/lib/python3.9/site-packages/uncertainties/core.py:3310\u001b[0m, in \u001b[0;36mufloat\u001b[0;34m(nominal_value, std_dev, tag)\u001b[0m\n\u001b[1;32m   3307\u001b[0m     tag_arg \u001b[38;5;241m=\u001b[39m std_dev  \u001b[38;5;66;03m# 2 positional arguments form\u001b[39;00m\n\u001b[1;32m   3309\u001b[0m \u001b[38;5;28;01mtry\u001b[39;00m:\n\u001b[0;32m-> 3310\u001b[0m     final_ufloat \u001b[38;5;241m=\u001b[39m \u001b[43mufloat_obsolete\u001b[49m\u001b[43m(\u001b[49m\u001b[43mnominal_value\u001b[49m\u001b[43m,\u001b[49m\u001b[43m \u001b[49m\u001b[43mtag_arg\u001b[49m\u001b[43m)\u001b[49m\n\u001b[1;32m   3311\u001b[0m \u001b[38;5;28;01mexcept\u001b[39;00m:  \u001b[38;5;66;03m# The input is incorrect, not obsolete\u001b[39;00m\n\u001b[1;32m   3312\u001b[0m     \u001b[38;5;28;01mraise\u001b[39;00m\n",
      "File \u001b[0;32m~/.local/lib/python3.9/site-packages/uncertainties/core.py:3253\u001b[0m, in \u001b[0;36mufloat_obsolete\u001b[0;34m(representation, tag)\u001b[0m\n\u001b[1;32m   3251\u001b[0m     \u001b[38;5;28;01mreturn\u001b[39;00m ufloat(representation[\u001b[38;5;241m0\u001b[39m], representation[\u001b[38;5;241m1\u001b[39m], tag)\n\u001b[1;32m   3252\u001b[0m \u001b[38;5;28;01melse\u001b[39;00m:\n\u001b[0;32m-> 3253\u001b[0m     \u001b[38;5;28;01mreturn\u001b[39;00m \u001b[43mufloat_fromstr\u001b[49m\u001b[43m(\u001b[49m\u001b[43mrepresentation\u001b[49m\u001b[43m,\u001b[49m\u001b[43m \u001b[49m\u001b[43mtag\u001b[49m\u001b[43m)\u001b[49m\n",
      "File \u001b[0;32m~/.local/lib/python3.9/site-packages/uncertainties/core.py:3237\u001b[0m, in \u001b[0;36mufloat_fromstr\u001b[0;34m(representation, tag)\u001b[0m\n\u001b[1;32m   3177\u001b[0m \u001b[38;5;28;01mdef\u001b[39;00m \u001b[38;5;21mufloat_fromstr\u001b[39m(representation, tag\u001b[38;5;241m=\u001b[39m\u001b[38;5;28;01mNone\u001b[39;00m):\n\u001b[1;32m   3178\u001b[0m     \u001b[38;5;124;03m\"\"\"\u001b[39;00m\n\u001b[1;32m   3179\u001b[0m \u001b[38;5;124;03m    Return a new random variable (Variable object) from a string.\u001b[39;00m\n\u001b[1;32m   3180\u001b[0m \n\u001b[0;32m   (...)\u001b[0m\n\u001b[1;32m   3233\u001b[0m \u001b[38;5;124;03m    uncertainty on the last digits of the nominal value).\u001b[39;00m\n\u001b[1;32m   3234\u001b[0m \u001b[38;5;124;03m    \"\"\"\u001b[39;00m\n\u001b[1;32m   3236\u001b[0m     (nominal_value, std_dev) \u001b[38;5;241m=\u001b[39m str_to_number_with_uncert(\n\u001b[0;32m-> 3237\u001b[0m         \u001b[43mrepresentation\u001b[49m\u001b[38;5;241;43m.\u001b[39;49m\u001b[43mstrip\u001b[49m())\n\u001b[1;32m   3239\u001b[0m     \u001b[38;5;28;01mreturn\u001b[39;00m ufloat(nominal_value, std_dev, tag)\n",
      "\u001b[0;31mAttributeError\u001b[0m: 'numpy.ndarray' object has no attribute 'strip'"
     ]
    }
   ],
   "source": [
    "c[['color', 'color_err']] = "
   ]
  },
  {
   "cell_type": "code",
   "execution_count": 11,
   "id": "9e58e00f",
   "metadata": {
    "ExecuteTime": {
     "end_time": "2022-07-12T13:31:49.991130Z",
     "start_time": "2022-07-12T13:31:49.982106Z"
    }
   },
   "outputs": [
    {
     "data": {
      "text/plain": [
       "0.547640404087395"
      ]
     },
     "execution_count": 11,
     "metadata": {},
     "output_type": "execute_result"
    }
   ],
   "source": [
    "c.iloc[0].parallax"
   ]
  },
  {
   "cell_type": "code",
   "execution_count": 12,
   "id": "8168a82e",
   "metadata": {
    "ExecuteTime": {
     "end_time": "2022-07-12T13:31:56.211655Z",
     "start_time": "2022-07-12T13:31:56.196777Z"
    }
   },
   "outputs": [
    {
     "data": {
      "text/plain": [
       "0.12622535"
      ]
     },
     "execution_count": 12,
     "metadata": {},
     "output_type": "execute_result"
    }
   ],
   "source": [
    "c.iloc[0].parallax_error"
   ]
  },
  {
   "cell_type": "code",
   "execution_count": 25,
   "id": "fae1adaf",
   "metadata": {
    "ExecuteTime": {
     "end_time": "2022-07-12T13:38:11.992955Z",
     "start_time": "2022-07-12T13:38:11.983790Z"
    }
   },
   "outputs": [],
   "source": [
    "def absolute_magnitude(g_mean_mag: np.float32,\n",
    "                       g_mean_mag_err: np.float32,\n",
    "                       g_ext: np.float32,\n",
    "                       g_ext_err: np.float32,\n",
    "                       parallax: np.float32,\n",
    "                       parallax_err: np.float32) -> Tuple[np.float32, np.float32]:\n",
    "    value = (ufloat(g_mean_mag, g_mean_mag_err)+\n",
    "             5*log10(ufloat(parallax, parallax_err))-10-ufloat(g_ext, g_ext_err))\n",
    "    return value.nominal_value, value.std_dev"
   ]
  },
  {
   "cell_type": "code",
   "execution_count": 26,
   "id": "1a380520",
   "metadata": {
    "ExecuteTime": {
     "end_time": "2022-07-12T13:42:11.837768Z",
     "start_time": "2022-07-12T13:42:11.827215Z"
    }
   },
   "outputs": [],
   "source": [
    "def color(bp_mean_mag: np.float32,\n",
    "          bp_mean_mag_err: np.float32,\n",
    "          rp_mean_mag: np.float32,\n",
    "          rp_mean_mag_err: np.float32,\n",
    "          reddening: np.float32,\n",
    "          reddening_err: np.float32) -> Tuple[np.float32, np.float32]:\n",
    "    value = (ufloat(bp_mean_mag, bp_mean_mag_err)-ufloat(rp_mean_mag, rp_mean_mag_err)-\n",
    "             ufloat(reddening, reddening_err))\n",
    "    return value.nominal_value, value.std_dev"
   ]
  },
  {
   "cell_type": "code",
   "execution_count": null,
   "id": "454c5170",
   "metadata": {},
   "outputs": [],
   "source": []
  }
 ],
 "metadata": {
  "kernelspec": {
   "display_name": "Python 3 (ipykernel)",
   "language": "python",
   "name": "python3"
  },
  "language_info": {
   "codemirror_mode": {
    "name": "ipython",
    "version": 3
   },
   "file_extension": ".py",
   "mimetype": "text/x-python",
   "name": "python",
   "nbconvert_exporter": "python",
   "pygments_lexer": "ipython3",
   "version": "3.9.13"
  },
  "toc": {
   "base_numbering": 1,
   "nav_menu": {},
   "number_sections": true,
   "sideBar": true,
   "skip_h1_title": false,
   "title_cell": "Table of Contents",
   "title_sidebar": "Contents",
   "toc_cell": false,
   "toc_position": {},
   "toc_section_display": true,
   "toc_window_display": false
  },
  "varInspector": {
   "cols": {
    "lenName": 16,
    "lenType": 16,
    "lenVar": 40
   },
   "kernels_config": {
    "python": {
     "delete_cmd_postfix": "",
     "delete_cmd_prefix": "del ",
     "library": "var_list.py",
     "varRefreshCmd": "print(var_dic_list())"
    },
    "r": {
     "delete_cmd_postfix": ") ",
     "delete_cmd_prefix": "rm(",
     "library": "var_list.r",
     "varRefreshCmd": "cat(var_dic_list()) "
    }
   },
   "types_to_exclude": [
    "module",
    "function",
    "builtin_function_or_method",
    "instance",
    "_Feature"
   ],
   "window_display": false
  }
 },
 "nbformat": 4,
 "nbformat_minor": 5
}
